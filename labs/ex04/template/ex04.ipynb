{
 "cells": [
  {
   "cell_type": "code",
   "execution_count": 1,
   "metadata": {
    "collapsed": true,
    "scrolled": true
   },
   "outputs": [],
   "source": [
    "# Useful starting lines\n",
    "%matplotlib inline\n",
    "import numpy as np\n",
    "import matplotlib.pyplot as plt\n",
    "%load_ext autoreload\n",
    "%autoreload 2"
   ]
  },
  {
   "cell_type": "markdown",
   "metadata": {},
   "source": [
    "# Cross-Validation and Bias-Variance decomposition\n",
    "## Cross-Validation\n",
    "Implementing 4-fold cross-validation below:"
   ]
  },
  {
   "cell_type": "code",
   "execution_count": 2,
   "metadata": {
    "collapsed": true
   },
   "outputs": [],
   "source": [
    "from helpers import load_data\n",
    "\n",
    "# load dataset\n",
    "x, y = load_data()"
   ]
  },
  {
   "cell_type": "code",
   "execution_count": 17,
   "metadata": {
    "collapsed": true
   },
   "outputs": [],
   "source": [
    "def build_k_indices(y, k_fold, seed):\n",
    "    \"\"\"build k indices for k-fold.\"\"\"\n",
    "    num_row = y.shape[0]\n",
    "    interval = int(num_row / k_fold)\n",
    "    np.random.seed(seed)\n",
    "    indices = np.random.permutation(num_row)\n",
    "    k_indices = [indices[k * interval: (k + 1) * interval]\n",
    "                 for k in range(k_fold)]\n",
    "    \n",
    "    print(\"Number of samples in total: \", y.shape[0])\n",
    "    print(\"Number of folds: \",k_fold, \" of\", interval, \"samples.\")\n",
    "    return np.array(k_indices)"
   ]
  },
  {
   "cell_type": "code",
   "execution_count": 24,
   "metadata": {
    "collapsed": true
   },
   "outputs": [],
   "source": [
    "from costs import compute_mse\n",
    "from ridge_regression import ridge_regression\n",
    "from build_polynomial import build_poly\n",
    "\n",
    "def cross_validation(y, x, k_indices, k, lambda_, degree):\n",
    "    \"\"\"return the loss of ridge regression.\"\"\"\n",
    "    \n",
    "    # get k'th subgroup in test, others in train\n",
    "    x_te = x[k_indices[k,:]]\n",
    "    y_te = y[k_indices[k,:]]\n",
    "    x_tr = x[np.union1d(k_indices[:k,:], k_indices[k+1:,:])]\n",
    "    y_tr = y[np.union1d(k_indices[:k,:], k_indices[k+1:,:])]\n",
    "\n",
    "    # build data with polynomial degree\n",
    "    phi_te = build_poly(x_te, degree)\n",
    "    phi_tr = build_poly(x_tr, degree)\n",
    "        \n",
    "    # ridge regression\n",
    "    w_tr = ridge_regression(y_tr, phi_tr, lambda_)\n",
    "    \n",
    "    # calculate the loss for train and test data\n",
    "    rmse_tr = np.sqrt(2*compute_mse(y_tr, phi_tr, w_tr))\n",
    "    rmse_te = np.sqrt(2*compute_mse(y_te, phi_te, w_tr))\n",
    "    \n",
    "    #print(\"Training rmse: \", rmse_tr)\n",
    "    #print(\"Tested rmse: \", rmse_te)\n",
    "\n",
    "    return rmse_tr, rmse_te\n",
    "    raise NotImplementedError"
   ]
  },
  {
   "cell_type": "code",
   "execution_count": 48,
   "metadata": {
    "scrolled": false
   },
   "outputs": [
    {
     "name": "stdout",
     "output_type": "stream",
     "text": [
      "Number of samples in total:  50\n",
      "Number of folds:  4  of 12 samples.\n"
     ]
    },
    {
     "data": {
      "text/plain": [
       "(0.24762195018220401, 0.30323921409183796)"
      ]
     },
     "execution_count": 48,
     "metadata": {},
     "output_type": "execute_result"
    }
   ],
   "source": [
    "seed = 1\n",
    "degree = 5\n",
    "k_fold = 4\n",
    "k=2\n",
    "lambda_ = 0.1\n",
    "\n",
    "k_indices = build_k_indices(y, k_fold, seed)\n",
    "cross_validation(y, x, k_indices, k, lambda_, degree)\n"
   ]
  },
  {
   "cell_type": "markdown",
   "metadata": {},
   "source": [
    "# Lambda optimization (given a fixed degree)"
   ]
  },
  {
   "cell_type": "code",
   "execution_count": 37,
   "metadata": {
    "collapsed": true,
    "scrolled": false
   },
   "outputs": [],
   "source": [
    "from plots import cross_validation_visualization\n",
    "\n",
    "def cross_validation_lambda(degree, lambda_min, lambda_max, k_fold):\n",
    "    \n",
    "    # tested lambdas\n",
    "    lambdas = np.logspace(lambda_min, lambda_max, 30)\n",
    "    \n",
    "    # split data in k fold\n",
    "    seed = 1\n",
    "    k_indices = build_k_indices(y, k_fold, seed)\n",
    "    \n",
    "    # define lists to store the loss of training data and test data\n",
    "    rmse_tr = []\n",
    "    rmse_te = []\n",
    " \n",
    "    for  lambda_ in lambdas:\n",
    "\n",
    "        rmse_tr_all = []\n",
    "        rmse_te_all = []\n",
    "            \n",
    "        for k in range(k_fold):        \n",
    "        \n",
    "            # compute losses for the k'th fold\n",
    "            rmse_tr_tmp, rmse_te_tmp = cross_validation(y, x, k_indices, k, lambda_, degree)\n",
    "\n",
    "            # store losses \n",
    "            rmse_tr_all.append(rmse_tr_tmp)\n",
    "            rmse_te_all.append(rmse_te_tmp)\n",
    "        \n",
    "        # store mean losses\n",
    "        rmse_tr.append(np.mean(rmse_tr_all))\n",
    "        rmse_te.append(np.mean(rmse_te_all))\n",
    "    \n",
    "    # extract the optimal value for lambda\n",
    "    lambda_opt = lambdas[rmse_te.index(min(rmse_te))]\n",
    "    \n",
    "    # plot the training and testing errors for the different values of lambda\n",
    "    cross_validation_visualization(lambdas, rmse_tr, rmse_te)\n",
    "    \n",
    "    return lambda_opt"
   ]
  },
  {
   "cell_type": "code",
   "execution_count": 49,
   "metadata": {},
   "outputs": [
    {
     "name": "stdout",
     "output_type": "stream",
     "text": [
      "Number of samples in total:  50\n",
      "Number of folds:  4  of 12 samples.\n",
      "Optimal lambda:  2.21221629107\n"
     ]
    },
    {
     "data": {
      "image/png": "[encoded data removed]",
      "text/plain": [
       "<matplotlib.figure.Figure at 0xfcb4f1d940>"
      ]
     },
     "metadata": {},
     "output_type": "display_data"
    }
   ],
   "source": [
    "# fixed hyper-parameters\n",
    "degree = 5\n",
    "lambda_min = -4\n",
    "lambda_max = 10\n",
    "k_fold = 4\n",
    "\n",
    "# optimize the value of lambda given its range and the fixed hyper-parameters\n",
    "lambda_opt = cross_validation_lambda(degree, lambda_min, lambda_max, k_fold)\n",
    "\n",
    "print(\"Optimal lambda: \", lambda_opt)"
   ]
  },
  {
   "cell_type": "markdown",
   "metadata": {},
   "source": [
    "# Degree optimization"
   ]
  },
  {
   "cell_type": "code",
   "execution_count": 40,
   "metadata": {
    "collapsed": true
   },
   "outputs": [],
   "source": [
    "from plots import cross_validation_visualization\n",
    "\n",
    "def cross_validation_degree(lambda_, degree_min, degree_max, k_fold):\n",
    "    \n",
    "    # tested degrees\n",
    "    degrees = np.arange(degree_min, degree_max+1)\n",
    "    \n",
    "    # split data in k fold\n",
    "    seed = 1\n",
    "    k_indices = build_k_indices(y, k_fold, seed)\n",
    "    \n",
    "    # define lists to store the loss of training data and test data\n",
    "    rmse_tr = []\n",
    "    rmse_te = []\n",
    " \n",
    "    for  degree in degrees:\n",
    "\n",
    "        rmse_tr_all = []\n",
    "        rmse_te_all = []\n",
    "            \n",
    "        for k in range(k_fold):        \n",
    "        \n",
    "            # compute losses for the k'th fold\n",
    "            rmse_tr_tmp, rmse_te_tmp = cross_validation(y, x, k_indices, k, lambda_, degree)\n",
    "\n",
    "            # store losses \n",
    "            rmse_tr_all.append(rmse_tr_tmp)\n",
    "            rmse_te_all.append(rmse_te_tmp)\n",
    "        \n",
    "        # store mean losses\n",
    "        rmse_tr.append(np.mean(rmse_tr_all))\n",
    "        rmse_te.append(np.mean(rmse_te_all))\n",
    "    \n",
    "    # extract the optimal degree between 'degree_min' and 'degree_max'\n",
    "    degree_opt = degrees[rmse_te.index(min(rmse_te))]\n",
    "    \n",
    "    # plot the training and testing errors for the different degrees\n",
    "    cross_validation_visualization(degrees, rmse_tr, rmse_te)\n",
    "    \n",
    "    return degree_opt"
   ]
  },
  {
   "cell_type": "code",
   "execution_count": 47,
   "metadata": {},
   "outputs": [
    {
     "name": "stdout",
     "output_type": "stream",
     "text": [
      "Number of samples in total:  50\n",
      "Number of folds:  4  of 12 samples.\n",
      "Optimal degree:  7\n"
     ]
    },
    {
     "data": {
      "image/png": "[encoded data removed]",
      "text/plain": [
       "<matplotlib.figure.Figure at 0xfcb314b550>"
      ]
     },
     "metadata": {},
     "output_type": "display_data"
    }
   ],
   "source": [
    "# fixed hyper-parameters\n",
    "lambda_ = 0.2\n",
    "degree_min = 1\n",
    "degree_max = 15\n",
    "k_fold = 4\n",
    "\n",
    "# optimize degree given its range and the fixed hyper-parameters\n",
    "degree_opt = cross_validation_degree(lambda_, degree_min, degree_max, k_fold)\n",
    "\n",
    "print(\"Optimal degree: \", degree_opt)"
   ]
  },
  {
   "cell_type": "markdown",
   "metadata": {},
   "source": [
    "# Variance of RMSE "
   ]
  },
  {
   "cell_type": "code",
   "execution_count": 81,
   "metadata": {
    "collapsed": true
   },
   "outputs": [],
   "source": [
    "from plots import cross_validation_visualization\n",
    "\n",
    "def cross_validation_var_rmse(lambda_, degree, k_fold):\n",
    "    \n",
    "    # split data in k fold\n",
    "    seed = 1\n",
    "    k_indices = build_k_indices(y, k_fold, seed)\n",
    "    \n",
    "    # define lists to store the loss of training data and test data\n",
    "    rmse_tr_all = []\n",
    "    rmse_te_all = []\n",
    "         \n",
    "    for k in range(k_fold):        \n",
    "        \n",
    "        # compute losses for the k'th fold\n",
    "        rmse_tr_tmp, rmse_te_tmp = cross_validation(y, x, k_indices, k, lambda_, degree)\n",
    "\n",
    "        # store losses \n",
    "        rmse_tr_all.append(rmse_tr_tmp)\n",
    "        rmse_te_all.append(rmse_te_tmp)\n",
    "        \n",
    "    # store mean losses\n",
    "    std_rmse_tr = np.std(rmse_tr_all)\n",
    "    std_rmse_te = np.std(rmse_te_all)\n",
    "    \n",
    "    # boxplot of the training and testing rmse\n",
    "    plt.figure()\n",
    "    plt.boxplot(np.column_stack((np.array(rmse_tr_all), np.array(rmse_te_all))), labels=['training rmse','testing rmse'])\n",
    "    \n",
    "    return std_rmse_tr, std_rmse_te"
   ]
  },
  {
   "cell_type": "code",
   "execution_count": 85,
   "metadata": {},
   "outputs": [
    {
     "name": "stdout",
     "output_type": "stream",
     "text": [
      "Number of samples in total:  50\n",
      "Number of folds:  5  of 10 samples.\n",
      "Variance rmse for training:  0.000121958622387\n",
      "Variance rmse for testing:  0.00269475709836\n"
     ]
    },
    {
     "data": {
      "image/png": "[encoded data removed]",
      "text/plain": [
       "<matplotlib.figure.Figure at 0xfcb310e0f0>"
      ]
     },
     "metadata": {},
     "output_type": "display_data"
    }
   ],
   "source": [
    "# fixed hyper-parameters\n",
    "lambda_ = 2\n",
    "degree = 5\n",
    "k_fold = 5\n",
    "\n",
    "# estimate the training and testing rmse variances \n",
    "std_rmse_tr, std_rmse_te = cross_validation_var_rmse(lambda_, degree, k_fold)\n",
    "\n",
    "print(\"Variance rmse for training: \", std_rmse_tr**2)\n",
    "print(\"Variance rmse for testing: \", std_rmse_te**2)"
   ]
  },
  {
   "cell_type": "markdown",
   "metadata": {},
   "source": [
    "## Bias-Variance Decomposition\n",
    "Visualize bias-variance trade-off by implementing the function `bias_variance_demo()` below:"
   ]
  },
  {
   "cell_type": "code",
   "execution_count": 144,
   "metadata": {},
   "outputs": [
    {
     "name": "stdout",
     "output_type": "stream",
     "text": [
      "sum of the training error variances over the degree:  2.85410008347e-05\n",
      "sum of the testing error variances over the degree:  0.000122260504197\n"
     ]
    },
    {
     "data": {
      "image/png": "[encoded data removed]",
      "text/plain": [
       "<matplotlib.figure.Figure at 0xfcb3550470>"
      ]
     },
     "metadata": {},
     "output_type": "display_data"
    }
   ],
   "source": [
    "from least_squares import least_squares\n",
    "from split_data import split_data\n",
    "from plots import bias_variance_decomposition_visualization\n",
    "\n",
    "def bias_variance_demo():\n",
    "    \"\"\"The entry.\"\"\"\n",
    "    \n",
    "    # define parameters\n",
    "    seeds = range(100)\n",
    "    num_data = 1000\n",
    "    ratio_train = 0.005\n",
    "    degrees = range(1, 10)\n",
    "    ratio = 0.8\n",
    "    \n",
    "    # define list to store the variable\n",
    "    rmse_tr = np.empty((len(seeds), len(degrees)))\n",
    "    rmse_te = np.empty((len(seeds), len(degrees)))\n",
    "    \n",
    "    for index_seed, seed in enumerate(seeds):\n",
    "        \n",
    "        # set the seed\n",
    "        np.random.seed(seed)\n",
    "        x = np.linspace(0.1, 2 * np.pi, num_data)\n",
    "        y = np.sin(x) + 0.3 * np.random.randn(num_data).T\n",
    "\n",
    "        # split data with a specific seed\n",
    "        x_tr, y_tr, x_te, y_te = split_data(x, y, ratio)\n",
    "\n",
    "        # bias_variance_decomposition\n",
    "        \n",
    "        for index_degree, degree in enumerate(degrees):\n",
    "            \n",
    "            # build data with polynomial degree\n",
    "            phi_te = build_poly(x_te, degree)\n",
    "            phi_tr = build_poly(x_tr, degree)\n",
    "        \n",
    "            # regression\n",
    "            w = least_squares(y_tr, phi_tr)\n",
    "            #lambda_ =0.1\n",
    "            #w = ridge_regression(y_tr, phi_tr,lambda_)\n",
    "    \n",
    "            # calculate the loss for train and test data\n",
    "            rmse_tr_tmp = np.sqrt(2*compute_mse(y_tr, phi_tr, w))\n",
    "            rmse_te_tmp = np.sqrt(2*compute_mse(y_te, phi_te, w))\n",
    "            \n",
    "            # store losses\n",
    "            rmse_tr[index_seed, index_degree] = rmse_tr_tmp\n",
    "            rmse_te[index_seed, index_degree] = rmse_te_tmp\n",
    "\n",
    "    # variance of the errors\n",
    "    var_rmse_tr = np.std(rmse_tr, axis=0)**2\n",
    "    var_rmse_te = np.std(rmse_te, axis=0)**2\n",
    "    print(\"sum of the training error variances over the degree: \", sum(var_rmse_tr))\n",
    "    print(\"sum of the testing error variances over the degree: \", sum(var_rmse_te))\n",
    "\n",
    "    bias_variance_decomposition_visualization(degrees, rmse_tr, rmse_te)\n",
    "\n",
    "bias_variance_demo()"
   ]
  },
  {
   "cell_type": "markdown",
   "metadata": {},
   "source": [
    "Given a certain degree, the variance of the different test errors (regression on different training and tested sets) decrease with the number of data. It goes directly from the Chebychev inequality seen in the lecture. "
   ]
  },
  {
   "cell_type": "raw",
   "metadata": {},
   "source": [
    "numdata = 50\n",
    "ridge regression\n",
    "sum of the training error variances over the degree:  0.0102932456472\n",
    "sum of the testing error variances over the degree:  0.0496940835439\n",
    "\n",
    "numdata = 50\n",
    "least squared\n",
    "sum of the training error variances over the degree:  0.0104917344399\n",
    "sum of the testing error variances over the degree:  0.0706456633766\n",
    "-------------------------------------------------------------------------------\n",
    "numdata = 200\n",
    "ridge regression\n",
    "sum of the training error variances over the degree:  0.00263251360327\n",
    "sum of the testing error variances over the degree:  0.0124402272165\n",
    "\n",
    "numdata = 200\n",
    "least squared\n",
    "sum of the training error variances over the degree:  0.00262070862659\n",
    "sum of the testing error variances over the degree:  0.0124856169514\n",
    "-------------------------------------------------------------------------------\n",
    "numdata = 20000\n",
    "ridge regression\n",
    "sum of the training error variances over the degree:  2.85482945291e-05\n",
    "sum of the testing error variances over the degree:  0.000122272490082\n",
    "\n",
    "numdata = 20000\n",
    "least squared\n",
    "sum of the training error variances over the degree:  2.85410008347e-05\n",
    "sum of the testing error variances over the degree:  0.000122260504197"
   ]
  },
  {
   "cell_type": "markdown",
   "metadata": {},
   "source": [
    "#### Conclusion: \n",
    "Ridge regression avoids over fitting when the number of samples is high, leading to a less testing error variance than which computed with least squared.\n",
    "This is less true when the number of data increase: least square and ridge regression lead to the same testing error variances. "
   ]
  },
  {
   "cell_type": "code",
   "execution_count": 120,
   "metadata": {},
   "outputs": [
    {
     "name": "stdout",
     "output_type": "stream",
     "text": [
      "[[ 0.2  0.3  0.4]\n",
      " [ 0.5  1.   0.7]]\n",
      "[ 0.15  0.35  0.15]\n"
     ]
    }
   ],
   "source": [
    "a= np.empty((2, 3))\n",
    "a[1,1]= 1\n",
    "print(a)\n",
    "print(np.std(a, axis=0))"
   ]
  },
  {
   "cell_type": "code",
   "execution_count": null,
   "metadata": {
    "collapsed": true
   },
   "outputs": [],
   "source": []
  }
 ],
 "metadata": {
  "anaconda-cloud": {},
  "kernelspec": {
   "display_name": "Python 3",
   "language": "python",
   "name": "python3"
  },
  "language_info": {
   "codemirror_mode": {
    "name": "ipython",
    "version": 3
   },
   "file_extension": ".py",
   "mimetype": "text/x-python",
   "name": "python",
   "nbconvert_exporter": "python",
   "pygments_lexer": "ipython3",
   "version": "3.6.1"
  }
 },
 "nbformat": 4,
 "nbformat_minor": 1
}
