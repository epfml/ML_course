{
  "cells": [
    {
      "cell_type": "code",
      "execution_count": 1,
      "metadata": {
        "id": "w5wDQUc7mhX_"
      },
      "outputs": [],
      "source": [
        "%matplotlib inline\n",
        "import numpy as np\n",
        "import matplotlib.pyplot as plt\n",
        "%load_ext autoreload\n",
        "%autoreload 2"
      ]
    },
    {
      "cell_type": "markdown",
      "metadata": {
        "id": "TYyZPqnPmhYC"
      },
      "source": [
        "Data Generation\n",
        "==="
      ]
    },
    {
      "cell_type": "code",
      "execution_count": 2,
      "metadata": {
        "id": "5SkjOfbLmhYF"
      },
      "outputs": [],
      "source": [
        "from numpy.random import rand, randn"
      ]
    },
    {
      "cell_type": "code",
      "execution_count": 11,
      "metadata": {
        "collapsed": true,
        "id": "9_5yhFsomhYF"
      },
      "outputs": [],
      "source": [
        "n, d, k = 100, 2, 2"
      ]
    },
    {
      "cell_type": "code",
      "execution_count": 12,
      "metadata": {
        "colab": {
          "base_uri": "https://localhost:8080/"
        },
        "id": "f3_GvVLtmhYG",
        "outputId": "75d9171a-e739-4a79-cb3f-82e649065400"
      },
      "outputs": [
        {
          "output_type": "stream",
          "name": "stdout",
          "text": [
            "[array([0.69872366, 0.75176984]), array([0.25997411, 0.14504062])]\n",
            "[array([[0.01764816, 0.        ],\n",
            "       [0.        , 0.06360523]]), array([[0.01764816, 0.        ],\n",
            "       [0.        , 0.06360523]])]\n"
          ]
        }
      ],
      "source": [
        "np.random.seed(20)\n",
        "X = rand(n, d)\n",
        "\n",
        "# means = [rand(d)  for _ in range(k)]  # works for any k\n",
        "means = [rand(d) * 0.5 + 0.5 , - rand(d)  * 0.5 + 0.5]  # for better plotting when k = 2\n",
        "\n",
        "S = np.diag(rand(d))\n",
        "\n",
        "sigmas = [S]*k # we'll use the same Sigma for all clusters for better visual results\n",
        "\n",
        "print(means)\n",
        "print(sigmas)"
      ]
    },
    {
      "cell_type": "markdown",
      "metadata": {
        "id": "VsIOpA8QmhYI"
      },
      "source": [
        "Solution\n",
        "==="
      ]
    },
    {
      "cell_type": "code",
      "execution_count": 19,
      "metadata": {
        "scrolled": true,
        "id": "l1_Wz8VzmhYJ"
      },
      "outputs": [],
      "source": [
        "def compute_log_p(X, mean, sigma):\n",
        "    d = X.shape[1]\n",
        "    dxm = X - mean\n",
        "    exponent = -0.5 * np.sum(dxm * np.dot(dxm, np.linalg.inv(sigma)), axis=1)\n",
        "    return exponent - np.log(2 * np.pi) * (d / 2) - 0.5 * np.log(np.linalg.det(sigma))"
      ]
    },
    {
      "cell_type": "code",
      "execution_count": 20,
      "metadata": {
        "id": "K2gyUa1xmhYK"
      },
      "outputs": [],
      "source": [
        "log_ps = [compute_log_p(X, m, s) for m, s in zip(means, sigmas)]  # exercise: try to do this without looping"
      ]
    },
    {
      "cell_type": "code",
      "execution_count": 15,
      "metadata": {
        "colab": {
          "base_uri": "https://localhost:8080/"
        },
        "id": "mkb79LkdmhYL",
        "outputId": "f9ac8d48-c4a3-4076-ee26-00651df16019"
      },
      "outputs": [
        {
          "output_type": "stream",
          "name": "stdout",
          "text": [
            "[0 0 1 1 0 1 0 0 1 1 0 1 0 0 0 0 1 0 1 1 0 1 1 1 0 0 0 0 0 1 1 0 0 1 1 0 0\n",
            " 1 0 1 1 1 1 0 1 0 1 0 0 0 0 1 0 1 1 0 0 0 0 1 0 1 0 0 1 0 0 0 1 0 1 0 0 1\n",
            " 0 1 1 0 0 1 1 0 0 0 0 1 0 0 0 0 0 1 0 1 0 0 0 1 0 0]\n"
          ]
        }
      ],
      "source": [
        "assignments = np.argmax(log_ps, axis=0)\n",
        "print(assignments)"
      ]
    },
    {
      "cell_type": "code",
      "execution_count": 16,
      "metadata": {
        "scrolled": true,
        "colab": {
          "base_uri": "https://localhost:8080/",
          "height": 265
        },
        "id": "eaG5RNRzmhYM",
        "outputId": "a955992e-1480-4dd5-b50f-5903cebec2c8"
      },
      "outputs": [
        {
          "output_type": "display_data",
          "data": {
            "text/plain": [
              "<Figure size 432x288 with 1 Axes>"
            ],
            "image/png": "[encoded data removed]"
          },
          "metadata": {
            "needs_background": "light"
          }
        }
      ],
      "source": [
        "colors = np.array(['red', 'green'])[assignments]\n",
        "plt.scatter(X[:, 0], X[:, 1], c=colors, s=100)\n",
        "plt.scatter(np.array(means)[:, 0], np.array(means)[:, 1], marker='*', s=200)\n",
        "plt.show()"
      ]
    },
    {
      "cell_type": "code",
      "source": [],
      "metadata": {
        "id": "IPdYw0Tfr1Be"
      },
      "execution_count": null,
      "outputs": []
    }
  ],
  "metadata": {
    "kernelspec": {
      "display_name": "Python 3",
      "language": "python",
      "name": "python3"
    },
    "language_info": {
      "codemirror_mode": {
        "name": "ipython",
        "version": 3
      },
      "file_extension": ".py",
      "mimetype": "text/x-python",
      "name": "python",
      "nbconvert_exporter": "python",
      "pygments_lexer": "ipython3",
      "version": "3.6.1"
    },
    "colab": {
      "provenance": [],
      "collapsed_sections": []
    }
  },
  "nbformat": 4,
  "nbformat_minor": 0
}