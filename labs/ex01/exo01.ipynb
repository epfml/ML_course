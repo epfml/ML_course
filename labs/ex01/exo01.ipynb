{
 "cells": [
  {
   "cell_type": "code",
   "execution_count": 1,
   "id": "ee2e4d0e-590a-4301-b880-577f4ba5770f",
   "metadata": {},
   "outputs": [],
   "source": [
    "# Useful starting lines\n",
    "%matplotlib inline\n",
    "import numpy as np\n",
    "import matplotlib.pyplot as plt\n",
    "%load_ext autoreload\n",
    "%autoreload 2"
   ]
  },
  {
   "cell_type": "markdown",
   "id": "f87d2b1f-0706-4e39-8273-6b8c265a63dc",
   "metadata": {},
   "source": [
    "## Standardize"
   ]
  },
  {
   "cell_type": "code",
   "execution_count": 2,
   "id": "f0c9701d-45e6-4128-a416-6a33e2fe633f",
   "metadata": {},
   "outputs": [],
   "source": [
    "def standardize(x: np.array):\n",
    "    return (x - np.mean(x, axis=0)) / np.std(x, axis=0)"
   ]
  },
  {
   "cell_type": "code",
   "execution_count": 3,
   "id": "707963a1-fc85-438e-9136-f669c94c6cdd",
   "metadata": {},
   "outputs": [],
   "source": [
    "x = np.random.randint(5, size=[4,4])"
   ]
  },
  {
   "cell_type": "code",
   "execution_count": 4,
   "id": "32cd29cd-0560-4ab9-9f90-89633424a91b",
   "metadata": {},
   "outputs": [
    {
     "data": {
      "text/plain": [
       "array([[2, 0, 4, 0],\n",
       "       [2, 1, 3, 0],\n",
       "       [0, 2, 3, 4],\n",
       "       [2, 2, 0, 3]])"
      ]
     },
     "execution_count": 4,
     "metadata": {},
     "output_type": "execute_result"
    }
   ],
   "source": [
    "x"
   ]
  },
  {
   "cell_type": "code",
   "execution_count": 5,
   "id": "c16e8e68-77e6-4643-80dc-1e479fa299ff",
   "metadata": {},
   "outputs": [
    {
     "data": {
      "text/plain": [
       "array([[ 0.57735027, -1.50755672,  1.        , -0.98019606],\n",
       "       [ 0.57735027, -0.30151134,  0.33333333, -0.98019606],\n",
       "       [-1.73205081,  0.90453403,  0.33333333,  1.26025208],\n",
       "       [ 0.57735027,  0.90453403, -1.66666667,  0.70014004]])"
      ]
     },
     "execution_count": 5,
     "metadata": {},
     "output_type": "execute_result"
    }
   ],
   "source": [
    "standardize(x)"
   ]
  },
  {
   "cell_type": "markdown",
   "id": "63825a9b-1c73-497e-aff0-33d2579e74fd",
   "metadata": {},
   "source": [
    "## Pairwise distance"
   ]
  },
  {
   "cell_type": "code",
   "execution_count": 6,
   "id": "a1a0992b-ce53-4c60-a5fd-a6ae273df2fa",
   "metadata": {},
   "outputs": [],
   "source": [
    "def pairwise_dist(p, q):\n",
    "    \n",
    "    if p.shape[0] > q.shape[0]:\n",
    "        p_flat = p[:q.shape[0], :].flatten()\n",
    "        q_flat = q.flatten()\n",
    "        shape = q.shape[0]\n",
    "        \n",
    "    elif p.shape[0] < q.shape[0]:\n",
    "        q_flat = q[:p.shape[0], :].flatten()\n",
    "        p_flat = p.flatten()\n",
    "        shape = p.shape[0]\n",
    "    \n",
    "    d =  (q_flat - p_flat)**2\n",
    "    d = d.reshape(shape,2)\n",
    "    d = np.sqrt(np.sum(d, axis=1))\n",
    "    return d\n"
   ]
  },
  {
   "cell_type": "code",
   "execution_count": 7,
   "id": "264d9889-016b-46e3-8a8d-52dbd0edee8c",
   "metadata": {},
   "outputs": [],
   "source": [
    "p = np.random.randint(10, size=[10,2])"
   ]
  },
  {
   "cell_type": "code",
   "execution_count": 8,
   "id": "c39bd974-0e06-41f8-be9f-9ec98a2d6594",
   "metadata": {},
   "outputs": [],
   "source": [
    "q = np.random.randint(10, size=[9,2])"
   ]
  },
  {
   "cell_type": "code",
   "execution_count": 9,
   "id": "0ed25cd4-e6cd-4fd7-9328-43c0db4deb37",
   "metadata": {},
   "outputs": [
    {
     "data": {
      "text/plain": [
       "array([[9, 5],\n",
       "       [9, 4],\n",
       "       [1, 1],\n",
       "       [8, 4],\n",
       "       [9, 3],\n",
       "       [3, 0],\n",
       "       [7, 7],\n",
       "       [4, 9],\n",
       "       [4, 4],\n",
       "       [3, 3]])"
      ]
     },
     "execution_count": 9,
     "metadata": {},
     "output_type": "execute_result"
    }
   ],
   "source": [
    "p"
   ]
  },
  {
   "cell_type": "code",
   "execution_count": 10,
   "id": "e5a44199-1cce-4608-8408-cf16edf1e2e8",
   "metadata": {},
   "outputs": [
    {
     "data": {
      "text/plain": [
       "array([[8, 7],\n",
       "       [5, 2],\n",
       "       [9, 9],\n",
       "       [6, 8],\n",
       "       [7, 3],\n",
       "       [3, 1],\n",
       "       [6, 9],\n",
       "       [5, 0],\n",
       "       [1, 2]])"
      ]
     },
     "execution_count": 10,
     "metadata": {},
     "output_type": "execute_result"
    }
   ],
   "source": [
    "q"
   ]
  },
  {
   "cell_type": "code",
   "execution_count": 11,
   "id": "543b4d69-7090-4b4b-a7ed-0cb69305ab03",
   "metadata": {},
   "outputs": [
    {
     "data": {
      "text/plain": [
       "array([ 2.23606798,  4.47213595, 11.3137085 ,  4.47213595,  2.        ,\n",
       "        1.        ,  2.23606798,  9.05538514,  3.60555128])"
      ]
     },
     "execution_count": 11,
     "metadata": {},
     "output_type": "execute_result"
    }
   ],
   "source": [
    "pairwise_dist(p,q)"
   ]
  },
  {
   "cell_type": "markdown",
   "id": "e7738255-ddfc-435b-bb42-730b99988245",
   "metadata": {},
   "source": [
    "## Max likelihood"
   ]
  },
  {
   "cell_type": "code",
   "execution_count": 16,
   "id": "56eb9b80-c423-4bcb-bafc-cb6711d56c63",
   "metadata": {},
   "outputs": [],
   "source": [
    "class distribution:\n",
    "    def __init__(self, x, mu, sigma):\n",
    "        \n",
    "       "
   ]
  },
  {
   "cell_type": "code",
   "execution_count": 17,
   "id": "a5e84df4-39d9-4a17-90ad-a6997c4fee02",
   "metadata": {},
   "outputs": [
    {
     "name": "stderr",
     "output_type": "stream",
     "text": [
      "C:\\Users\\Cyril\\AppData\\Local\\Temp\\ipykernel_13980\\1745621673.py:4: RuntimeWarning: divide by zero encountered in double_scalars\n",
      "  constant = 1 / ((np.pi)**(x.shape[0]) * np.linalg.det(sigma)**0.5 )\n"
     ]
    },
    {
     "ename": "LinAlgError",
     "evalue": "Singular matrix",
     "output_type": "error",
     "traceback": [
      "\u001b[1;31m---------------------------------------------------------------------------\u001b[0m",
      "\u001b[1;31mLinAlgError\u001b[0m                               Traceback (most recent call last)",
      "Cell \u001b[1;32mIn [17], line 3\u001b[0m\n\u001b[0;32m      1\u001b[0m x \u001b[38;5;241m=\u001b[39m np\u001b[38;5;241m.\u001b[39mrandom\u001b[38;5;241m.\u001b[39mrandint(\u001b[38;5;241m1\u001b[39m, size \u001b[38;5;241m=\u001b[39m [\u001b[38;5;241m4\u001b[39m,\u001b[38;5;241m4\u001b[39m])\n\u001b[1;32m----> 3\u001b[0m p1 \u001b[38;5;241m=\u001b[39m \u001b[43mdistribution\u001b[49m\u001b[43m(\u001b[49m\u001b[43mx\u001b[49m\u001b[43m,\u001b[49m\u001b[43mx\u001b[49m\u001b[43m,\u001b[49m\u001b[43mx\u001b[49m\u001b[43m)\u001b[49m\n",
      "Cell \u001b[1;32mIn [16], line 6\u001b[0m, in \u001b[0;36mdistribution.__init__\u001b[1;34m(self, x, mu, sigma)\u001b[0m\n\u001b[0;32m      2\u001b[0m \u001b[38;5;28;01mdef\u001b[39;00m \u001b[38;5;21m__init__\u001b[39m(\u001b[38;5;28mself\u001b[39m, x, mu, sigma):\n\u001b[0;32m      4\u001b[0m     constant \u001b[38;5;241m=\u001b[39m \u001b[38;5;241m1\u001b[39m \u001b[38;5;241m/\u001b[39m ((np\u001b[38;5;241m.\u001b[39mpi)\u001b[38;5;241m*\u001b[39m\u001b[38;5;241m*\u001b[39m(x\u001b[38;5;241m.\u001b[39mshape[\u001b[38;5;241m0\u001b[39m]) \u001b[38;5;241m*\u001b[39m np\u001b[38;5;241m.\u001b[39mlinalg\u001b[38;5;241m.\u001b[39mdet(sigma)\u001b[38;5;241m*\u001b[39m\u001b[38;5;241m*\u001b[39m\u001b[38;5;241m0.5\u001b[39m )   \n\u001b[1;32m----> 6\u001b[0m     \u001b[38;5;28mself\u001b[39m\u001b[38;5;241m.\u001b[39mp \u001b[38;5;241m=\u001b[39m constant \u001b[38;5;241m*\u001b[39m np\u001b[38;5;241m.\u001b[39mexp(\u001b[38;5;241m-\u001b[39m\u001b[38;5;241m1\u001b[39m\u001b[38;5;241m/\u001b[39m\u001b[38;5;241m2\u001b[39m \u001b[38;5;241m*\u001b[39m (x \u001b[38;5;241m-\u001b[39m mu)\u001b[38;5;241m.\u001b[39mT \u001b[38;5;241m*\u001b[39m \u001b[43mnp\u001b[49m\u001b[38;5;241;43m.\u001b[39;49m\u001b[43mlinalg\u001b[49m\u001b[38;5;241;43m.\u001b[39;49m\u001b[43minv\u001b[49m\u001b[43m(\u001b[49m\u001b[43msigma\u001b[49m\u001b[43m)\u001b[49m \u001b[38;5;241m*\u001b[39m (x\u001b[38;5;241m-\u001b[39mmu))\n",
      "File \u001b[1;32m<__array_function__ internals>:180\u001b[0m, in \u001b[0;36minv\u001b[1;34m(*args, **kwargs)\u001b[0m\n",
      "File \u001b[1;32m~\\anaconda3\\envs\\EPFL-ML\\lib\\site-packages\\numpy\\linalg\\linalg.py:552\u001b[0m, in \u001b[0;36minv\u001b[1;34m(a)\u001b[0m\n\u001b[0;32m    550\u001b[0m signature \u001b[38;5;241m=\u001b[39m \u001b[38;5;124m'\u001b[39m\u001b[38;5;124mD->D\u001b[39m\u001b[38;5;124m'\u001b[39m \u001b[38;5;28;01mif\u001b[39;00m isComplexType(t) \u001b[38;5;28;01melse\u001b[39;00m \u001b[38;5;124m'\u001b[39m\u001b[38;5;124md->d\u001b[39m\u001b[38;5;124m'\u001b[39m\n\u001b[0;32m    551\u001b[0m extobj \u001b[38;5;241m=\u001b[39m get_linalg_error_extobj(_raise_linalgerror_singular)\n\u001b[1;32m--> 552\u001b[0m ainv \u001b[38;5;241m=\u001b[39m \u001b[43m_umath_linalg\u001b[49m\u001b[38;5;241;43m.\u001b[39;49m\u001b[43minv\u001b[49m\u001b[43m(\u001b[49m\u001b[43ma\u001b[49m\u001b[43m,\u001b[49m\u001b[43m \u001b[49m\u001b[43msignature\u001b[49m\u001b[38;5;241;43m=\u001b[39;49m\u001b[43msignature\u001b[49m\u001b[43m,\u001b[49m\u001b[43m \u001b[49m\u001b[43mextobj\u001b[49m\u001b[38;5;241;43m=\u001b[39;49m\u001b[43mextobj\u001b[49m\u001b[43m)\u001b[49m\n\u001b[0;32m    553\u001b[0m \u001b[38;5;28;01mreturn\u001b[39;00m wrap(ainv\u001b[38;5;241m.\u001b[39mastype(result_t, copy\u001b[38;5;241m=\u001b[39m\u001b[38;5;28;01mFalse\u001b[39;00m))\n",
      "File \u001b[1;32m~\\anaconda3\\envs\\EPFL-ML\\lib\\site-packages\\numpy\\linalg\\linalg.py:89\u001b[0m, in \u001b[0;36m_raise_linalgerror_singular\u001b[1;34m(err, flag)\u001b[0m\n\u001b[0;32m     88\u001b[0m \u001b[38;5;28;01mdef\u001b[39;00m \u001b[38;5;21m_raise_linalgerror_singular\u001b[39m(err, flag):\n\u001b[1;32m---> 89\u001b[0m     \u001b[38;5;28;01mraise\u001b[39;00m LinAlgError(\u001b[38;5;124m\"\u001b[39m\u001b[38;5;124mSingular matrix\u001b[39m\u001b[38;5;124m\"\u001b[39m)\n",
      "\u001b[1;31mLinAlgError\u001b[0m: Singular matrix"
     ]
    }
   ],
   "source": [
    "x = np.random.randint(1, size = [4,4])\n",
    "\n",
    "p1 = distribution(x,x,x)"
   ]
  },
  {
   "cell_type": "code",
   "execution_count": null,
   "id": "464b5dd7-8dc3-434d-84f5-08cfb8993c94",
   "metadata": {},
   "outputs": [],
   "source": [
    "def max_lh(x, theta1, theta2):\n",
    "    \n",
    "    p1 = distribution(x, theta1[0], theta1[1]).p\n",
    "    p2 = distribution(x, theta2[0], theta1[1]).p\n",
    "    \n",
    "    a_n = np.argmax([p1, p2])\n",
    "    if a_n != 1 or a_n != 2:\n",
    "        raise RuntimeError(\"No best likelihood was found\")\n",
    "    return a_n"
   ]
  },
  {
   "cell_type": "code",
   "execution_count": null,
   "id": "e7591d51-410f-419d-8773-619c88b040d0",
   "metadata": {},
   "outputs": [],
   "source": []
  }
 ],
 "metadata": {
  "kernelspec": {
   "display_name": "Python 3 (ipykernel)",
   "language": "python",
   "name": "python3"
  },
  "language_info": {
   "codemirror_mode": {
    "name": "ipython",
    "version": 3
   },
   "file_extension": ".py",
   "mimetype": "text/x-python",
   "name": "python",
   "nbconvert_exporter": "python",
   "pygments_lexer": "ipython3",
   "version": "3.8.13"
  }
 },
 "nbformat": 4,
 "nbformat_minor": 5
}
