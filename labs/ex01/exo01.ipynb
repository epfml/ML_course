{
 "cells": [
  {
   "cell_type": "code",
   "execution_count": 1,
   "id": "ee2e4d0e-590a-4301-b880-577f4ba5770f",
   "metadata": {},
   "outputs": [],
   "source": [
    "# Useful starting lines\n",
    "%matplotlib inline\n",
    "import numpy as np\n",
    "import matplotlib.pyplot as plt\n",
    "%load_ext autoreload\n",
    "%autoreload 2"
   ]
  },
  {
   "cell_type": "markdown",
   "id": "f87d2b1f-0706-4e39-8273-6b8c265a63dc",
   "metadata": {},
   "source": [
    "## Standardize"
   ]
  },
  {
   "cell_type": "code",
   "execution_count": 2,
   "id": "f0c9701d-45e6-4128-a416-6a33e2fe633f",
   "metadata": {},
   "outputs": [],
   "source": [
    "def standardize(x: np.array):\n",
    "    return (x - np.mean(x, axis=0)) / np.std(x, axis=0)"
   ]
  },
  {
   "cell_type": "code",
   "execution_count": 3,
   "id": "707963a1-fc85-438e-9136-f669c94c6cdd",
   "metadata": {},
   "outputs": [],
   "source": [
    "x = np.random.randint(5, size=[4,4])"
   ]
  },
  {
   "cell_type": "code",
   "execution_count": 4,
   "id": "32cd29cd-0560-4ab9-9f90-89633424a91b",
   "metadata": {},
   "outputs": [
    {
     "data": {
      "text/plain": [
       "array([[4, 2, 4, 2],\n",
       "       [0, 1, 1, 3],\n",
       "       [4, 1, 0, 3],\n",
       "       [3, 0, 3, 2]])"
      ]
     },
     "execution_count": 4,
     "metadata": {},
     "output_type": "execute_result"
    }
   ],
   "source": [
    "x"
   ]
  },
  {
   "cell_type": "code",
   "execution_count": 5,
   "id": "c16e8e68-77e6-4643-80dc-1e479fa299ff",
   "metadata": {},
   "outputs": [
    {
     "data": {
      "text/plain": [
       "array([[ 0.76249285,  1.41421356,  1.26491106, -1.        ],\n",
       "       [-1.67748427,  0.        , -0.63245553,  1.        ],\n",
       "       [ 0.76249285,  0.        , -1.26491106,  1.        ],\n",
       "       [ 0.15249857, -1.41421356,  0.63245553, -1.        ]])"
      ]
     },
     "execution_count": 5,
     "metadata": {},
     "output_type": "execute_result"
    }
   ],
   "source": [
    "standardize(x)"
   ]
  },
  {
   "cell_type": "markdown",
   "id": "63825a9b-1c73-497e-aff0-33d2579e74fd",
   "metadata": {},
   "source": [
    "## Pairwise distance"
   ]
  },
  {
   "cell_type": "code",
   "execution_count": 6,
   "id": "a1a0992b-ce53-4c60-a5fd-a6ae273df2fa",
   "metadata": {},
   "outputs": [],
   "source": [
    "def pairwise_dist(p, q):\n",
    "    \n",
    "    if p.shape[0] > q.shape[0]:\n",
    "        p_flat = p[:q.shape[0], :].flatten()\n",
    "        q_flat = q.flatten()\n",
    "        shape = q.shape[0]\n",
    "        \n",
    "    elif p.shape[0] < q.shape[0]:\n",
    "        q_flat = q[:p.shape[0], :].flatten()\n",
    "        p_flat = p.flatten()\n",
    "        shape = p.shape[0]\n",
    "    \n",
    "    d =  (q_flat - p_flat)**2\n",
    "    d = d.reshape(shape,2)\n",
    "    d = np.sqrt(np.sum(d, axis=1))\n",
    "    return d\n"
   ]
  },
  {
   "cell_type": "code",
   "execution_count": 7,
   "id": "264d9889-016b-46e3-8a8d-52dbd0edee8c",
   "metadata": {},
   "outputs": [],
   "source": [
    "p = np.random.randint(10, size=[10,2])"
   ]
  },
  {
   "cell_type": "code",
   "execution_count": 8,
   "id": "c39bd974-0e06-41f8-be9f-9ec98a2d6594",
   "metadata": {},
   "outputs": [],
   "source": [
    "q = np.random.randint(10, size=[9,2])"
   ]
  },
  {
   "cell_type": "code",
   "execution_count": 9,
   "id": "0ed25cd4-e6cd-4fd7-9328-43c0db4deb37",
   "metadata": {},
   "outputs": [
    {
     "data": {
      "text/plain": [
       "array([[4, 1],\n",
       "       [5, 0],\n",
       "       [1, 3],\n",
       "       [8, 9],\n",
       "       [7, 1],\n",
       "       [2, 3],\n",
       "       [6, 8],\n",
       "       [9, 4],\n",
       "       [7, 1],\n",
       "       [0, 5]])"
      ]
     },
     "execution_count": 9,
     "metadata": {},
     "output_type": "execute_result"
    }
   ],
   "source": [
    "p"
   ]
  },
  {
   "cell_type": "code",
   "execution_count": 10,
   "id": "e5a44199-1cce-4608-8408-cf16edf1e2e8",
   "metadata": {},
   "outputs": [
    {
     "data": {
      "text/plain": [
       "array([[7, 3],\n",
       "       [9, 3],\n",
       "       [6, 1],\n",
       "       [0, 5],\n",
       "       [1, 8],\n",
       "       [5, 7],\n",
       "       [8, 7],\n",
       "       [5, 6],\n",
       "       [5, 0]])"
      ]
     },
     "execution_count": 10,
     "metadata": {},
     "output_type": "execute_result"
    }
   ],
   "source": [
    "q"
   ]
  },
  {
   "cell_type": "code",
   "execution_count": 11,
   "id": "543b4d69-7090-4b4b-a7ed-0cb69305ab03",
   "metadata": {},
   "outputs": [
    {
     "data": {
      "text/plain": [
       "array([3.60555128, 5.        , 5.38516481, 8.94427191, 9.21954446,\n",
       "       5.        , 2.23606798, 4.47213595, 2.23606798])"
      ]
     },
     "execution_count": 11,
     "metadata": {},
     "output_type": "execute_result"
    }
   ],
   "source": [
    "pairwise_dist(p,q)"
   ]
  },
  {
   "cell_type": "code",
   "execution_count": null,
   "id": "938c31a4-a25e-4eb0-b9b9-19ea6f12895c",
   "metadata": {},
   "outputs": [],
   "source": []
  }
 ],
 "metadata": {
  "kernelspec": {
   "display_name": "Python 3 (ipykernel)",
   "language": "python",
   "name": "python3"
  },
  "language_info": {
   "codemirror_mode": {
    "name": "ipython",
    "version": 3
   },
   "file_extension": ".py",
   "mimetype": "text/x-python",
   "name": "python",
   "nbconvert_exporter": "python",
   "pygments_lexer": "ipython3",
   "version": "3.8.13"
  }
 },
 "nbformat": 4,
 "nbformat_minor": 5
}
