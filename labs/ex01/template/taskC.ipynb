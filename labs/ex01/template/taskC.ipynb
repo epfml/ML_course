{
  "cells": [
    {
      "cell_type": "markdown",
      "metadata": {
        "id": "view-in-github",
        "colab_type": "text"
      },
      "source": [
        "<a href=\"https://colab.research.google.com/github/marthery/ML_course/blob/lab1/labs/ex01/template/taskC.ipynb\" target=\"_parent\"><img src=\"https://colab.research.google.com/assets/colab-badge.svg\" alt=\"Open In Colab\"/></a>"
      ]
    },
    {
      "cell_type": "code",
      "execution_count": 1,
      "metadata": {
        "id": "HeMSboPJozHR"
      },
      "outputs": [],
      "source": [
        "%matplotlib inline\n",
        "import numpy as np\n",
        "import matplotlib.pyplot as plt\n",
        "%load_ext autoreload\n",
        "%autoreload 2"
      ]
    },
    {
      "cell_type": "markdown",
      "metadata": {
        "id": "gls_1ipgozHT"
      },
      "source": [
        "Data Generation\n",
        "==="
      ]
    },
    {
      "cell_type": "code",
      "execution_count": 2,
      "metadata": {
        "id": "sSUrE_PFozHV"
      },
      "outputs": [],
      "source": [
        "from numpy.random import rand, randn"
      ]
    },
    {
      "cell_type": "code",
      "execution_count": 3,
      "metadata": {
        "collapsed": true,
        "id": "9-w4FdFGozHV"
      },
      "outputs": [],
      "source": [
        "n, d, k = 100, 2, 2"
      ]
    },
    {
      "cell_type": "code",
      "execution_count": 4,
      "metadata": {
        "id": "PBpueWbBozHW",
        "outputId": "e7426cbd-2e63-4216-f668-7fff342ca1f7",
        "colab": {
          "base_uri": "https://localhost:8080/"
        }
      },
      "outputs": [
        {
          "output_type": "stream",
          "name": "stdout",
          "text": [
            "[array([0.69872366, 0.75176984]), array([0.25997411, 0.14504062])]\n",
            "[array([[0.01764816, 0.        ],\n",
            "       [0.        , 0.06360523]]), array([[0.01764816, 0.        ],\n",
            "       [0.        , 0.06360523]])]\n"
          ]
        }
      ],
      "source": [
        "np.random.seed(20)\n",
        "X = rand(n, d)\n",
        "\n",
        "# means = [rand(d)  for _ in range(k)]  # works for any k\n",
        "means = [rand(d) * 0.5 + 0.5 , - rand(d)  * 0.5 + 0.5]  # for better plotting when k = 2\n",
        "\n",
        "S = np.diag(rand(d))\n",
        "\n",
        "sigmas = [S]*k # we'll use the same Sigma for all clusters for better visual results\n",
        "\n",
        "print(means)\n",
        "print(sigmas)"
      ]
    },
    {
      "cell_type": "markdown",
      "metadata": {
        "id": "0dZ_vKG0ozHW"
      },
      "source": [
        "Solution\n",
        "==="
      ]
    },
    {
      "cell_type": "code",
      "execution_count": null,
      "metadata": {
        "scrolled": true,
        "id": "MuPXzdlqozHX"
      },
      "outputs": [],
      "source": [
        "def compute_log_p(X, mean, sigma):\n",
        "    "
      ]
    },
    {
      "cell_type": "code",
      "execution_count": null,
      "metadata": {
        "id": "nDbR8se0ozHY"
      },
      "outputs": [],
      "source": [
        "log_ps = [compute_log_p(X, m, s) for m, s in zip(means, sigmas)]  # exercise: try to do this without looping"
      ]
    },
    {
      "cell_type": "code",
      "execution_count": null,
      "metadata": {
        "id": "iqNXk2_tozHY"
      },
      "outputs": [],
      "source": [
        "assignments = np.argmax(log_ps, axis=0)\n",
        "print(assignments)"
      ]
    },
    {
      "cell_type": "code",
      "execution_count": null,
      "metadata": {
        "scrolled": true,
        "id": "BoInYVFSozHZ"
      },
      "outputs": [],
      "source": [
        "colors = np.array(['red', 'green'])[assignments]\n",
        "plt.scatter(X[:, 0], X[:, 1], c=colors, s=100)\n",
        "plt.scatter(np.array(means)[:, 0], np.array(means)[:, 1], marker='*', s=200)\n",
        "plt.show()"
      ]
    }
  ],
  "metadata": {
    "kernelspec": {
      "display_name": "Python 3",
      "language": "python",
      "name": "python3"
    },
    "language_info": {
      "codemirror_mode": {
        "name": "ipython",
        "version": 3
      },
      "file_extension": ".py",
      "mimetype": "text/x-python",
      "name": "python",
      "nbconvert_exporter": "python",
      "pygments_lexer": "ipython3",
      "version": "3.6.1"
    },
    "colab": {
      "provenance": [],
      "include_colab_link": true
    }
  },
  "nbformat": 4,
  "nbformat_minor": 0
}