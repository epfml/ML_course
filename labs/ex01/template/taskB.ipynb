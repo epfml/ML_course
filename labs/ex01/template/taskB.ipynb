{
  "cells": [
    {
      "cell_type": "markdown",
      "metadata": {
        "id": "view-in-github",
        "colab_type": "text"
      },
      "source": [
        "<a href=\"https://colab.research.google.com/github/marthery/ML_course/blob/lab1/labs/ex01/template/taskB.ipynb\" target=\"_parent\"><img src=\"https://colab.research.google.com/assets/colab-badge.svg\" alt=\"Open In Colab\"/></a>"
      ]
    },
    {
      "cell_type": "code",
      "execution_count": 2,
      "metadata": {
        "id": "f61jdAuAZ7x8"
      },
      "outputs": [],
      "source": [
        "%matplotlib inline\n",
        "import numpy as np\n",
        "import matplotlib.pyplot as plt\n",
        "%load_ext autoreload\n",
        "%autoreload 2"
      ]
    },
    {
      "cell_type": "markdown",
      "metadata": {
        "id": "Q5LO7YW6Z7x-"
      },
      "source": [
        "Data Generation\n",
        "==="
      ]
    },
    {
      "cell_type": "code",
      "execution_count": 3,
      "metadata": {
        "id": "OTLh_6-nZ7yA",
        "outputId": "4d10abf1-749a-4266-9480-ccfe0d44563f",
        "colab": {
          "base_uri": "https://localhost:8080/"
        }
      },
      "outputs": [
        {
          "output_type": "stream",
          "name": "stdout",
          "text": [
            "[[0.77132064 0.02075195]\n",
            " [0.63364823 0.74880388]\n",
            " [0.49850701 0.22479665]\n",
            " [0.19806286 0.76053071]] \n",
            "\n",
            " [[0.16911084 0.08833981]\n",
            " [0.68535982 0.95339335]\n",
            " [0.00394827 0.51219226]\n",
            " [0.81262096 0.61252607]\n",
            " [0.72175532 0.29187607]]\n"
          ]
        }
      ],
      "source": [
        "np.random.seed(10)\n",
        "p, q = (np.random.rand(i, 2) for i in (4, 5))\n",
        "p_big, q_big = (np.random.rand(i, 80) for i in (100, 120))\n",
        "\n",
        "print(p, \"\\n\\n\", q)"
      ]
    },
    {
      "cell_type": "markdown",
      "metadata": {
        "id": "n_9bJAqnZ7yB"
      },
      "source": [
        "Solution\n",
        "==="
      ]
    },
    {
      "cell_type": "code",
      "execution_count": 4,
      "metadata": {
        "collapsed": true,
        "id": "-7e1i59aZ7yC"
      },
      "outputs": [],
      "source": [
        "def naive(p, q):\n",
        "  d = np.zeros((p.shape[0], q.shape[0]))\n",
        "  for i in range(0,p.shape[0]):\n",
        "    for j in range(0,q.shape[0]):\n",
        "       d[i,j] = np.sum(np.square(p[i] - q[j])) \n",
        "  return d "
      ]
    },
    {
      "cell_type": "code",
      "source": [
        "print(naive(p,q))"
      ],
      "metadata": {
        "id": "IxvnCM2abvgf",
        "outputId": "120097a5-fd24-406b-c41e-ad42bf78108b",
        "colab": {
          "base_uri": "https://localhost:8080/"
        }
      },
      "execution_count": 5,
      "outputs": [
        {
          "output_type": "stream",
          "name": "stdout",
          "text": [
            "[[0.36722477 0.87720924 0.83037395 0.35190232 0.07596501]\n",
            " [0.65200778 0.04453094 0.45250711 0.05060288 0.21654589]\n",
            " [0.12712231 0.56576712 0.32718459 0.24900168 0.05433945]\n",
            " [0.45267882 0.27465432 0.09935246 0.39958703 0.49389096]]\n"
          ]
        }
      ]
    },
    {
      "cell_type": "markdown",
      "metadata": {
        "id": "6t38e9m3Z7yC"
      },
      "source": [
        "### Use matching indices\n",
        "\n",
        "Instead of iterating through indices, one can use them directly to parallelize the operations with Numpy."
      ]
    },
    {
      "cell_type": "code",
      "execution_count": 6,
      "metadata": {
        "id": "zsh5H6QJZ7yD",
        "outputId": "eaa72858-0c61-42c1-ab06-54b690de3749",
        "colab": {
          "base_uri": "https://localhost:8080/"
        }
      },
      "outputs": [
        {
          "output_type": "stream",
          "name": "stdout",
          "text": [
            "[[0 0 0 0 0]\n",
            " [1 1 1 1 1]\n",
            " [2 2 2 2 2]\n",
            " [3 3 3 3 3]]\n",
            "\n",
            "[[0 1 2 3 4]\n",
            " [0 1 2 3 4]\n",
            " [0 1 2 3 4]\n",
            " [0 1 2 3 4]]\n"
          ]
        }
      ],
      "source": [
        "rows, cols = np.indices((p.shape[0], q.shape[0]))\n",
        "print(rows, end='\\n\\n')\n",
        "print(cols)"
      ]
    },
    {
      "cell_type": "code",
      "execution_count": 7,
      "metadata": {
        "id": "PVoOzhfLZ7yD",
        "outputId": "939ec7fc-b9f4-4570-fafb-88eb58d7fc71",
        "colab": {
          "base_uri": "https://localhost:8080/"
        }
      },
      "outputs": [
        {
          "output_type": "stream",
          "name": "stdout",
          "text": [
            "[[0.77132064 0.02075195]\n",
            " [0.77132064 0.02075195]\n",
            " [0.77132064 0.02075195]\n",
            " [0.77132064 0.02075195]\n",
            " [0.77132064 0.02075195]\n",
            " [0.63364823 0.74880388]\n",
            " [0.63364823 0.74880388]\n",
            " [0.63364823 0.74880388]\n",
            " [0.63364823 0.74880388]\n",
            " [0.63364823 0.74880388]\n",
            " [0.49850701 0.22479665]\n",
            " [0.49850701 0.22479665]\n",
            " [0.49850701 0.22479665]\n",
            " [0.49850701 0.22479665]\n",
            " [0.49850701 0.22479665]\n",
            " [0.19806286 0.76053071]\n",
            " [0.19806286 0.76053071]\n",
            " [0.19806286 0.76053071]\n",
            " [0.19806286 0.76053071]\n",
            " [0.19806286 0.76053071]]\n",
            "\n",
            "[[0.16911084 0.08833981]\n",
            " [0.68535982 0.95339335]\n",
            " [0.00394827 0.51219226]\n",
            " [0.81262096 0.61252607]\n",
            " [0.72175532 0.29187607]\n",
            " [0.16911084 0.08833981]\n",
            " [0.68535982 0.95339335]\n",
            " [0.00394827 0.51219226]\n",
            " [0.81262096 0.61252607]\n",
            " [0.72175532 0.29187607]\n",
            " [0.16911084 0.08833981]\n",
            " [0.68535982 0.95339335]\n",
            " [0.00394827 0.51219226]\n",
            " [0.81262096 0.61252607]\n",
            " [0.72175532 0.29187607]\n",
            " [0.16911084 0.08833981]\n",
            " [0.68535982 0.95339335]\n",
            " [0.00394827 0.51219226]\n",
            " [0.81262096 0.61252607]\n",
            " [0.72175532 0.29187607]]\n"
          ]
        }
      ],
      "source": [
        "print(p[rows.ravel()], end='\\n\\n')\n",
        "print(q[cols.ravel()])"
      ]
    },
    {
      "cell_type": "code",
      "execution_count": 36,
      "metadata": {
        "collapsed": true,
        "id": "0PPTf8UXZ7yE"
      },
      "outputs": [],
      "source": [
        "def with_indices(p, q):\n",
        "  rows, cols = np.indices((p.shape[0], q.shape[0]))\n",
        "  return np.reshape(np.sum(np.square((p[rows.ravel()] - q[cols.ravel()])), axis = 1),(p.shape[0], q.shape[0]))"
      ]
    },
    {
      "cell_type": "code",
      "source": [
        "print(with_indices(p_big, q_big).shape)"
      ],
      "metadata": {
        "id": "VZ6bzixMf73M",
        "outputId": "26c768aa-a8bd-4911-ed13-d0ba20d41357",
        "colab": {
          "base_uri": "https://localhost:8080/"
        }
      },
      "execution_count": 37,
      "outputs": [
        {
          "output_type": "stream",
          "name": "stdout",
          "text": [
            "(100, 120)\n"
          ]
        }
      ]
    },
    {
      "cell_type": "markdown",
      "metadata": {
        "id": "t_zZ2EaHZ7yF"
      },
      "source": [
        "### Use a library\n",
        "\n",
        "`scipy` is the equivalent of matlab toolboxes and have a lot to offer. Actually the pairwise computation is part of the library through the `spatial` module."
      ]
    },
    {
      "cell_type": "code",
      "execution_count": 20,
      "metadata": {
        "id": "iEUByLmxZ7yF"
      },
      "outputs": [],
      "source": [
        "from scipy.spatial.distance import cdist\n",
        "\n",
        "def scipy_version(p, q):\n",
        "    return cdist(p, q)"
      ]
    },
    {
      "cell_type": "markdown",
      "metadata": {
        "id": "Xb9n4OxxZ7yG"
      },
      "source": [
        "### Numpy Magic"
      ]
    },
    {
      "cell_type": "code",
      "execution_count": 21,
      "metadata": {
        "id": "ODoRJnacZ7yG"
      },
      "outputs": [],
      "source": [
        "def tensor_broadcasting(p, q):\n",
        "    return np.sqrt(np.sum((p[:,np.newaxis,:]-q[np.newaxis,:,:])**2, axis=2))"
      ]
    },
    {
      "cell_type": "markdown",
      "metadata": {
        "id": "L4dch106Z7yG"
      },
      "source": [
        "# Compare methods"
      ]
    },
    {
      "cell_type": "code",
      "execution_count": 38,
      "metadata": {
        "id": "lJzGflS1Z7yH",
        "outputId": "9a6f99e1-b9a2-4704-8318-8ce3dfd76246",
        "colab": {
          "base_uri": "https://localhost:8080/"
        }
      },
      "outputs": [
        {
          "output_type": "stream",
          "name": "stdout",
          "text": [
            "77 ms ± 1.72 ms per loop (mean ± std. dev. of 7 runs, 10 loops each)\n",
            "3.24 ms ± 33.8 µs per loop (mean ± std. dev. of 7 runs, 100 loops each)\n",
            "466 µs ± 13.8 µs per loop (mean ± std. dev. of 7 runs, 1000 loops each)\n",
            "1.96 ms ± 17.1 µs per loop (mean ± std. dev. of 7 runs, 1000 loops each)\n"
          ]
        }
      ],
      "source": [
        "methods = [naive, with_indices, scipy_version, tensor_broadcasting]\n",
        "timers = []\n",
        "for f in methods:\n",
        "    r = %timeit -o f(p_big, q_big)\n",
        "    timers.append(r)"
      ]
    },
    {
      "cell_type": "code",
      "execution_count": 39,
      "metadata": {
        "id": "QKHZ2byiZ7yH",
        "outputId": "eb64b8c5-ea9b-4571-f787-39f1fa6e8ff3",
        "colab": {
          "base_uri": "https://localhost:8080/",
          "height": 438
        }
      },
      "outputs": [
        {
          "output_type": "display_data",
          "data": {
            "text/plain": [
              "<Figure size 720x432 with 1 Axes>"
            ],
            "image/png": "[encoded data removed]"
          },
          "metadata": {
            "needs_background": "light"
          }
        }
      ],
      "source": [
        "plt.figure(figsize=(10,6))\n",
        "plt.bar(np.arange(len(methods)), [r.best*1000 for r in timers], log=False)  # Set log to True for logarithmic scale\n",
        "plt.xticks(np.arange(len(methods))+0.2, [f.__name__ for f in methods], rotation=30)\n",
        "plt.xlabel('Method')\n",
        "plt.ylabel('Time (ms)')\n",
        "plt.show()"
      ]
    },
    {
      "cell_type": "code",
      "execution_count": null,
      "metadata": {
        "collapsed": true,
        "id": "VbcjAshaZ7yI"
      },
      "outputs": [],
      "source": []
    }
  ],
  "metadata": {
    "kernelspec": {
      "display_name": "Python 3",
      "language": "python",
      "name": "python3"
    },
    "language_info": {
      "codemirror_mode": {
        "name": "ipython",
        "version": 3
      },
      "file_extension": ".py",
      "mimetype": "text/x-python",
      "name": "python",
      "nbconvert_exporter": "python",
      "pygments_lexer": "ipython3",
      "version": "3.6.1"
    },
    "colab": {
      "provenance": [],
      "include_colab_link": true
    },
    "accelerator": "GPU"
  },
  "nbformat": 4,
  "nbformat_minor": 0
}