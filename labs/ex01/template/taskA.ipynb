{
 "cells": [
  {
   "cell_type": "code",
   "execution_count": 1,
   "metadata": {
    "collapsed": true
   },
   "outputs": [],
   "source": [
    "%matplotlib inline\n",
    "import numpy as np\n",
    "import matplotlib.pyplot as plt\n",
    "%load_ext autoreload\n",
    "%autoreload 2"
   ]
  },
  {
   "cell_type": "markdown",
   "metadata": {},
   "source": [
    "Data Generation\n",
    "==="
   ]
  },
  {
   "cell_type": "code",
   "execution_count": 2,
   "metadata": {
    "collapsed": true
   },
   "outputs": [],
   "source": [
    "num_samples, num_features = 10, 5"
   ]
  },
  {
   "cell_type": "code",
   "execution_count": 3,
   "metadata": {
    "collapsed": true
   },
   "outputs": [],
   "source": [
    "np.random.seed(10)\n",
    "data = np.random.rand(num_samples, num_features)"
   ]
  },
  {
   "cell_type": "markdown",
   "metadata": {},
   "source": [
    "Solution\n",
    "==="
   ]
  },
  {
   "cell_type": "code",
   "execution_count": 14,
   "metadata": {
    "scrolled": false
   },
   "outputs": [
    {
     "name": "stdout",
     "output_type": "stream",
     "text": [
      "[[ 0.77339129 -3.77759408 -0.06136924  0.63686354 -0.88078221]\n",
      " [-0.28758717 -0.33210183  0.60446858 -0.38031012 -0.5148027 ]\n",
      " [ 0.42412022  0.75501775 -0.41710811  0.21033833  0.58122892]\n",
      " [ 0.49050575  0.60967277  0.14068274  0.82352553  0.60184004]\n",
      " [ 0.54254437  0.14217005  0.37334076  0.67413362  0.44183317]\n",
      " [ 0.43401399  0.61776698  0.51313824  0.65039718  0.60103895]\n",
      " [ 0.8052232   0.52164715  0.90864888  0.31923609  0.09045935]\n",
      " [ 0.30070006  0.11398436  0.82868133  0.04689632  0.62628715]\n",
      " [ 0.54758616  0.819287    0.19894754  0.8568503   0.35165264]\n",
      " [ 0.75464769  0.29596171  0.88393648  0.32551164  0.1650159 ]]\n"
     ]
    }
   ],
   "source": [
    "print(data)"
   ]
  },
  {
   "cell_type": "code",
   "execution_count": 18,
   "metadata": {},
   "outputs": [
    {
     "data": {
      "text/plain": [
       "array([ 0.77339129, -0.28758717,  0.42412022,  0.49050575,  0.54254437,\n",
       "        0.43401399,  0.8052232 ,  0.30070006,  0.54758616,  0.75464769])"
      ]
     },
     "execution_count": 18,
     "metadata": {},
     "output_type": "execute_result"
    }
   ],
   "source": [
    "data[:,0]"
   ]
  },
  {
   "cell_type": "code",
   "execution_count": 19,
   "metadata": {},
   "outputs": [],
   "source": [
    "def standardize(x):\n",
    "    ''' fill your code in here...\n",
    "    '''\n",
    "    for i in range(0, num_features):\n",
    "        means = np.mean(data[:,i])\n",
    "        standard_derivate = np.std(data[:,i])\n",
    "        x[:,i] = (x[:,i]-means)/standard_derivate\n",
    "    return x\n",
    "\n",
    "std_data = standardize(data)"
   ]
  },
  {
   "cell_type": "code",
   "execution_count": 20,
   "metadata": {},
   "outputs": [
    {
     "name": "stdout",
     "output_type": "stream",
     "text": [
      "[[ 0.98160159 -2.8996421  -1.1059971   0.59775246 -2.20873602]\n",
      " [-2.5502408  -0.23841995  0.49942067 -2.1594577  -1.46519079]\n",
      " [-0.1810708   0.60124722 -1.96372775 -0.55841163  0.76157067]\n",
      " [ 0.03991694  0.48898597 -0.61882465  1.10372931  0.80344542]\n",
      " [ 0.2131459   0.12789718 -0.05785724  0.69877888  0.47836619]\n",
      " [-0.14813587  0.49523775  0.27921187  0.63443752  0.8018179 ]\n",
      " [ 1.08756538  0.42099692  1.23283719 -0.26322701 -0.23550527]\n",
      " [-0.59191851  0.10612718  1.04002547 -1.00144705  0.85311359]\n",
      " [ 0.22992928  0.65088737 -0.47834098  1.19406137  0.29515018]\n",
      " [ 0.9192069   0.24668246  1.17325252 -0.24621615 -0.08403186]] \n",
      "\n",
      " [  2.77555756e-16  -5.82867088e-17   0.00000000e+00   6.66133815e-17\n",
      "  -9.85322934e-17] \n",
      "\n",
      " [ 1.  1.  1.  1.  1.]\n"
     ]
    }
   ],
   "source": [
    "print(std_data, \"\\n\\n\", np.mean(std_data, axis=0), \"\\n\\n\", np.std(std_data, axis=0))"
   ]
  }
 ],
 "metadata": {
  "kernelspec": {
   "display_name": "Python 3",
   "language": "python",
   "name": "python3"
  },
  "language_info": {
   "codemirror_mode": {
    "name": "ipython",
    "version": 3
   },
   "file_extension": ".py",
   "mimetype": "text/x-python",
   "name": "python",
   "nbconvert_exporter": "python",
   "pygments_lexer": "ipython3",
   "version": "3.6.2"
  }
 },
 "nbformat": 4,
 "nbformat_minor": 1
}
