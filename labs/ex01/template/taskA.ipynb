{
  "cells": [
    {
      "cell_type": "code",
      "execution_count": 1,
      "metadata": {
        "collapsed": true,
        "id": "yvcMymEMI6GW"
      },
      "outputs": [],
      "source": [
        "%matplotlib inline\n",
        "import numpy as np\n",
        "import matplotlib.pyplot as plt\n",
        "%load_ext autoreload\n",
        "%autoreload 2"
      ]
    },
    {
      "cell_type": "markdown",
      "metadata": {
        "id": "qMBGO5b5I6GY"
      },
      "source": [
        "Data Generation\n",
        "==="
      ]
    },
    {
      "cell_type": "code",
      "execution_count": 42,
      "metadata": {
        "collapsed": true,
        "id": "x8BuMnOVI6Ga"
      },
      "outputs": [],
      "source": [
        "num_samples, num_features = 10, 5"
      ]
    },
    {
      "cell_type": "code",
      "execution_count": 43,
      "metadata": {
        "collapsed": true,
        "id": "s77VrgvVI6Gb"
      },
      "outputs": [],
      "source": [
        "np.random.seed(10)\n",
        "data = np.random.rand(num_samples, num_features)"
      ]
    },
    {
      "cell_type": "markdown",
      "metadata": {
        "id": "I4cneQfdI6Gb"
      },
      "source": [
        "Solution\n",
        "==="
      ]
    },
    {
      "cell_type": "code",
      "execution_count": null,
      "metadata": {
        "scrolled": false,
        "id": "zdue4vZbI6Gc"
      },
      "outputs": [],
      "source": [
        "print(data)"
      ]
    },
    {
      "cell_type": "code",
      "execution_count": 80,
      "metadata": {
        "collapsed": true,
        "id": "USIkUjePI6Gd"
      },
      "outputs": [],
      "source": [
        "def standardize(x):\n",
        "    return np.subtract(x,np.mean(x, axis=0))/np.std(x, axis=0)\n",
        "std_data = standardize(data)"
      ]
    },
    {
      "cell_type": "code",
      "execution_count": 81,
      "metadata": {
        "id": "xxWp74z8I6Gd",
        "outputId": "6a70f256-7c87-4d49-cf51-e3feb844d48b",
        "colab": {
          "base_uri": "https://localhost:8080/"
        }
      },
      "outputs": [
        {
          "output_type": "stream",
          "name": "stdout",
          "text": [
            "[[ 0.69575894 -2.04179614  0.06865556  0.35110944 -1.491141  ]\n",
            " [-0.21687544  0.12373204  0.85470349 -1.15442202 -0.77076134]\n",
            " [ 0.44278768  0.91421462 -0.63253139 -0.30888103  1.6030958 ]\n",
            " [ 0.33846814  0.67179646 -0.06654381  0.69069535  1.28174925]\n",
            " [ 0.32828663 -1.80446066 -1.31921427  1.7432449  -0.93084717]\n",
            " [-2.88221772  0.63834344 -1.88767166  1.146729    0.50653581]\n",
            " [ 0.6144676   0.46237552  1.14586344 -0.78443098 -0.76381449]\n",
            " [-0.10815923  0.03574063  0.98866902 -1.45562569  0.99238012]\n",
            " [ 0.24545492  0.77386714 -0.24921597  0.54054561  0.09225578]\n",
            " [ 0.54202847  0.22618697  1.09728559 -0.76896458 -0.51945276]] \n",
            "\n",
            " [-2.22044605e-17 -2.49800181e-17  4.44089210e-17 -8.88178420e-17\n",
            " -2.22044605e-17] \n",
            "\n",
            " [1. 1. 1. 1. 1.]\n"
          ]
        }
      ],
      "source": [
        "print(std_data, \"\\n\\n\", np.mean(std_data, axis=0), \"\\n\\n\", np.std(std_data, axis=0))"
      ]
    }
  ],
  "metadata": {
    "kernelspec": {
      "display_name": "Python 3",
      "language": "python",
      "name": "python3"
    },
    "language_info": {
      "codemirror_mode": {
        "name": "ipython",
        "version": 3
      },
      "file_extension": ".py",
      "mimetype": "text/x-python",
      "name": "python",
      "nbconvert_exporter": "python",
      "pygments_lexer": "ipython3",
      "version": "3.6.1"
    },
    "colab": {
      "provenance": []
    }
  },
  "nbformat": 4,
  "nbformat_minor": 0
}