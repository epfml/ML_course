{
 "cells": [
  {
   "cell_type": "code",
   "execution_count": 1,
   "metadata": {
    "collapsed": true
   },
   "outputs": [],
   "source": [
    "# Useful starting lines ef\n",
    "%matplotlib inline\n",
    "import numpy as np\n",
    "import matplotlib.pyplot as plt\n",
    "%load_ext autoreload\n",
    "%autoreload 2"
   ]
  },
  {
   "cell_type": "markdown",
   "metadata": {},
   "source": [
    "# 1 Least squares and linear basis functions models\n",
    "## 1.1 Least squares"
   ]
  },
  {
   "cell_type": "code",
   "execution_count": 2,
   "metadata": {
    "collapsed": true
   },
   "outputs": [],
   "source": [
    "def least_squares(y, tx):\n",
    "    matrix1 = np.dot(tx.T,tx)\n",
    "    matrix2 = np.dot(np.linalg.inv(matrix1),tx.T)\n",
    "    weights = np.dot(matrix2,y)\n",
    "    \n",
    "    N = len(y)\n",
    "    mse1 = (y - np.dot(tx,weights)).T\n",
    "    mse2 = y - np.dot(tx,weights)\n",
    "    mse = 1/2/N*np.dot(mse1,mse2) \n",
    "    return mse, weights"
   ]
  },
  {
   "cell_type": "markdown",
   "metadata": {},
   "source": [
    "### Load the data\n",
    "Here we will reuse the dataset `height_weight_genders.csv` from previous exercise section to check the correctness of your implementation. Please compare it with your previous result."
   ]
  },
  {
   "cell_type": "code",
   "execution_count": 3,
   "metadata": {
    "collapsed": true
   },
   "outputs": [],
   "source": [
    "from helpers import *\n",
    "def test_your_least_squares():\n",
    "    height, weight, gender = load_data_from_ex02(sub_sample=False, add_outlier=False)\n",
    "    x, mean_x, std_x = standardize(height)\n",
    "    y, tx = build_model_data(x, weight)\n",
    "    mse,_ = least_squares(y,tx)\n",
    "    return mse"
   ]
  },
  {
   "cell_type": "markdown",
   "metadata": {},
   "source": [
    "Test it here"
   ]
  },
  {
   "cell_type": "code",
   "execution_count": 4,
   "metadata": {},
   "outputs": [
    {
     "data": {
      "text/plain": [
       "15.385887868829398"
      ]
     },
     "execution_count": 4,
     "metadata": {},
     "output_type": "execute_result"
    }
   ],
   "source": [
    "test_your_least_squares()"
   ]
  },
  {
   "cell_type": "markdown",
   "metadata": {},
   "source": [
    "## 1.2 Least squares with a linear basis function model\n",
    "Start from this section, we will use the dataset `dataEx3.csv`.\n",
    "\n",
    "### Implement polynomial basis functions"
   ]
  },
  {
   "cell_type": "code",
   "execution_count": 5,
   "metadata": {
    "scrolled": true
   },
   "outputs": [
    {
     "name": "stdout",
     "output_type": "stream",
     "text": [
      "shape of x (50,)\n",
      "shape of y (50,)\n"
     ]
    }
   ],
   "source": [
    "# load dataset\n",
    "x, y = load_data()\n",
    "print(\"shape of x {}\".format(x.shape))\n",
    "print(\"shape of y {}\".format(y.shape))"
   ]
  },
  {
   "cell_type": "code",
   "execution_count": 6,
   "metadata": {
    "collapsed": true
   },
   "outputs": [],
   "source": [
    "def build_poly(x, degree):\n",
    "    \"\"\"polynomial basis functions for input data x, for j=0 up to j=degree.\"\"\"\n",
    "    N = len(x)\n",
    "    matrix = np.zeros((N,degree+1))\n",
    "    for i in range(0, N):\n",
    "        for j in range(0, degree+1):\n",
    "            matrix[i][j] = x[i]**j\n",
    "    return matrix\n"
   ]
  },
  {
   "cell_type": "markdown",
   "metadata": {},
   "source": [
    "Let us play with polynomial regression. Note that we will use your implemented function `compute_mse`. Please copy and paste your implementation from exercise02."
   ]
  },
  {
   "cell_type": "code",
   "execution_count": 7,
   "metadata": {
    "collapsed": true
   },
   "outputs": [],
   "source": [
    "from costs import compute_mse\n",
    "from plots import *\n",
    "\n",
    "def polynomial_regression():\n",
    "\n",
    "    degrees = [1, 3, 7, 12]\n",
    "    num_row = 2\n",
    "    num_col = 2\n",
    "    f, axs = plt.subplots(num_row, num_col)\n",
    "\n",
    "    for ind, degree in enumerate(degrees):\n",
    "\n",
    "        matrix = build_poly(x, degree)\n",
    "        \n",
    "        _,weights = least_squares(y, matrix)\n",
    "        mse_poly = compute_mse(y, matrix, weights)\n",
    "        rmse = np.sqrt(2*mse_poly)\n",
    "        \n",
    "        print(\"Processing {i}th experiment, degree={d}, rmse={loss}\".format(\n",
    "              i=ind + 1, d=degree, loss=rmse))\n",
    "        # plot fit\n",
    "        plot_fitted_curve(\n",
    "            y, x, weights, degree, axs[ind // num_col][ind % num_col])\n",
    "    plt.tight_layout()\n",
    "    plt.savefig(\"visualize_polynomial_regression\")\n",
    "    plt.show()"
   ]
  },
  {
   "cell_type": "markdown",
   "metadata": {},
   "source": [
    "Run polynomial regression"
   ]
  },
  {
   "cell_type": "code",
   "execution_count": 8,
   "metadata": {},
   "outputs": [
    {
     "name": "stdout",
     "output_type": "stream",
     "text": [
      "Processing 1th experiment, degree=1, rmse=0.47187607963421874\n",
      "Processing 2th experiment, degree=3, rmse=0.25858277667737484\n",
      "Processing 3th experiment, degree=7, rmse=0.24965870360908396\n",
      "Processing 4th experiment, degree=12, rmse=0.9268294530625558\n"
     ]
    },
    {
     "data": {
      "image/png": "[encoded data removed]",
      "text/plain": [
       "<matplotlib.figure.Figure at 0x10cc13160>"
      ]
     },
     "metadata": {},
     "output_type": "display_data"
    }
   ],
   "source": [
    "polynomial_regression()"
   ]
  },
  {
   "cell_type": "markdown",
   "metadata": {},
   "source": [
    "# 2 Evaluating model predication performance\n",
    "\n",
    "\n",
    "Let us show the train and test splits for various polynomial degrees. First of all, please fill in the function `split_data()`"
   ]
  },
  {
   "cell_type": "code",
   "execution_count": 67,
   "metadata": {
    "collapsed": true
   },
   "outputs": [],
   "source": [
    "def split_data(x, y, ratio, seed=1):\n",
    "\n",
    "    np.random.seed(seed)\n",
    "    x = np.random.permutation(x)\n",
    "    y = np.random.permutation(y)\n",
    "    x_train = x[0:int(len(x)*ratio)]\n",
    "    x_test = x[int(len(x)*ratio):]\n",
    "    \n",
    "    y_train = y[0:int(len(y)*ratio)]\n",
    "    y_test = y[int(len(y)*ratio):]    \n",
    "    \n",
    "    return x_train,x_test,y_train,y_test"
   ]
  },
  {
   "cell_type": "markdown",
   "metadata": {},
   "source": [
    "Then, test your `split_data` function below."
   ]
  },
  {
   "cell_type": "code",
   "execution_count": 68,
   "metadata": {
    "collapsed": true
   },
   "outputs": [],
   "source": [
    "def train_test_split_demo(x, y, degree, ratio, seed):\n",
    "\n",
    "    x_train,x_test,y_train,y_test = split_data(x, y, ratio, seed)\n",
    "    x_train_poly = build_poly(x_train, degree)    \n",
    "    x_test_poly = build_poly(x_test, degree)\n",
    "\n",
    "    _,weights_train = least_squares(y_train, x_train_poly)\n",
    "    _,weights_test = least_squares(y_test, x_test_poly)\n",
    "\n",
    "    mse_train = compute_mse(y_train, x_train_poly, weights_train)\n",
    "    rmse_tr = np.sqrt(2*mse_train)\n",
    "    \n",
    "    mse_test = compute_mse(y_test, x_test_poly, weights_test)\n",
    "    rmse_te = np.sqrt(2*mse_test)    \n",
    "\n",
    "    print(\"proportion={p}, degree={d}, Training RMSE={tr:.3f}, Testing RMSE={te:.3f}\".format(\n",
    "          p=ratio, d=degree, tr=rmse_tr, te=rmse_te))\n"
   ]
  },
  {
   "cell_type": "code",
   "execution_count": 69,
   "metadata": {},
   "outputs": [
    {
     "name": "stdout",
     "output_type": "stream",
     "text": [
      "proportion=0.9, degree=1, Training RMSE=0.696, Testing RMSE=0.781\n",
      "proportion=0.9, degree=3, Training RMSE=0.664, Testing RMSE=0.364\n",
      "proportion=0.9, degree=7, Training RMSE=0.555, Testing RMSE=0.184\n",
      "proportion=0.9, degree=12, Training RMSE=0.692, Testing RMSE=0.369\n",
      "proportion=0.5, degree=1, Training RMSE=0.694, Testing RMSE=0.720\n",
      "proportion=0.5, degree=3, Training RMSE=0.636, Testing RMSE=0.685\n",
      "proportion=0.5, degree=7, Training RMSE=0.525, Testing RMSE=0.585\n",
      "proportion=0.5, degree=12, Training RMSE=0.468, Testing RMSE=0.545\n",
      "proportion=0.1, degree=1, Training RMSE=0.558, Testing RMSE=0.713\n",
      "proportion=0.1, degree=3, Training RMSE=0.166, Testing RMSE=0.681\n",
      "proportion=0.1, degree=7, Training RMSE=1.543, Testing RMSE=0.584\n",
      "proportion=0.1, degree=12, Training RMSE=29.501, Testing RMSE=0.580\n"
     ]
    }
   ],
   "source": [
    "seed = 6\n",
    "degrees = [1, 3, 7, 12]\n",
    "split_ratios = [0.9, 0.5, 0.1]\n",
    "\n",
    "for split_ratio in split_ratios:\n",
    "    for degree in degrees:\n",
    "        train_test_split_demo(x, y, degree, split_ratio, seed)"
   ]
  },
  {
   "cell_type": "markdown",
   "metadata": {},
   "source": [
    "# 3 Ridge Regression\n",
    "Please fill in the function below."
   ]
  },
  {
   "cell_type": "code",
   "execution_count": 81,
   "metadata": {
    "collapsed": true
   },
   "outputs": [],
   "source": [
    "def ridge_regression(y, tx, lambda_):\n",
    "\n",
    "    N = len(y)\n",
    "    d = tx.shape[1]\n",
    "    \n",
    "    m1 = np.dot(tx.T, tx)\n",
    "    m2 = lambda_ * 2* N *np.eye(d)\n",
    "    m3 = np.linalg.inv(m1 + m2)\n",
    "    m4 = np.dot(m3, tx.T)\n",
    "    w = np.dot(m4, y)\n",
    "    \n",
    "    \n",
    "    mse = compute_mse(y, tx, w)\n",
    "    return np.sqrt(mse*2)"
   ]
  },
  {
   "cell_type": "code",
   "execution_count": 71,
   "metadata": {
    "collapsed": true
   },
   "outputs": [],
   "source": [
    "def ridge_regression_demo(x, y, degree, ratio, seed):\n",
    "\n",
    "    lambdas = np.logspace(-5, 0, 15)\n",
    "    x_train, x_test, y_train, y_test = split_data(x, y, ratio, seed)\n",
    "\n",
    "    x_train_poly = build_poly(x_train, degree)\n",
    "    x_test_poly = build_poly(x_test, degree)\n",
    "\n",
    "    rmse_tr = []\n",
    "    rmse_te = []\n",
    "    \n",
    "    for ind, lambda_ in enumerate(lambdas):\n",
    "\n",
    "        rmse_tr.append(ridge_regression(y_train, x_train_poly, lambda_))\n",
    "        rmse_te.append(ridge_regression(y_test, x_test_poly, lambda_))\n",
    "        \n",
    "        print(\"proportion={p}, degree={d}, lambda={l:.3f}, Training RMSE={tr:.3f}, Testing RMSE={te:.3f}\".format(\n",
    "               p=ratio, d=degree, l=lambda_, tr=rmse_tr[ind], te=rmse_te[ind]))\n",
    "        \n",
    "    # Plot the obtained results\n",
    "    plot_train_test(rmse_tr, rmse_te, lambdas, degree)\n",
    "\n"
   ]
  },
  {
   "cell_type": "code",
   "execution_count": 89,
   "metadata": {},
   "outputs": [
    {
     "name": "stdout",
     "output_type": "stream",
     "text": [
      "proportion=0.5, degree=7, lambda=0.000, Training RMSE=0.613, Testing RMSE=0.623\n",
      "proportion=0.5, degree=7, lambda=0.000, Training RMSE=0.614, Testing RMSE=0.624\n",
      "proportion=0.5, degree=7, lambda=0.000, Training RMSE=0.615, Testing RMSE=0.624\n",
      "proportion=0.5, degree=7, lambda=0.000, Training RMSE=0.616, Testing RMSE=0.625\n",
      "proportion=0.5, degree=7, lambda=0.000, Training RMSE=0.617, Testing RMSE=0.625\n",
      "proportion=0.5, degree=7, lambda=0.001, Training RMSE=0.618, Testing RMSE=0.625\n",
      "proportion=0.5, degree=7, lambda=0.001, Training RMSE=0.621, Testing RMSE=0.625\n",
      "proportion=0.5, degree=7, lambda=0.003, Training RMSE=0.625, Testing RMSE=0.625\n",
      "proportion=0.5, degree=7, lambda=0.007, Training RMSE=0.629, Testing RMSE=0.626\n",
      "proportion=0.5, degree=7, lambda=0.016, Training RMSE=0.633, Testing RMSE=0.628\n",
      "proportion=0.5, degree=7, lambda=0.037, Training RMSE=0.637, Testing RMSE=0.632\n",
      "proportion=0.5, degree=7, lambda=0.085, Training RMSE=0.642, Testing RMSE=0.636\n",
      "proportion=0.5, degree=7, lambda=0.193, Training RMSE=0.645, Testing RMSE=0.639\n",
      "proportion=0.5, degree=7, lambda=0.439, Training RMSE=0.647, Testing RMSE=0.641\n",
      "proportion=0.5, degree=7, lambda=1.000, Training RMSE=0.648, Testing RMSE=0.643\n"
     ]
    },
    {
     "data": {
      "image/png": "[encoded data removed]",
      "text/plain": [
       "<matplotlib.figure.Figure at 0x10ec0b0b8>"
      ]
     },
     "metadata": {},
     "output_type": "display_data"
    }
   ],
   "source": [
    "seed = 36\n",
    "degree = 7\n",
    "split_ratio = 0.5\n",
    "ridge_regression_demo(x, y, degree, split_ratio, seed)"
   ]
  },
  {
   "cell_type": "code",
   "execution_count": null,
   "metadata": {
    "collapsed": true
   },
   "outputs": [],
   "source": []
  }
 ],
 "metadata": {
  "anaconda-cloud": {},
  "kernelspec": {
   "display_name": "Python 3",
   "language": "python",
   "name": "python3"
  },
  "language_info": {
   "codemirror_mode": {
    "name": "ipython",
    "version": 3
   },
   "file_extension": ".py",
   "mimetype": "text/x-python",
   "name": "python",
   "nbconvert_exporter": "python",
   "pygments_lexer": "ipython3",
   "version": "3.6.2"
  }
 },
 "nbformat": 4,
 "nbformat_minor": 1
}
