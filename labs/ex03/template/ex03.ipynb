{
 "cells": [
  {
   "cell_type": "code",
   "execution_count": 247,
   "metadata": {},
   "outputs": [
    {
     "name": "stdout",
     "output_type": "stream",
     "text": [
      "The autoreload extension is already loaded. To reload it, use:\n",
      "  %reload_ext autoreload\n"
     ]
    }
   ],
   "source": [
    "# Useful starting lines\n",
    "%matplotlib inline\n",
    "import numpy as np\n",
    "import matplotlib.pyplot as plt\n",
    "%load_ext autoreload\n",
    "%autoreload 2"
   ]
  },
  {
   "cell_type": "markdown",
   "metadata": {},
   "source": [
    "# 1 Least squares and linear basis functions models\n",
    "## 1.1 Least squares"
   ]
  },
  {
   "cell_type": "code",
   "execution_count": 248,
   "metadata": {},
   "outputs": [],
   "source": [
    "def least_squares(y, tX):\n",
    "    \"\"\"calculate the least squares solution.\"\"\"\n",
    "    # ***************************************************\n",
    "    w_optimal = np.linalg.solve(np.dot(tX.T,tX),np.dot(tX.T,y))\n",
    "    error = y - np.dot(tX,w_optimal)\n",
    "    mse =  np.inner(error,error) / np.shape(y)[0] / 2\n",
    "    return w_optimal, mse\n",
    "    # ***************************************************"
   ]
  },
  {
   "cell_type": "markdown",
   "metadata": {},
   "source": [
    "### Load the data\n",
    "Here we will reuse the dataset `height_weight_genders.csv` from previous exercise section to check the correctness of your implementation. Please compare it with your previous result."
   ]
  },
  {
   "cell_type": "code",
   "execution_count": 249,
   "metadata": {},
   "outputs": [],
   "source": [
    "from helpers import *\n",
    "def test_your_least_squares():\n",
    "    height, weight, gender = load_data_from_ex02(sub_sample=False, add_outlier=False)\n",
    "    x, mean_x, std_x = standardize(height)\n",
    "    y, tx = build_model_data(x, weight)\n",
    "    # ***************************************************\n",
    "    #Normal equ\n",
    "    w_opt1, mse = least_squares(y, tx)\n",
    "    \n",
    "    #grid search\n",
    "    w0, w1 = generate_w()\n",
    "    losses = grid_search(y, tx, w0, w1)\n",
    "    lossmin, w0_opt2, w1_opt2 = get_best_parameters(w0, w1, losses)\n",
    "    \n",
    "    #GD\n",
    "    w_initial = np.array([0, 0])\n",
    "    loss, w_opt3 = leastsquaresGD(y, tx, w_initial, 500, 0.7)\n",
    "    \n",
    "    norm_NormalVsGrid = np.linalg.norm(np.array([w_opt1[0]-w0_opt2, w_opt1[1]-w1_opt2]))\n",
    "    norm_NormalVsGD = np.linalg.norm(np.array([w_opt1-w_opt3]))\n",
    "    return norm_NormalVsGrid, norm_NormalVsGD"
   ]
  },
  {
   "cell_type": "markdown",
   "metadata": {},
   "source": [
    "Test it here"
   ]
  },
  {
   "cell_type": "code",
   "execution_count": 250,
   "metadata": {},
   "outputs": [
    {
     "name": "stdout",
     "output_type": "stream",
     "text": [
      "Gradient Descent(0/499): loss=2792.236712759166, w0=51.30574540147352, w1=9.435798704492393\n",
      "Gradient Descent(30/499): loss=15.385887868829398, w0=73.29392200210519, w1=13.479712434989048\n",
      "Gradient Descent(60/499): loss=15.385887868829398, w0=73.29392200210519, w1=13.479712434989048\n",
      "Gradient Descent(90/499): loss=15.385887868829398, w0=73.29392200210519, w1=13.479712434989048\n",
      "Gradient Descent(120/499): loss=15.385887868829398, w0=73.29392200210519, w1=13.479712434989048\n",
      "Gradient Descent(150/499): loss=15.385887868829398, w0=73.29392200210519, w1=13.479712434989048\n",
      "Gradient Descent(180/499): loss=15.385887868829398, w0=73.29392200210519, w1=13.479712434989048\n",
      "Gradient Descent(210/499): loss=15.385887868829398, w0=73.29392200210519, w1=13.479712434989048\n",
      "Gradient Descent(240/499): loss=15.385887868829398, w0=73.29392200210519, w1=13.479712434989048\n",
      "Gradient Descent(270/499): loss=15.385887868829398, w0=73.29392200210519, w1=13.479712434989048\n",
      "Gradient Descent(300/499): loss=15.385887868829398, w0=73.29392200210519, w1=13.479712434989048\n",
      "Gradient Descent(330/499): loss=15.385887868829398, w0=73.29392200210519, w1=13.479712434989048\n",
      "Gradient Descent(360/499): loss=15.385887868829398, w0=73.29392200210519, w1=13.479712434989048\n",
      "Gradient Descent(390/499): loss=15.385887868829398, w0=73.29392200210519, w1=13.479712434989048\n",
      "Gradient Descent(420/499): loss=15.385887868829398, w0=73.29392200210519, w1=13.479712434989048\n",
      "Gradient Descent(450/499): loss=15.385887868829398, w0=73.29392200210519, w1=13.479712434989048\n",
      "Gradient Descent(480/499): loss=15.385887868829398, w0=73.29392200210519, w1=13.479712434989048\n",
      "0.29209765010643396 2.2061894264123476e-13\n"
     ]
    }
   ],
   "source": [
    "norm_NormalVsGrid, norm_NormalVsGD = test_your_least_squares()\n",
    "print(norm_NormalVsGrid, norm_NormalVsGD) #GD est bcp mieux"
   ]
  },
  {
   "cell_type": "markdown",
   "metadata": {},
   "source": [
    "## 1.2 Least squares with a linear basis function model\n",
    "Start from this section, we will use the dataset `dataEx3.csv`.\n",
    "\n",
    "### Implement polynomial basis functions"
   ]
  },
  {
   "cell_type": "code",
   "execution_count": 251,
   "metadata": {
    "scrolled": true
   },
   "outputs": [
    {
     "name": "stdout",
     "output_type": "stream",
     "text": [
      "shape of x (50,)\n",
      "shape of y (50,)\n"
     ]
    }
   ],
   "source": [
    "# load dataset\n",
    "x, y = load_data()\n",
    "print(\"shape of x {}\".format(x.shape))\n",
    "print(\"shape of y {}\".format(y.shape))"
   ]
  },
  {
   "cell_type": "code",
   "execution_count": 252,
   "metadata": {},
   "outputs": [],
   "source": [
    "def build_poly(x, degree):\n",
    "    \"\"\"polynomial basis functions for input data x, for j=0 up to j=degree.\"\"\"\n",
    "    # ***************************************************\n",
    "    n = x.shape[0]\n",
    "    tx_poly = np.zeros((n,degree))\n",
    "    for i in range(n):\n",
    "        for j in range(degree):\n",
    "            tx_poly[i,j] = x[i]**j\n",
    "    # INSERT YOUR CODE HERE\n",
    "    # polynomial basis function: TODO\n",
    "    # this function should return the matrix formed\n",
    "    # by applying the polynomial basis to the input data\n",
    "    # ***************************************************\n",
    "    return tx_poly"
   ]
  },
  {
   "cell_type": "markdown",
   "metadata": {},
   "source": [
    "Let us play with polynomial regression. Note that we will use your implemented function `compute_mse`. Please copy and paste your implementation from exercise02."
   ]
  },
  {
   "cell_type": "code",
   "execution_count": 253,
   "metadata": {},
   "outputs": [],
   "source": [
    "from plots import *\n",
    "\n",
    "def compute_mse(y, tx, w):\n",
    "    \"\"\"Calculate the loss.\"\"\"\n",
    "    error = y - np.dot(tx,w).T\n",
    "    print(error.shape, \"wwww\")\n",
    "    return np.inner(error,error) / np.shape(y)[0] / 2\n",
    "\n",
    "def polynomial_regression(x, y):\n",
    "    \"\"\"Constructing the polynomial basis function expansion of the data,\n",
    "       and then running least squares regression.\"\"\"\n",
    "    # define parameters\n",
    "    degrees = [1, 3, 7, 12] #indice de ou on se trouve dans le vect et degree = valeur\n",
    "    \n",
    "    # define the structure of the figure\n",
    "    num_row = 2\n",
    "    num_col = 2\n",
    "    f, axs = plt.subplots(num_row, num_col)\n",
    "\n",
    "    for ind, degree in enumerate(degrees):\n",
    "        # ***************************************************\n",
    "        # INSERT YOUR CODE HERE\n",
    "        # form the data to do polynomial regression.: TODO\n",
    "        tx_poly = build_poly(x, degree)\n",
    "        # INSERT YOUR CODE HERE\n",
    "        # least square and calculate RMSE: TODO\n",
    "        weights, mse = least_squares(y, tx_poly)\n",
    "        rmse = np.sqrt(2*mse)\n",
    "\n",
    "        print(\"Processing {i}th experiment, degree={d}, rmse={loss}\".format(\n",
    "              i=ind + 1, d=degree, loss=rmse))\n",
    "        # plot fit\n",
    "        plot_fitted_curve(\n",
    "            y, x, weights, degree, axs[ind // num_col][ind % num_col])\n",
    "    plt.tight_layout()\n",
    "    plt.savefig(\"visualize_polynomial_regression\")\n",
    "    plt.show()"
   ]
  },
  {
   "cell_type": "markdown",
   "metadata": {},
   "source": [
    "Run polynomial regression"
   ]
  },
  {
   "cell_type": "code",
   "execution_count": 254,
   "metadata": {},
   "outputs": [
    {
     "name": "stdout",
     "output_type": "stream",
     "text": [
      "Processing 1th experiment, degree=1, rmse=0.7078805834165345\n",
      "Processing 2th experiment, degree=3, rmse=0.466981968954414\n",
      "Processing 3th experiment, degree=7, rmse=0.24969890274509077\n",
      "Processing 4th experiment, degree=12, rmse=0.2411943685010285\n"
     ]
    },
    {
     "data": {
      "image/png": "[encoded data removed]",
      "text/plain": [
       "<Figure size 432x288 with 4 Axes>"
      ]
     },
     "metadata": {
      "needs_background": "light"
     },
     "output_type": "display_data"
    }
   ],
   "source": [
    "polynomial_regression(x,y)\n",
    "#conclusion: deg 7 est le mieux, deg 12 overfit je pense"
   ]
  },
  {
   "cell_type": "markdown",
   "metadata": {},
   "source": [
    "# 2 Evaluating model predication performance\n",
    "\n",
    "\n",
    "Let us show the train and test splits for various polynomial degrees. First of all, please fill in the function `split_data()`"
   ]
  },
  {
   "cell_type": "code",
   "execution_count": 307,
   "metadata": {},
   "outputs": [],
   "source": [
    "def split_data(x, y, ratio, seed=1):\n",
    "    \"\"\"\n",
    "    split the dataset based on the split ratio. If ratio is 0.8 \n",
    "    you will have 80% of your data set dedicated to training \n",
    "    and the rest dedicated to testing\n",
    "    \"\"\"\n",
    "    # set seed\n",
    "    np.random.seed(seed)\n",
    "    # ***************************************************\n",
    "    # INSERT YOUR CODE HERE\n",
    "    # split the data based on the given ratio: TODO\n",
    "    np.random.shuffle(x)\n",
    "    np.random.shuffle(y)\n",
    "    limit = int(ratio*x.shape[0])\n",
    "    train_set_x = x[:limit]\n",
    "    test_set_x = x[limit+1:]\n",
    "    train_set_y = y[:limit]\n",
    "    test_set_y = y[limit+1:]\n",
    "    #train_set = zip(train_set_x, train_set_y)\n",
    "    #test_set = zip(test_set_x, test_set_y)\n",
    "    print(test_set_x[:10])\n",
    "    return train_set_x, train_set_y, test_set_x, test_set_y"
   ]
  },
  {
   "cell_type": "markdown",
   "metadata": {},
   "source": [
    "Then, test your `split_data` function below."
   ]
  },
  {
   "cell_type": "code",
   "execution_count": 308,
   "metadata": {},
   "outputs": [],
   "source": [
    "def train_test_split_demo(x, y, degree, ratio, seed):\n",
    "    \"\"\"polynomial regression with different split ratios and different degrees.\"\"\"\n",
    "    # ***************************************************\n",
    "    train_set_x, train_set_y, test_set_x, test_set_y = split_data(x, y, ratio, seed=1)\n",
    "    # split the data, and return train and test data: TODO\n",
    "    tx_poly_train = build_poly(train_set_x, degree)\n",
    "    tx_poly_test = build_poly(test_set_x, degree)\n",
    "    # form train and test data with polynomial basis function: TODO\n",
    "    weights_train, mse = least_squares(train_set_y, tx_poly_train)\n",
    "    # calculate weight through least square.: TODO\n",
    "    rmse_tr = np.sqrt(2*mse)\n",
    "    rmse_te = np.sqrt(2*compute_mse(test_set_y,tx_poly_test,weights_train))\n",
    "    # calculate RMSE for train and test data,\n",
    "    # and store them in rmse_tr and rmse_te respectively: TODO\n",
    "    # ***************************************************\n",
    "    print(\"proportion={p}, degree={d}, Training RMSE={tr:.3f}, Testing RMSE={te:.3f}\".format(\n",
    "          p=ratio, d=degree, tr=rmse_tr, te=rmse_te))\n"
   ]
  },
  {
   "cell_type": "code",
   "execution_count": 309,
   "metadata": {},
   "outputs": [
    {
     "name": "stdout",
     "output_type": "stream",
     "text": [
      "[1.48806201 3.25468638 2.87612401 1.74043692]\n",
      "(4,) wwww\n",
      "proportion=0.9, degree=1, Training RMSE=0.715, Testing RMSE=0.718\n",
      "[1.2356871  5.65224803 6.0308104  1.61424946]\n",
      "(4,) wwww\n",
      "proportion=0.9, degree=3, Training RMSE=0.666, Testing RMSE=1.155\n",
      "[1.48806201 5.90462294 3.7594362  3.50706129]\n",
      "(4,) wwww\n",
      "proportion=0.9, degree=7, Training RMSE=0.665, Testing RMSE=0.855\n",
      "[1.2356871  3.38087384 6.15699785 3.12849893]\n",
      "(4,) wwww\n",
      "proportion=0.9, degree=12, Training RMSE=0.525, Testing RMSE=1.015\n",
      "[6.28318531 1.99281183 0.85712473 5.14749821 4.39037348 4.01181111\n",
      " 2.11899928 3.00231147 0.60474982 0.1       ]\n",
      "(24,) wwww\n",
      "proportion=0.5, degree=1, Training RMSE=0.754, Testing RMSE=0.673\n",
      "[3.00231147 2.24518674 4.39037348 0.73093728 0.85712473 0.98331219\n",
      " 0.60474982 3.63324875 2.49756165 2.74993656]\n",
      "(24,) wwww\n",
      "proportion=0.5, degree=3, Training RMSE=0.647, Testing RMSE=0.676\n",
      "[3.63324875 2.87612401 0.85712473 2.11899928 4.39037348 0.35237491\n",
      " 2.49756165 4.51656093 4.64274839 1.74043692]\n",
      "(24,) wwww\n",
      "proportion=0.5, degree=7, Training RMSE=0.573, Testing RMSE=0.844\n",
      "[4.51656093 6.0308104  4.39037348 0.60474982 0.85712473 5.77843549\n",
      " 4.64274839 4.76893584 3.88562366 1.61424946]\n",
      "(24,) wwww\n",
      "proportion=0.5, degree=12, Training RMSE=0.678, Testing RMSE=4.951\n",
      "[5.90462294 0.60474982 1.2356871  5.77843549 4.64274839 2.74993656\n",
      " 3.00231147 3.25468638 6.15699785 2.37137419]\n",
      "(44,) wwww\n",
      "proportion=0.1, degree=1, Training RMSE=0.547, Testing RMSE=0.816\n",
      "[3.38087384 2.49756165 1.48806201 0.22618746 3.88562366 1.74043692\n",
      " 3.63324875 5.65224803 4.26418602 4.8951233 ]\n",
      "(44,) wwww\n",
      "proportion=0.1, degree=3, Training RMSE=0.527, Testing RMSE=0.762\n",
      "[4.13799857 4.64274839 1.2356871  0.1        1.99281183 1.61424946\n",
      " 4.51656093 5.90462294 3.25468638 2.37137419]\n",
      "(44,) wwww\n",
      "proportion=0.1, degree=7, Training RMSE=0.000, Testing RMSE=385.068\n",
      "[5.27368567 3.88562366 1.48806201 2.74993656 2.24518674 3.50706129\n",
      " 4.76893584 3.38087384 5.65224803 4.8951233 ]\n",
      "(44,) wwww\n",
      "proportion=0.1, degree=12, Training RMSE=0.000, Testing RMSE=6.567\n"
     ]
    }
   ],
   "source": [
    "seed = 6\n",
    "degrees = [1,3, 7, 12]\n",
    "split_ratios = [0.9, 0.5, 0.1]\n",
    "\n",
    "for split_ratio in split_ratios:\n",
    "    for degree in degrees:\n",
    "        train_test_split_demo(x, y, degree, split_ratio, seed)\n",
    "\n",
    "#best is 90% train and 10% test"
   ]
  },
  {
   "cell_type": "markdown",
   "metadata": {},
   "source": [
    "# 3 Ridge Regression\n",
    "Please fill in the function below."
   ]
  },
  {
   "cell_type": "code",
   "execution_count": 310,
   "metadata": {},
   "outputs": [
    {
     "name": "stdout",
     "output_type": "stream",
     "text": [
      "[4.26418602 4.8951233  6.28318531 3.50706129 2.74993656 1.48806201\n",
      " 4.76893584 0.47856237 4.64274839]\n",
      "Gradient Descent(0/499): loss=0.23918480100446823, w0=-3.8193659749999985e-05, w1=-0.0003430475034308424\n",
      "Gradient Descent(30/499): loss=0.2390044368282504, w0=0.0009159266377351634, w1=-0.0007011073009900828\n",
      "Gradient Descent(60/499): loss=0.23899729083219895, w0=0.0018215289952234828, w1=-0.0011985381139092567\n",
      "Gradient Descent(90/499): loss=0.23899031655096964, w0=0.002708020120125946, w1=-0.0017041909890381732\n",
      "Gradient Descent(120/499): loss=0.23898350359922568, w0=0.0035771985856777257, w1=-0.0022157383143936848\n",
      "Gradient Descent(150/499): loss=0.23897684388381446, w0=0.00443057785855281, w1=-0.0027312505194811505\n",
      "Gradient Descent(180/499): loss=0.23897033092207245, w0=0.00526943368747369, w1=-0.0032491294440970433\n",
      "Gradient Descent(210/499): loss=0.2389639593679543, w0=0.006094843553161817, w1=-0.003768053023904567\n",
      "Gradient Descent(240/499): loss=0.23895772468251839, w0=0.0069077195479093105, w1=-0.0042869291919469974\n",
      "Gradient Descent(270/499): loss=0.23895162290468658, w0=0.007708835779315449, w1=-0.004804857460802656\n",
      "Gradient Descent(300/499): loss=0.238945650491659, w0=0.008498851210391248, w1=-0.005321096905851123\n",
      "Gradient Descent(330/499): loss=0.23893980420771643, w0=0.009278328696271775, w1=-0.005835039483277553\n",
      "Gradient Descent(360/499): loss=0.2389340810466404, w0=0.010047750851127447, w1=-0.006346187794089225\n",
      "Gradient Descent(390/499): loss=0.2389284781774874, w0=0.010807533273315784, w1=-0.00685413655347165\n",
      "Gradient Descent(420/499): loss=0.23892299290659574, w0=0.011558035568848705, w1=-0.007358557148200228\n",
      "Gradient Descent(450/499): loss=0.23891762265086877, w0=0.012299570539938548, w1=-0.007859184767657177\n",
      "Gradient Descent(480/499): loss=0.23891236491890216, w0=0.013032411844286966, w1=-0.008355807679705703\n",
      "0.08299561999465951\n"
     ]
    }
   ],
   "source": [
    "def ridge_regression(y, tX, lambda_):\n",
    "    \"\"\"implement ridge regression.\"\"\"\n",
    "    # ***************************************************\n",
    "    n = np.shape(tX)[0]\n",
    "    w_optimal = []\n",
    "    if tX.ndim > 1:\n",
    "        d = np.shape(tX)[1]\n",
    "        w_optimal = np.linalg.solve((np.dot(tX.T,tX) + lambda_*n*2*np.eye(d)) ,np.dot(tX.T,y))\n",
    "    else:\n",
    "        d = 1\n",
    "        w_optimal = np.dot(np.linalg.inv(np.dot(tX.T,tX) + lambda_*n*2*np.eye(d)),np.dot(tX.T,y))\n",
    "    error = y - np.dot(tX,w_optimal)\n",
    "    mse =  np.inner(error,error) / n / 2\n",
    "    # ***************************************************\n",
    "    return w_optimal, mse\n",
    "\n",
    "train_set_x, train_set_y, test_set_x, test_set_y = split_data(x, y, 0.8, 1)\n",
    "tx_poly_train = build_poly(train_set_x, 3)\n",
    "tx_poly_test = build_poly(test_set_x, 3)    \n",
    "\n",
    "w_initial = np.array([0, 0,0])\n",
    "loss, w_opt3 = leastsquaresGD(train_set_y, tx_poly_train, w_initial, 500, 0.005)\n",
    "\n",
    "w_optimal1, mse = ridge_regression(train_set_y, tx_poly_train, 0)\n",
    "res = np.linalg.norm(np.array([w_optimal1-w_opt3]))\n",
    "print(res)"
   ]
  },
  {
   "cell_type": "code",
   "execution_count": 316,
   "metadata": {},
   "outputs": [],
   "source": [
    "def ridge_regression_demo(x, y, degree, ratio, seed):\n",
    "    \"\"\"ridge regression demo.\"\"\"\n",
    "    # define parameter\n",
    "    lambdas = np.logspace(-5, 0, 30)\n",
    "    # ***************************************************\n",
    "    train_set_x, train_set_y, test_set_x, test_set_y = split_data(x, y, ratio, seed)\n",
    "    tx_poly_train = build_poly(train_set_x, degree)\n",
    "    tx_poly_test = build_poly(test_set_x, degree)    \n",
    "\n",
    "    rmse_tr = []\n",
    "    rmse_te = []\n",
    "    for ind, lambda_ in enumerate(lambdas):\n",
    "        # ***************************************************\n",
    "        # INSERT YOUR CODE HERE\n",
    "        # ridge regression with a given lambda\n",
    "        w_train, mse = ridge_regression(train_set_y, tx_poly_train, lambda_)\n",
    "        rmse_tr.append(np.sqrt(2*mse))\n",
    "        rmse_te.append(np.sqrt(2*compute_mse(test_set_y,tx_poly_test,w_train)))\n",
    "        # ***************************************************\n",
    "        print(\"proportion={p}, degree={d}, lambda={l:.3f}, Training RMSE={tr:.3f}, Testing RMSE={te:.3f}\".format(\n",
    "               p=ratio, d=degree, l=lambda_, tr=rmse_tr[ind], te=rmse_te[ind]))\n",
    "        \n",
    "    # Plot the obtained results\n",
    "    plot_train_test(rmse_tr, rmse_te, lambdas, degree)"
   ]
  },
  {
   "cell_type": "code",
   "execution_count": null,
   "metadata": {},
   "outputs": [],
   "source": []
  },
  {
   "cell_type": "code",
   "execution_count": null,
   "metadata": {},
   "outputs": [],
   "source": []
  },
  {
   "cell_type": "code",
   "execution_count": 323,
   "metadata": {},
   "outputs": [
    {
     "name": "stdout",
     "output_type": "stream",
     "text": [
      "[2.11899928 4.64274839 2.37137419 2.6237491  4.76893584 2.87612401\n",
      " 5.14749821 5.39987312 1.86662437 4.01181111]\n",
      "(24,) wwww\n",
      "proportion=0.5, degree=7, lambda=0.000, Training RMSE=0.591, Testing RMSE=0.808\n",
      "(24,) wwww\n",
      "proportion=0.5, degree=7, lambda=0.000, Training RMSE=0.591, Testing RMSE=0.808\n",
      "(24,) wwww\n",
      "proportion=0.5, degree=7, lambda=0.000, Training RMSE=0.591, Testing RMSE=0.809\n",
      "(24,) wwww\n",
      "proportion=0.5, degree=7, lambda=0.000, Training RMSE=0.591, Testing RMSE=0.809\n",
      "(24,) wwww\n",
      "proportion=0.5, degree=7, lambda=0.000, Training RMSE=0.591, Testing RMSE=0.809\n",
      "(24,) wwww\n",
      "proportion=0.5, degree=7, lambda=0.000, Training RMSE=0.591, Testing RMSE=0.809\n",
      "(24,) wwww\n",
      "proportion=0.5, degree=7, lambda=0.000, Training RMSE=0.591, Testing RMSE=0.809\n",
      "(24,) wwww\n",
      "proportion=0.5, degree=7, lambda=0.000, Training RMSE=0.591, Testing RMSE=0.810\n",
      "(24,) wwww\n",
      "proportion=0.5, degree=7, lambda=0.000, Training RMSE=0.591, Testing RMSE=0.810\n",
      "(24,) wwww\n",
      "proportion=0.5, degree=7, lambda=0.000, Training RMSE=0.591, Testing RMSE=0.810\n",
      "(24,) wwww\n",
      "proportion=0.5, degree=7, lambda=0.001, Training RMSE=0.591, Testing RMSE=0.810\n",
      "(24,) wwww\n",
      "proportion=0.5, degree=7, lambda=0.001, Training RMSE=0.591, Testing RMSE=0.809\n",
      "(24,) wwww\n",
      "proportion=0.5, degree=7, lambda=0.001, Training RMSE=0.591, Testing RMSE=0.809\n",
      "(24,) wwww\n",
      "proportion=0.5, degree=7, lambda=0.002, Training RMSE=0.591, Testing RMSE=0.809\n",
      "(24,) wwww\n",
      "proportion=0.5, degree=7, lambda=0.003, Training RMSE=0.592, Testing RMSE=0.808\n",
      "(24,) wwww\n",
      "proportion=0.5, degree=7, lambda=0.004, Training RMSE=0.592, Testing RMSE=0.808\n",
      "(24,) wwww\n",
      "proportion=0.5, degree=7, lambda=0.006, Training RMSE=0.593, Testing RMSE=0.808\n",
      "(24,) wwww\n",
      "proportion=0.5, degree=7, lambda=0.009, Training RMSE=0.594, Testing RMSE=0.808\n",
      "(24,) wwww\n",
      "proportion=0.5, degree=7, lambda=0.013, Training RMSE=0.595, Testing RMSE=0.808\n",
      "(24,) wwww\n",
      "proportion=0.5, degree=7, lambda=0.019, Training RMSE=0.596, Testing RMSE=0.808\n",
      "(24,) wwww\n",
      "proportion=0.5, degree=7, lambda=0.028, Training RMSE=0.596, Testing RMSE=0.809\n",
      "(24,) wwww\n",
      "proportion=0.5, degree=7, lambda=0.042, Training RMSE=0.597, Testing RMSE=0.809\n",
      "(24,) wwww\n",
      "proportion=0.5, degree=7, lambda=0.062, Training RMSE=0.598, Testing RMSE=0.809\n",
      "(24,) wwww\n",
      "proportion=0.5, degree=7, lambda=0.092, Training RMSE=0.599, Testing RMSE=0.808\n",
      "(24,) wwww\n",
      "proportion=0.5, degree=7, lambda=0.137, Training RMSE=0.600, Testing RMSE=0.806\n",
      "(24,) wwww\n",
      "proportion=0.5, degree=7, lambda=0.204, Training RMSE=0.602, Testing RMSE=0.803\n",
      "(24,) wwww\n",
      "proportion=0.5, degree=7, lambda=0.304, Training RMSE=0.605, Testing RMSE=0.798\n",
      "(24,) wwww\n",
      "proportion=0.5, degree=7, lambda=0.452, Training RMSE=0.608, Testing RMSE=0.792\n",
      "(24,) wwww\n",
      "proportion=0.5, degree=7, lambda=0.672, Training RMSE=0.613, Testing RMSE=0.785\n",
      "(24,) wwww\n",
      "proportion=0.5, degree=7, lambda=1.000, Training RMSE=0.618, Testing RMSE=0.778\n"
     ]
    },
    {
     "data": {
      "image/png": "[encoded data removed]",
      "text/plain": [
       "<Figure size 432x288 with 1 Axes>"
      ]
     },
     "metadata": {
      "needs_background": "light"
     },
     "output_type": "display_data"
    }
   ],
   "source": [
    "seed = 56\n",
    "degree = 7\n",
    "split_ratio = 0.5\n",
    "ridge_regression_demo(x, y, degree, split_ratio, seed)\n",
    "#resultat dep fortement des CI, change a chaque fois a cause de shuffle malgré le seed, mais des fois c bon"
   ]
  },
  {
   "cell_type": "code",
   "execution_count": null,
   "metadata": {},
   "outputs": [],
   "source": []
  },
  {
   "cell_type": "code",
   "execution_count": null,
   "metadata": {},
   "outputs": [],
   "source": []
  }
 ],
 "metadata": {
  "anaconda-cloud": {},
  "kernelspec": {
   "display_name": "Python 3",
   "language": "python",
   "name": "python3"
  },
  "language_info": {
   "codemirror_mode": {
    "name": "ipython",
    "version": 3
   },
   "file_extension": ".py",
   "mimetype": "text/x-python",
   "name": "python",
   "nbconvert_exporter": "python",
   "pygments_lexer": "ipython3",
   "version": "3.6.8"
  }
 },
 "nbformat": 4,
 "nbformat_minor": 1
}
