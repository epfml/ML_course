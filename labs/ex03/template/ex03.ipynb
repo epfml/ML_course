{
 "cells": [
  {
   "cell_type": "code",
   "execution_count": 60,
   "metadata": {
    "collapsed": false
   },
   "outputs": [
    {
     "name": "stdout",
     "output_type": "stream",
     "text": [
      "The autoreload extension is already loaded. To reload it, use:\n",
      "  %reload_ext autoreload\n"
     ]
    }
   ],
   "source": [
    "# Useful starting lines\n",
    "%matplotlib inline\n",
    "import numpy as np\n",
    "import matplotlib.pyplot as plt\n",
    "%load_ext autoreload\n",
    "%autoreload 2\n",
    "from helpers import *"
   ]
  },
  {
   "cell_type": "markdown",
   "metadata": {},
   "source": [
    "# Least squares and linear basis functions models\n",
    "## Least squares"
   ]
  },
  {
   "cell_type": "code",
   "execution_count": 64,
   "metadata": {
    "collapsed": true
   },
   "outputs": [],
   "source": [
    "def compute_mse(y, tx, w):\n",
    "    N = tx.shape[0]\n",
    "    e = y - np.dot(tx, w)\n",
    "    loss = 1/(2*N) * np.dot(e.T, e)\n",
    "    return loss\n",
    "\n",
    "def least_squares(y, tx):\n",
    "    \"\"\"calculate the least squares solution.\"\"\"\n",
    "    # ***************************************************\n",
    "    # INSERT YOUR CODE HERE\n",
    "    # least squares: TODO\n",
    "    # returns mse, and optimal weights\n",
    "    # ***************************************************\n",
    "    w_star = np.linalg.inv(np.dot(tx.T, tx)).dot(tx.T).dot(y)\n",
    "    mse = compute_mse(y, tx, w_star)\n",
    "    return mse, w_star\n",
    "\n",
    "def least_squares_solve(y, tx):\n",
    "    \"\"\"calculate the least squares solution.\"\"\"\n",
    "    # ***************************************************\n",
    "    # INSERT YOUR CODE HERE\n",
    "    # least squares: TODO\n",
    "    # returns mse, and optimal weights\n",
    "    # ***************************************************\n",
    "    A = np.dot(tx.T, tx)\n",
    "    b = np.dot(tx.T, y)\n",
    "    \n",
    "    w_star = np.linalg.solve(A, b)\n",
    "    mse = compute_mse(y, tx, w_star)\n",
    "    return mse, w_star"
   ]
  },
  {
   "cell_type": "markdown",
   "metadata": {},
   "source": [
    "### Load the data\n",
    "Here we will reuse the dataset `height_weight_genders.csv` from previous exercise section to check the correctness of your implementation. Please compare it with your previous result."
   ]
  },
  {
   "cell_type": "code",
   "execution_count": 20,
   "metadata": {
    "collapsed": false
   },
   "outputs": [
    {
     "name": "stdout",
     "output_type": "stream",
     "text": [
      "Mean square error:\n",
      "CPU times: user 853 µs, sys: 59 µs, total: 912 µs\n",
      "Wall time: 428 µs\n",
      "loss: 15.3858878688\n",
      "weighths: [ 73.293922    13.47971243]\n",
      "\n",
      "Mean square error (with solver):\n",
      "CPU times: user 559 µs, sys: 3 µs, total: 562 µs\n",
      "Wall time: 288 µs\n",
      "loss: 15.3858878688\n",
      "weighths: [ 73.293922    13.47971243]\n",
      "\n",
      "Grid search:\n",
      "loss: 15.3979057082\n",
      "weighths: [73.146292585170357, 13.527054108216447]\n",
      "\n"
     ]
    }
   ],
   "source": [
    "def test_your_least_squares():\n",
    "    height, weight, gender = load_data_from_ex02(sub_sample=False, add_outlier=False)\n",
    "    x, mean_x, std_x = standardize(height)\n",
    "    y, tx = build_model_data(x, weight)\n",
    "    # ***************************************************\n",
    "    # INSERT YOUR CODE HERE\n",
    "    # least square or grid search: TODO\n",
    "    # this code should compare the optimal weights obtained \n",
    "    # by least squares vs. grid search\n",
    "    # ***************************************************\n",
    "    \n",
    "    print('Mean square error:')\n",
    "    %time least_squares(y, tx)\n",
    "    mse_ls, w_ls = least_squares(y, tx)\n",
    "    print('loss:', mse_ls)\n",
    "    print('weighths:', w_ls)\n",
    "    print()\n",
    "    \n",
    "    \n",
    "    print('Mean square error (with solver):')\n",
    "    %time least_squares_solve(y, tx)\n",
    "    mse_lss, w_lss = least_squares_solve(y, tx)\n",
    "    print('loss:', mse_lss)\n",
    "    print('weighths:', w_lss)\n",
    "    print()\n",
    "    \n",
    "    \n",
    "    \n",
    "    # Grid search\n",
    "    print('Grid search:')\n",
    "    grid_w0, grid_w1 = generate_w(num_intervals=500)\n",
    "    grid_losses = grid_search(y, tx, grid_w0, grid_w1)\n",
    "    mse_gs, w_gs = get_best_parameters(grid_w0, grid_w1, grid_losses)\n",
    "    \n",
    "    print('loss:', mse_gs)\n",
    "    print('weighths:', w_gs)\n",
    "    print()\n",
    "    \n",
    "\n",
    "test_your_least_squares()"
   ]
  },
  {
   "cell_type": "markdown",
   "metadata": {},
   "source": [
    "## Least squares with a linear basis function model\n",
    "Start from this section, we will use the dataset `dataEx3.csv`.\n",
    "\n",
    "### Implement polynomial basis functions"
   ]
  },
  {
   "cell_type": "code",
   "execution_count": 67,
   "metadata": {
    "collapsed": false,
    "scrolled": true
   },
   "outputs": [
    {
     "name": "stdout",
     "output_type": "stream",
     "text": [
      "shape of x (50,)\n",
      "shape of y (50,)\n"
     ]
    }
   ],
   "source": [
    "# load dataset\n",
    "x, y = load_data()\n",
    "print(\"shape of x {}\".format(x.shape))\n",
    "print(\"shape of y {}\".format(y.shape))"
   ]
  },
  {
   "cell_type": "code",
   "execution_count": 68,
   "metadata": {
    "collapsed": true
   },
   "outputs": [],
   "source": [
    "def build_poly(x, degree):\n",
    "    \"\"\"polynomial basis functions for input data x, for j=0 up to j=degree.\"\"\"\n",
    "    # ***************************************************\n",
    "    # INSERT YOUR CODE HERE\n",
    "    # polynomial basis function: TODO\n",
    "    # this function should return the matrix formed\n",
    "    # by applying the polynomial basis to the input data\n",
    "    # ***************************************************\n",
    "    return np.array([[ x_n ** m for m in range(degree)] for x_n in x])"
   ]
  },
  {
   "cell_type": "markdown",
   "metadata": {},
   "source": [
    "Let us play with polynomial regression. Note that we will use your implemented function `compute_mse`. Please copy and paste your implementation from exercise02."
   ]
  },
  {
   "cell_type": "code",
   "execution_count": 77,
   "metadata": {
    "collapsed": false
   },
   "outputs": [
    {
     "name": "stdout",
     "output_type": "stream",
     "text": [
      "Processing 1th experiment, degree=1, rmse=0.7078805834165345\n",
      "Processing 2th experiment, degree=3, rmse=0.4669819689544141\n",
      "Processing 3th experiment, degree=7, rmse=0.24969890274508796\n",
      "Processing 4th experiment, degree=12, rmse=0.24644764660931437\n"
     ]
    },
    {
     "data": {
      "image/png": "[encoded data removed]",
      "text/plain": [
       "<matplotlib.figure.Figure at 0x10efb6898>"
      ]
     },
     "metadata": {},
     "output_type": "display_data"
    }
   ],
   "source": [
    "from plots import *\n",
    "\n",
    "def compute_rmse(y, tx, w):\n",
    "    return np.sqrt(2 * compute_mse(y, tx, w))\n",
    "\n",
    "def polynomial_regression():\n",
    "    \"\"\"Constructing the polynomial basis function expansion of the data,\n",
    "       and then running least squares regression.\"\"\"\n",
    "    # define parameters\n",
    "    degrees = [1, 3, 7, 12]\n",
    "    \n",
    "    # define the structure of figure\n",
    "    num_row = 2\n",
    "    num_col = 2\n",
    "    f, axs = plt.subplots(num_row, num_col)\n",
    "\n",
    "    for ind, degree in enumerate(degrees):\n",
    "        # ***************************************************\n",
    "        # form the data to do polynomial regression.\n",
    "        # ***************************************************\n",
    "        Øt = build_poly(x, degree)\n",
    "    \n",
    "        # ***************************************************\n",
    "        # least square and calculate rmse\n",
    "        # ***************************************************       \n",
    "        _, weight = least_squares_solve(y, Øt) \n",
    "        rmse = compute_rmse(y, Øt, weight)\n",
    "\n",
    "        print(\"Processing {i}th experiment, degree={d}, rmse={loss}\".format(\n",
    "              i=ind + 1, d=degree, loss=rmse))\n",
    "        # plot fit\n",
    "        plot_fitted_curve(\n",
    "            y, x, weight, degree, axs[ind // num_col][ind % num_col])\n",
    "    plt.tight_layout()\n",
    "    plt.savefig(\"visualize_polynomial_regression\")\n",
    "    plt.show()\n",
    "\n",
    "\n",
    "polynomial_regression()"
   ]
  },
  {
   "cell_type": "markdown",
   "metadata": {},
   "source": [
    "# Evaluating model predication performance\n",
    "\n",
    "Let us show the train and test splits for various polynomial degrees. First of all, please fill in the function `split_data()`"
   ]
  },
  {
   "cell_type": "code",
   "execution_count": 78,
   "metadata": {
    "collapsed": false
   },
   "outputs": [],
   "source": [
    "def split_data(x, y, ratio, seed=1):\n",
    "    \"\"\"split the dataset based on the split ratio.\"\"\"\n",
    "    # set seed\n",
    "    np.random.seed(seed)\n",
    "    # ***************************************************\n",
    "    # split the data based on the given ratio\n",
    "    # ***************************************************\n",
    "    \n",
    "    # Make sure x and y are numpy arrays\n",
    "    x, y, = np.array(x), np.array(y)\n",
    "    \n",
    "    # Generate random indecies\n",
    "    N = len(y)\n",
    "    indecies = np.random.permutation(N)\n",
    "    \n",
    "    # Split the indecies based on the given ratio\n",
    "    split = int(N * ratio)\n",
    "    train_indecies = indecies[:split]\n",
    "    test_indecies = indecies[split:]\n",
    "\n",
    "    # Use the train-indecies to make the training set \n",
    "    train_x = x[train_indecies]\n",
    "    train_y = y[train_indecies]\n",
    "    \n",
    "    # Use the train-indecies to make the training set \n",
    "    test_x = x[test_indecies]\n",
    "    test_y = y[test_indecies]\n",
    "    \n",
    "    return (train_x, train_y), (test_x, test_y)"
   ]
  },
  {
   "cell_type": "markdown",
   "metadata": {},
   "source": [
    "Then, test your `split_data` function below."
   ]
  },
  {
   "cell_type": "code",
   "execution_count": 80,
   "metadata": {
    "collapsed": false
   },
   "outputs": [
    {
     "name": "stdout",
     "output_type": "stream",
     "text": [
      "proportion=0.9, degree=1, Training RMSE=0.734, Testing RMSE=0.403\n",
      "proportion=0.9, degree=3, Training RMSE=0.487, Testing RMSE=0.211\n",
      "proportion=0.9, degree=7, Training RMSE=0.254, Testing RMSE=0.214\n",
      "proportion=0.9, degree=12, Training RMSE=0.242, Testing RMSE=0.253\n",
      "proportion=0.5, degree=1, Training RMSE=0.795, Testing RMSE=0.611\n",
      "proportion=0.5, degree=3, Training RMSE=0.451, Testing RMSE=0.565\n",
      "proportion=0.5, degree=7, Training RMSE=0.233, Testing RMSE=0.282\n",
      "proportion=0.5, degree=12, Training RMSE=0.208, Testing RMSE=0.559\n",
      "proportion=0.1, degree=1, Training RMSE=0.820, Testing RMSE=0.805\n",
      "proportion=0.1, degree=3, Training RMSE=0.279, Testing RMSE=0.686\n",
      "proportion=0.1, degree=7, Training RMSE=0.000, Testing RMSE=2.627\n",
      "proportion=0.1, degree=12, Training RMSE=0.000, Testing RMSE=1.582\n"
     ]
    }
   ],
   "source": [
    "def train_test_split_demo(x, y, degree, ratio, seed):\n",
    "    \"\"\"polynomial regression with different split ratios and different degrees.\"\"\"\n",
    "    # ***************************************************\n",
    "    # split the data, and return train and test data\n",
    "    # ***************************************************\n",
    "    \n",
    "    train_data, test_data = split_data(x, y, ratio, seed)\n",
    "    \n",
    "    train_x, train_y = train_data\n",
    "    test_x, test_y = test_data\n",
    "\n",
    "    # ***************************************************\n",
    "    # form train and test data with polynomial basis function\n",
    "    # ***************************************************\n",
    "    train_Ø = build_poly(train_x, degree)\n",
    "    test_Ø = build_poly(test_x, degree)\n",
    "    \n",
    "    # ***************************************************\n",
    "    # calcualte weight through least square.:\n",
    "    # ***************************************************\n",
    "    _, weight = least_squares_solve(train_y, train_Ø)\n",
    "    \n",
    "\n",
    "    # ***************************************************\n",
    "    # calculate RMSE for train and test data,\n",
    "    # and store them in rmse_tr and rmse_te respectively: TODO\n",
    "    # ***************************************************\n",
    "    rmse_tr = compute_rmse(train_y, train_Ø, weight)\n",
    "    rmse_te = compute_rmse(test_y, test_Ø, weight)\n",
    "    \n",
    "    print(\"proportion={p}, degree={d}, Training RMSE={tr:.3f}, Testing RMSE={te:.3f}\".format(\n",
    "          p=ratio, d=degree, tr=rmse_tr, te=rmse_te))\n",
    "\n",
    "seed = 6\n",
    "degrees = [1, 3, 7, 12]\n",
    "split_ratios = [0.9, 0.5, 0.1]\n",
    "\n",
    "for split_ratio in split_ratios:\n",
    "    for degree in degrees:\n",
    "        train_test_split_demo(x, y, degree, split_ratio, seed)"
   ]
  },
  {
   "cell_type": "markdown",
   "metadata": {},
   "source": [
    "# Ridge Regression\n",
    "Please fill in the function below."
   ]
  },
  {
   "cell_type": "code",
   "execution_count": 131,
   "metadata": {
    "collapsed": true
   },
   "outputs": [],
   "source": [
    "def ridge_regression(y, tx, lamb):\n",
    "    \"\"\"implement ridge regression.\"\"\"\n",
    "    # ***************************************************\n",
    "    # ridge regression\n",
    "    # ***************************************************\n",
    "    N = tx.shape[0]\n",
    "    M = tx.shape[1]\n",
    "    \n",
    "    A = np.dot(tx.T, tx + 2*N*lamb)\n",
    "    b = np.dot(tx.T, y)\n",
    "    \n",
    "    w_star = np.linalg.solve(A, b)\n",
    "    return w_star"
   ]
  },
  {
   "cell_type": "code",
   "execution_count": 164,
   "metadata": {
    "collapsed": false
   },
   "outputs": [
    {
     "data": {
      "image/png": "[encoded data removed]",
      "text/plain": [
       "<matplotlib.figure.Figure at 0x10eeb6668>"
      ]
     },
     "metadata": {},
     "output_type": "display_data"
    }
   ],
   "source": [
    "def ridge_regression_demo(x, y, degree, ratio, seed):\n",
    "    \"\"\"ridge regression demo.\"\"\"\n",
    "    # define parameter\n",
    "    lambdas = np.logspace(-5, 0, 15)\n",
    "    \n",
    "    # ***************************************************\n",
    "    # split the data, and return train and test data\n",
    "    # ***************************************************\n",
    "    train_data, test_data = split_data(x, y, ratio, seed)\n",
    "    \n",
    "    x_train, y_train = train_data\n",
    "    x_test, y_test = test_data\n",
    "    \n",
    "    # ***************************************************\n",
    "    # form train and test data with polynomial basis function\n",
    "    # ***************************************************\n",
    "    ø_train = build_poly(x_train, degree)\n",
    "    ø_test = build_poly(x_test, degree)\n",
    "    \n",
    "    # ***************************************************\n",
    "    # ridge regression with different lambda\n",
    "    # ***************************************************\n",
    "\n",
    "    train_weights = [ridge_regression(y_train, ø_train, lamb) for lamb in lambdas]\n",
    "    train_rmses = [compute_rmse(y_train, ø_train, weight) for weight in train_weights ]\n",
    "    \n",
    "    test_weights = [ridge_regression(y_test, ø_test, lamb) for lamb in lambdas]\n",
    "    test_rmses = [compute_rmse(y_test, ø_test, weight) for weight in test_weights ]\n",
    "\n",
    "    plt.loglog(lambdas, train_rmses, 'b--', lambdas, test_rmses, 'r--')\n",
    "\n",
    "seed = 18\n",
    "degree = 7\n",
    "split_ratio = 0.5\n",
    "ridge_regression_demo(x, y, degree, split_ratio, seed)"
   ]
  },
  {
   "cell_type": "code",
   "execution_count": null,
   "metadata": {
    "collapsed": true
   },
   "outputs": [],
   "source": []
  }
 ],
 "metadata": {
  "anaconda-cloud": {},
  "kernelspec": {
   "display_name": "Python [conda root]",
   "language": "python",
   "name": "conda-root-py"
  },
  "language_info": {
   "codemirror_mode": {
    "name": "ipython",
    "version": 3
   },
   "file_extension": ".py",
   "mimetype": "text/x-python",
   "name": "python",
   "nbconvert_exporter": "python",
   "pygments_lexer": "ipython3",
   "version": "3.5.2"
  }
 },
 "nbformat": 4,
 "nbformat_minor": 0
}
