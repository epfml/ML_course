{
 "cells": [
  {
   "cell_type": "code",
   "execution_count": 65,
   "metadata": {},
   "outputs": [
    {
     "name": "stdout",
     "output_type": "stream",
     "text": [
      "The autoreload extension is already loaded. To reload it, use:\n",
      "  %reload_ext autoreload\n"
     ]
    }
   ],
   "source": [
    "# Useful starting lines\n",
    "%matplotlib inline\n",
    "import numpy as np\n",
    "import matplotlib.pyplot as plt\n",
    "%load_ext autoreload\n",
    "%autoreload 2"
   ]
  },
  {
   "cell_type": "markdown",
   "metadata": {},
   "source": [
    "# 1 Least squares and linear basis functions models\n",
    "## 1.1 Least squares"
   ]
  },
  {
   "cell_type": "code",
   "execution_count": 66,
   "metadata": {
    "collapsed": true
   },
   "outputs": [],
   "source": [
    "def least_squares(y, tx):\n",
    "    \"\"\"calculate the least squares solution.\"\"\"\n",
    "\n",
    "    # optimal weights \n",
    "    w_ls = np.linalg.inv(tx.T.dot(tx)).dot(tx.T).dot(y)\n",
    "    \n",
    "    return w_ls\n",
    "    raise NotImplementedError"
   ]
  },
  {
   "cell_type": "markdown",
   "metadata": {},
   "source": [
    "### Load the data\n",
    "Here we will reuse the dataset `height_weight_genders.csv` from previous exercise section to check the correctness of your implementation. Please compare it with your previous result."
   ]
  },
  {
   "cell_type": "code",
   "execution_count": 67,
   "metadata": {
    "collapsed": true
   },
   "outputs": [],
   "source": [
    "from helpers import *\n",
    "\n",
    "def test_your_least_squares():\n",
    "    \n",
    "    # load data\n",
    "    height, weight, gender = load_data_from_ex02(sub_sample=False, add_outlier=False)\n",
    "    x, mean_x, std_x = standardize(height)\n",
    "    y, tx = build_model_data(x, weight)\n",
    "    \n",
    "    # optimal weights\n",
    "    w_ls = least_squares(y, tx)\n",
    "    \n",
    "    return w_ls\n",
    "    raise NotImplementedError"
   ]
  },
  {
   "cell_type": "markdown",
   "metadata": {},
   "source": [
    "Test it here"
   ]
  },
  {
   "cell_type": "code",
   "execution_count": 68,
   "metadata": {},
   "outputs": [
    {
     "name": "stdout",
     "output_type": "stream",
     "text": [
      "[ 73.293922    13.47971243]\n"
     ]
    }
   ],
   "source": [
    "wls = test_your_least_squares()\n",
    "print(wls)"
   ]
  },
  {
   "cell_type": "markdown",
   "metadata": {},
   "source": [
    "## 1.2 Least squares with a linear basis function model\n",
    "Start from this section, we will use the dataset `dataEx3.csv`.\n",
    "\n",
    "### Implement polynomial basis functions"
   ]
  },
  {
   "cell_type": "code",
   "execution_count": 69,
   "metadata": {
    "scrolled": true
   },
   "outputs": [
    {
     "name": "stdout",
     "output_type": "stream",
     "text": [
      "shape of x: (50,)\n",
      "shape of y: (50,)\n"
     ]
    }
   ],
   "source": [
    "# load dataset\n",
    "x, y = load_data()\n",
    "\n",
    "# standardize dataset\n",
    "x, mean_x, std_x = standardize(x)\n",
    "\n",
    "print(\"shape of x: {}\".format(x.shape))\n",
    "print(\"shape of y: {}\".format(y.shape))"
   ]
  },
  {
   "cell_type": "code",
   "execution_count": null,
   "metadata": {
    "collapsed": true
   },
   "outputs": [],
   "source": []
  },
  {
   "cell_type": "markdown",
   "metadata": {},
   "source": [
    "Let us play with polynomial regression. Note that we will use your implemented function `compute_mse`. Please copy and paste your implementation from exercise02."
   ]
  },
  {
   "cell_type": "code",
   "execution_count": 70,
   "metadata": {
    "collapsed": true
   },
   "outputs": [],
   "source": [
    "from costs import *\n",
    "from plots import *\n",
    "\n",
    "def polynomial_regression():\n",
    "    \"\"\"Constructing the polynomial basis function expansion of the data,\n",
    "       and then running least squares regression.\"\"\"\n",
    "    \n",
    "    # define parameters\n",
    "    degrees = [2,3,10,30]\n",
    "    \n",
    "    # define the structure of the figure\n",
    "    num_row = 2\n",
    "    num_col = 2\n",
    "    f, axs = plt.subplots(num_row, num_col)\n",
    "\n",
    "    for ind, degree in enumerate(degrees):\n",
    "        \n",
    "        # apply polynomial \n",
    "        phi = build_poly(x, degree)\n",
    "        \n",
    "        # least square\n",
    "        weights = least_squares(y, phi)\n",
    "        \n",
    "        # root mean squared error   \n",
    "        rmse = np.sqrt(2*compute_mse(y, phi, weights))\n",
    "        \n",
    "        print(\"Processing {i}th experiment, degree={d}, rmse={loss}\".format(i=ind + 1, d=degree, loss=rmse))\n",
    "        \n",
    "        # plot fit\n",
    "        plot_fitted_curve(y, x, weights, degree, axs[ind // num_col][ind % num_col])\n",
    "        \n",
    "    plt.tight_layout()\n",
    "    plt.savefig(\"visualize_polynomial_regression\")\n",
    "    plt.show()"
   ]
  },
  {
   "cell_type": "markdown",
   "metadata": {},
   "source": [
    "Run polynomial regression"
   ]
  },
  {
   "cell_type": "code",
   "execution_count": 71,
   "metadata": {
    "scrolled": true
   },
   "outputs": [
    {
     "name": "stdout",
     "output_type": "stream",
     "text": [
      "Processing 1th experiment, degree=2, rmse=0.330206116939512\n",
      "Processing 2th experiment, degree=3, rmse=0.1828456348866183\n",
      "Processing 3th experiment, degree=10, rmse=0.17551506785792956\n",
      "Processing 4th experiment, degree=30, rmse=0.17405173144811695\n"
     ]
    },
    {
     "data": {
      "image/png": "[encoded data removed]",
      "text/plain": [
       "<matplotlib.figure.Figure at 0xa6eab06668>"
      ]
     },
     "metadata": {},
     "output_type": "display_data"
    }
   ],
   "source": [
    "polynomial_regression()"
   ]
  },
  {
   "cell_type": "markdown",
   "metadata": {},
   "source": [
    "# 2 Evaluating model predication performance\n",
    "\n",
    "\n",
    "Let us show the train and test splits for various polynomial degrees. First of all, please fill in the function `split_data()`"
   ]
  },
  {
   "cell_type": "code",
   "execution_count": 72,
   "metadata": {
    "collapsed": true
   },
   "outputs": [],
   "source": [
    "import random"
   ]
  },
  {
   "cell_type": "code",
   "execution_count": 73,
   "metadata": {
    "collapsed": true
   },
   "outputs": [],
   "source": [
    "def split_data(x, y, ratio, seed=1):\n",
    "    \"\"\"\n",
    "    split the dataset based on the split ratio. If ratio is 0.8 \n",
    "    you will have 80% of your data set dedicated to training \n",
    "    and the rest dedicated to testing\n",
    "    \"\"\"\n",
    "    \n",
    "    # shuffle dataset\n",
    "    #index = np.arange(len(y))\n",
    "    #random.seed(seed)\n",
    "    #random.shuffle(index)\n",
    "    \n",
    "    np.random.seed(seed)\n",
    "    index = np.arange(len(x))\n",
    "    np.random.shuffle(index)\n",
    "\n",
    "    # separation index\n",
    "    p = round(ratio * len(y))\n",
    "    \n",
    "    # training \n",
    "    x_tr = x[index[0:p]]\n",
    "    y_tr = y[index[0:p]]\n",
    "\n",
    "    # testing \n",
    "    x_te = x[index[p:]]\n",
    "    y_te = y[index[p:]]\n",
    "    \n",
    "    return x_tr, y_tr, x_te, y_te\n",
    "    \n",
    "    raise NotImplementedError"
   ]
  },
  {
   "cell_type": "markdown",
   "metadata": {},
   "source": [
    "Then, test your `split_data` function below."
   ]
  },
  {
   "cell_type": "code",
   "execution_count": 74,
   "metadata": {
    "collapsed": true
   },
   "outputs": [],
   "source": [
    "def train_test_split_demo(x, y, degree, ratio, seed):\n",
    "    \"\"\"polynomial regression with different split ratios and different degrees.\"\"\"\n",
    "    \n",
    "    #split the dataset into train and test datasets\n",
    "    x_tr, y_tr, x_te, y_te = split_data(x, y, ratio, seed=1);\n",
    "    \n",
    "    # polynomial basic functions\n",
    "    phi_tr = build_poly(x_tr, degree)\n",
    "    phi_te = build_poly(x_te, degree)\n",
    "        \n",
    "    # least square weights\n",
    "    w_tr = least_squares(y_tr, phi_tr)\n",
    "        \n",
    "    # root mean squared error   \n",
    "    rmse_tr = np.sqrt(compute_mse(y_tr, phi_tr, w_tr))\n",
    "    rmse_te = np.sqrt(compute_mse(y_te, phi_te, w_tr))\n",
    "        \n",
    "    print(\"proportion={p}, degree={d}, Training RMSE={tr:.3f}, Testing RMSE={te:.3f}\".format(p=ratio, d=degree, tr=rmse_tr, te=rmse_te))\n"
   ]
  },
  {
   "cell_type": "code",
   "execution_count": 75,
   "metadata": {
    "scrolled": false
   },
   "outputs": [
    {
     "name": "stdout",
     "output_type": "stream",
     "text": [
      "proportion=0.9, degree=1, Training RMSE=0.322, Testing RMSE=0.439\n",
      "proportion=0.9, degree=3, Training RMSE=0.187, Testing RMSE=0.151\n",
      "proportion=0.9, degree=7, Training RMSE=0.181, Testing RMSE=0.134\n",
      "proportion=0.9, degree=12, Training RMSE=0.174, Testing RMSE=0.208\n",
      "--------------\n",
      "proportion=0.5, degree=1, Training RMSE=0.283, Testing RMSE=0.391\n",
      "proportion=0.5, degree=3, Training RMSE=0.168, Testing RMSE=0.216\n",
      "proportion=0.5, degree=7, Training RMSE=0.154, Testing RMSE=0.237\n",
      "proportion=0.5, degree=12, Training RMSE=0.132, Testing RMSE=1.722\n",
      "--------------\n",
      "proportion=0.1, degree=1, Training RMSE=0.321, Testing RMSE=0.529\n",
      "proportion=0.1, degree=3, Training RMSE=0.079, Testing RMSE=0.476\n",
      "proportion=0.1, degree=7, Training RMSE=2.201, Testing RMSE=20.069\n",
      "proportion=0.1, degree=12, Training RMSE=1.652, Testing RMSE=7.667\n",
      "--------------\n"
     ]
    }
   ],
   "source": [
    "seed = 6\n",
    "degrees = [1, 3, 7, 12]\n",
    "split_ratios = [0.9, 0.5, 0.1]\n",
    "\n",
    "for split_ratio in split_ratios:\n",
    "    for degree in degrees:\n",
    "        train_test_split_demo(x, y, degree, split_ratio, seed)\n",
    "    print(\"--------------\")"
   ]
  },
  {
   "cell_type": "markdown",
   "metadata": {},
   "source": [
    "# 3 Ridge Regression\n",
    "Please fill in the function below."
   ]
  },
  {
   "cell_type": "code",
   "execution_count": 76,
   "metadata": {
    "collapsed": true
   },
   "outputs": [],
   "source": [
    "def ridge_regression(y, tx, lambda_):\n",
    "    \"\"\"implement ridge regression when the loss is the MSE.\"\"\"\n",
    "        \n",
    "    # optimal weights \n",
    "    w_rr = np.linalg.inv(tx.T.dot(tx) + lambda_*np.identity(tx.shape[1])).dot(tx.T).dot(y)\n",
    "    \n",
    "    return w_rr\n",
    "    raise NotImplementedError"
   ]
  },
  {
   "cell_type": "code",
   "execution_count": 77,
   "metadata": {
    "collapsed": true
   },
   "outputs": [],
   "source": [
    "def ridge_regression_demo(x, y, degree, ratio, seed):\n",
    "    \"\"\"ridge regression demo.\"\"\"\n",
    "    \n",
    "    # define parameter\n",
    "    lambdas = np.logspace(-5, 0, 15)\n",
    "\n",
    "    # split the data, and return train and test data: TODO\n",
    "    x_tr, y_tr, x_te, y_te = split_data(x, y, ratio, seed)\n",
    "    \n",
    "    # form train and test data with polynomial basis function\n",
    "    phi_tr = build_poly(x_tr, degree)\n",
    "    phi_te = build_poly(x_te, degree)\n",
    "    \n",
    "    rmse_tr = []\n",
    "    rmse_te = []\n",
    "    \n",
    "    for ind, lambda_ in enumerate(lambdas):\n",
    "        \n",
    "        # ridge regression with a given lambda\n",
    "        w_tr = ridge_regression(y_tr, phi_tr, lambda_)\n",
    "        \n",
    "        # root mean squared error   \n",
    "        rmse_tr.append(np.sqrt(2*compute_mse(y_tr, phi_tr, w_tr)))\n",
    "        rmse_te.append(np.sqrt(2*compute_mse(y_te, phi_te, w_tr)))\n",
    "        \n",
    "        print(\"proportion={p}, degree={d}, lambda={l:.3f}, Training RMSE={tr:.3f}, Testing RMSE={te:.3f}\".format(\n",
    "               p=ratio, d=degree, l=lambda_, tr=rmse_tr[ind], te=rmse_te[ind]))\n",
    "        \n",
    "    # Plot the obtained results\n",
    "    plot_train_test(rmse_tr, rmse_te, lambdas, degree)"
   ]
  },
  {
   "cell_type": "code",
   "execution_count": 78,
   "metadata": {},
   "outputs": [
    {
     "name": "stdout",
     "output_type": "stream",
     "text": [
      "proportion=0.5, degree=7, lambda=0.000, Training RMSE=0.172, Testing RMSE=0.211\n",
      "proportion=0.5, degree=7, lambda=0.000, Training RMSE=0.172, Testing RMSE=0.211\n",
      "proportion=0.5, degree=7, lambda=0.000, Training RMSE=0.172, Testing RMSE=0.211\n",
      "proportion=0.5, degree=7, lambda=0.000, Training RMSE=0.172, Testing RMSE=0.211\n",
      "proportion=0.5, degree=7, lambda=0.000, Training RMSE=0.172, Testing RMSE=0.211\n",
      "proportion=0.5, degree=7, lambda=0.001, Training RMSE=0.172, Testing RMSE=0.211\n",
      "proportion=0.5, degree=7, lambda=0.001, Training RMSE=0.172, Testing RMSE=0.211\n",
      "proportion=0.5, degree=7, lambda=0.003, Training RMSE=0.172, Testing RMSE=0.211\n",
      "proportion=0.5, degree=7, lambda=0.007, Training RMSE=0.172, Testing RMSE=0.210\n",
      "proportion=0.5, degree=7, lambda=0.016, Training RMSE=0.173, Testing RMSE=0.208\n",
      "proportion=0.5, degree=7, lambda=0.037, Training RMSE=0.174, Testing RMSE=0.205\n",
      "proportion=0.5, degree=7, lambda=0.085, Training RMSE=0.177, Testing RMSE=0.199\n",
      "proportion=0.5, degree=7, lambda=0.193, Training RMSE=0.182, Testing RMSE=0.190\n",
      "proportion=0.5, degree=7, lambda=0.439, Training RMSE=0.192, Testing RMSE=0.180\n",
      "proportion=0.5, degree=7, lambda=1.000, Training RMSE=0.212, Testing RMSE=0.172\n"
     ]
    },
    {
     "data": {
      "image/png": "[encoded data removed]",
      "text/plain": [
       "<matplotlib.figure.Figure at 0xa6e8686240>"
      ]
     },
     "metadata": {},
     "output_type": "display_data"
    }
   ],
   "source": [
    "# ridge regresion\n",
    "seed = 44\n",
    "degree = 7\n",
    "split_ratio = 0.5\n",
    "ridge_regression_demo(x, y, degree, split_ratio, seed)"
   ]
  },
  {
   "cell_type": "code",
   "execution_count": null,
   "metadata": {
    "collapsed": true
   },
   "outputs": [],
   "source": []
  }
 ],
 "metadata": {
  "anaconda-cloud": {},
  "kernelspec": {
   "display_name": "Python 3",
   "language": "python",
   "name": "python3"
  },
  "language_info": {
   "codemirror_mode": {
    "name": "ipython",
    "version": 3
   },
   "file_extension": ".py",
   "mimetype": "text/x-python",
   "name": "python",
   "nbconvert_exporter": "python",
   "pygments_lexer": "ipython3",
   "version": "3.6.1"
  }
 },
 "nbformat": 4,
 "nbformat_minor": 1
}
