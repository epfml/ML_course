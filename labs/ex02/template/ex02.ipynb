{
 "cells": [
  {
   "cell_type": "code",
   "execution_count": 183,
   "metadata": {
    "collapsed": false
   },
   "outputs": [
    {
     "name": "stdout",
     "output_type": "stream",
     "text": [
      "The autoreload extension is already loaded. To reload it, use:\n",
      "  %reload_ext autoreload\n"
     ]
    }
   ],
   "source": [
    "# Useful starting lines\n",
    "%matplotlib inline\n",
    "import numpy as np\n",
    "import matplotlib.pyplot as plt\n",
    "%load_ext autoreload\n",
    "%autoreload 2"
   ]
  },
  {
   "cell_type": "markdown",
   "metadata": {},
   "source": [
    "# Load the data"
   ]
  },
  {
   "cell_type": "code",
   "execution_count": 184,
   "metadata": {
    "collapsed": true
   },
   "outputs": [],
   "source": [
    "import datetime\n",
    "from helpers import *\n",
    "\n",
    "height, weight, gender = load_data(sub_sample=True, add_outlier=True)\n",
    "x, mean_x, std_x = standardize(height)\n",
    "y, tx = build_model_data(x, weight)"
   ]
  },
  {
   "cell_type": "code",
   "execution_count": 185,
   "metadata": {
    "collapsed": false
   },
   "outputs": [
    {
     "data": {
      "text/plain": [
       "((202,), (202, 2))"
      ]
     },
     "execution_count": 185,
     "metadata": {},
     "output_type": "execute_result"
    }
   ],
   "source": [
    "y.shape, tx.shape"
   ]
  },
  {
   "cell_type": "markdown",
   "metadata": {},
   "source": [
    "# Computing the Cost Function\n",
    "Fill in the the `compute_cost` function below:"
   ]
  },
  {
   "cell_type": "code",
   "execution_count": 186,
   "metadata": {
    "collapsed": false
   },
   "outputs": [
    {
     "name": "stdout",
     "output_type": "stream",
     "text": [
      "The slowest run took 5.82 times longer than the fastest. This could mean that an intermediate result is being cached.\n",
      "10000 loops, best of 3: 56 µs per loop\n"
     ]
    }
   ],
   "source": [
    "def compute_cost_mae(y, tx, w):\n",
    "    # calculate the cost using MAE\n",
    "    N = len(y)\n",
    "    e = y - np.dot(tx,w)\n",
    "    return sum([abs(e_n) for e_n in e])\n",
    "\n",
    "def compute_cost(y, tx, w):\n",
    "    # calculate the cost using MSE\n",
    "    N = len(y)\n",
    "    e = y - np.dot(tx,w)\n",
    "    return (1.0/(2*N)) * np.dot(np.transpose(e), e)\n",
    "\n",
    "    \n",
    "w = np.array([1,2])\n",
    "%timeit compute_cost(y, tx, w)"
   ]
  },
  {
   "cell_type": "markdown",
   "metadata": {},
   "source": [
    "# Grid Search"
   ]
  },
  {
   "cell_type": "markdown",
   "metadata": {},
   "source": [
    "Fill in the function `grid_search()` below:"
   ]
  },
  {
   "cell_type": "code",
   "execution_count": 187,
   "metadata": {
    "collapsed": false
   },
   "outputs": [],
   "source": [
    "def grid_search(y, tx, w0, w1):\n",
    "    \"\"\"Algorithm for grid search.\"\"\"\n",
    "    costs =  [[compute_cost(y, tx, (i,j)) for j in w1] for i in w0 ]     \n",
    "    return np.array(costs)"
   ]
  },
  {
   "cell_type": "markdown",
   "metadata": {},
   "source": [
    "Let us play with the grid search demo now!"
   ]
  },
  {
   "cell_type": "code",
   "execution_count": 188,
   "metadata": {
    "collapsed": false,
    "scrolled": true
   },
   "outputs": [
    {
     "name": "stdout",
     "output_type": "stream",
     "text": [
      "Grid Search: loss*=1103.76935555309, w0*=71.42857142857142, w1*=15.306122448979579, execution time=0.170 seconds\n"
     ]
    },
    {
     "data": {
      "image/png": "[encoded data removed]",
      "text/plain": [
       "<matplotlib.figure.Figure at 0x10eeec2e8>"
      ]
     },
     "metadata": {},
     "output_type": "display_data"
    }
   ],
   "source": [
    "from grid_search import generate_w, get_best_parameters\n",
    "from plots import grid_visualization\n",
    "import datetime\n",
    "\n",
    "# Generate the grid of parameters to be swept\n",
    "grid_w0, grid_w1 = generate_w(num_intervals=50)\n",
    "\n",
    "# Start the grid search\n",
    "start_time = datetime.datetime.now()\n",
    "grid_losses = grid_search(y, tx, grid_w0, grid_w1)\n",
    "\n",
    "# Select the best combinaison\n",
    "loss_star, w0_star, w1_star = get_best_parameters(grid_w0, grid_w1, grid_losses)\n",
    "end_time = datetime.datetime.now()\n",
    "execution_time = (end_time - start_time).total_seconds()\n",
    "\n",
    "# Print the results\n",
    "print(\"Grid Search: loss*={l}, w0*={w0}, w1*={w1}, execution time={t:.3f} seconds\".format(\n",
    "      l=loss_star, w0=w0_star, w1=w1_star, t=execution_time))\n",
    "\n",
    "# Plot the results\n",
    "fig = grid_visualization(grid_losses, grid_w0, grid_w1, mean_x, std_x, height, weight)\n",
    "fig.set_size_inches(10.0,6.0)\n",
    "fig.savefig(\"grid_plot\")  # Optional saving"
   ]
  },
  {
   "cell_type": "markdown",
   "metadata": {},
   "source": [
    "Using 2x intervals, results in a ~4x increase in execution time, and 4x intervals results in ~16x execution time. \n",
    "\n",
    "10: 0.815\n",
    "20: 2.967\n",
    "40: 11.975\n",
    "...\n",
    "\n",
    "This suggest a execution time complexity of O(n^2)"
   ]
  },
  {
   "cell_type": "markdown",
   "metadata": {},
   "source": [
    "# Gradient Descent"
   ]
  },
  {
   "cell_type": "markdown",
   "metadata": {},
   "source": [
    "Again, please fill in the functions `compute_gradient` below:"
   ]
  },
  {
   "cell_type": "code",
   "execution_count": 213,
   "metadata": {
    "collapsed": false
   },
   "outputs": [],
   "source": [
    "def compute_gradient(y, tx, w):\n",
    "    \"\"\"Compute the gradient.\"\"\"\n",
    "    N = len(y)\n",
    "    e = y - tx.dot(w)\n",
    "    gradient = - 1.0/N * np.transpose(tx).dot(e)\n",
    "    return gradient\n",
    "\n",
    "def compute_subgradient(y, tx, w):\n",
    "    \"\"\"Compute the gradient.\"\"\"\n",
    "    N = len(y)\n",
    "    e = y - tx.dot(w)\n",
    "    gradient = - 1.0/N * np.transpose(tx).dot(e)\n",
    "    print('@@@@@@@@:', gradient)\n",
    "    return gradient"
   ]
  },
  {
   "cell_type": "markdown",
   "metadata": {},
   "source": [
    "Please fill in the functions `gradient_descent` below:"
   ]
  },
  {
   "cell_type": "code",
   "execution_count": 214,
   "metadata": {
    "collapsed": false
   },
   "outputs": [],
   "source": [
    "def gradient_descent(y, tx, initial_w, max_iters, gamma): \n",
    "    \"\"\"Gradient descent algorithm.\"\"\"\n",
    "    # Define parameters to store w and loss\n",
    "    ws = [initial_w]\n",
    "    losses = []\n",
    "    w = initial_w\n",
    "    for n_iter in range(max_iters):\n",
    "        # Compute gradient and loss\n",
    "        gradient = compute_subgradient(y ,tx, w)\n",
    "        loss = compute_cost(y, tx, w)\n",
    "        \n",
    "        # update w by gradient\n",
    "        w = w - gamma * gradient\n",
    "        \n",
    "        # store w and loss\n",
    "        ws.append(np.copy(w))\n",
    "        losses.append(loss)\n",
    "        # print(\"Gradient Descent({bi}/{ti}): loss={l}, w0={w0}, w1={w1}\".format(\n",
    "        #      bi=n_iter, ti=max_iters - 1, l=loss, w0=w[0], w1=w[1]))\n",
    "\n",
    "    return losses, ws"
   ]
  },
  {
   "cell_type": "markdown",
   "metadata": {},
   "source": [
    "Test your gradient descent function through gradient descent demo shown below:"
   ]
  },
  {
   "cell_type": "code",
   "execution_count": 215,
   "metadata": {
    "collapsed": false
   },
   "outputs": [
    {
     "name": "stdout",
     "output_type": "stream",
     "text": [
      "@@@@@@@@: [-1074.06780585    88.96510513]\n",
      "@@@@@@@@: [-537.03390293   44.48255257]\n",
      "@@@@@@@@: [-268.51695146   22.24127628]\n",
      "@@@@@@@@: [-134.25847573   11.12063814]\n",
      "@@@@@@@@: [-67.12923787   5.56031907]\n",
      "@@@@@@@@: [-33.56461893   2.78015954]\n",
      "@@@@@@@@: [-16.78230947   1.39007977]\n",
      "@@@@@@@@: [-8.39115473  0.69503988]\n",
      "@@@@@@@@: [-4.19557737  0.34751994]\n",
      "@@@@@@@@: [-2.09778868  0.17375997]\n",
      "@@@@@@@@: [-1.04889434  0.08687999]\n",
      "@@@@@@@@: [-0.52444717  0.04343999]\n",
      "@@@@@@@@: [-0.26222359  0.02172   ]\n",
      "@@@@@@@@: [-0.13111179  0.01086   ]\n",
      "@@@@@@@@: [-0.0655559  0.00543  ]\n",
      "@@@@@@@@: [-0.03277795  0.002715  ]\n",
      "@@@@@@@@: [-0.01638897  0.0013575 ]\n",
      "@@@@@@@@: [-0.00819449  0.00067875]\n",
      "@@@@@@@@: [-0.00409724  0.00033937]\n",
      "@@@@@@@@: [-0.00204862  0.00016969]\n",
      "@@@@@@@@: [ -1.02431088e-03   8.48437358e-05]\n",
      "@@@@@@@@: [ -5.12155440e-04   4.24218679e-05]\n",
      "@@@@@@@@: [ -2.56077720e-04   2.12109340e-05]\n",
      "@@@@@@@@: [ -1.28038860e-04   1.06054670e-05]\n",
      "@@@@@@@@: [ -6.40194300e-05   5.30273349e-06]\n",
      "@@@@@@@@: [ -3.20097150e-05   2.65136674e-06]\n",
      "@@@@@@@@: [ -1.60048575e-05   1.32568337e-06]\n",
      "@@@@@@@@: [ -8.00242875e-06   6.62841686e-07]\n",
      "@@@@@@@@: [ -4.00121437e-06   3.31420845e-07]\n",
      "@@@@@@@@: [ -2.00060718e-06   1.65710421e-07]\n",
      "@@@@@@@@: [ -1.00030359e-06   8.28552137e-08]\n",
      "@@@@@@@@: [ -5.00151789e-07   4.14276035e-08]\n",
      "@@@@@@@@: [ -2.50075890e-07   2.07138034e-08]\n",
      "@@@@@@@@: [ -1.25037945e-07   1.03569024e-08]\n",
      "@@@@@@@@: [ -6.25189671e-08   5.17844880e-09]\n",
      "@@@@@@@@: [ -3.12594799e-08   2.58922946e-09]\n",
      "@@@@@@@@: [ -1.56297411e-08   1.29461401e-09]\n",
      "@@@@@@@@: [ -7.81486615e-09   6.47303201e-10]\n",
      "@@@@@@@@: [ -3.90743413e-09   3.23653558e-10]\n",
      "@@@@@@@@: [ -1.95371056e-09   1.61825222e-10]\n",
      "@@@@@@@@: [ -9.76856264e-10   8.09123205e-11]\n",
      "@@@@@@@@: [ -4.88430664e-10   4.04581179e-11]\n",
      "@@@@@@@@: [ -2.44216212e-10   2.02289060e-11]\n",
      "@@@@@@@@: [ -1.22101071e-10   1.01133182e-11]\n",
      "@@@@@@@@: [ -6.10534901e-11   5.05636846e-12]\n",
      "@@@@@@@@: [ -3.05286445e-11   2.52775141e-12]\n",
      "@@@@@@@@: [ -1.52663976e-11   1.26850516e-12]\n",
      "@@@@@@@@: [ -7.63502792e-12   6.30725820e-13]\n",
      "@@@@@@@@: [ -3.81174520e-12   3.17745615e-13]\n",
      "@@@@@@@@: [ -1.90882733e-12   1.57595780e-13]\n",
      "Gradient Descent: execution time=0.029 seconds\n"
     ]
    }
   ],
   "source": [
    "from plots import gradient_descent_visualization\n",
    "\n",
    "# Define the parameters of the algorithm.\n",
    "max_iters = 50\n",
    "gamma = .5\n",
    "\n",
    "# Initialization\n",
    "w_initial = np.array([-1000, 100])\n",
    "\n",
    "# Start gradient descent.\n",
    "start_time = datetime.datetime.now()\n",
    "gradient_losses, gradient_ws = gradient_descent(y, tx, w_initial, max_iters, gamma)\n",
    "end_time = datetime.datetime.now()\n",
    "\n",
    "# Print result\n",
    "exection_time = (end_time - start_time).total_seconds()\n",
    "print(\"Gradient Descent: execution time={t:.3f} seconds\".format(t=exection_time))"
   ]
  },
  {
   "cell_type": "code",
   "execution_count": 203,
   "metadata": {
    "collapsed": false
   },
   "outputs": [
    {
     "data": {
      "text/plain": [
       "<function __main__.plot_figure>"
      ]
     },
     "execution_count": 203,
     "metadata": {},
     "output_type": "execute_result"
    },
    {
     "data": {
      "image/png": "[encoded data removed]",
      "text/plain": [
       "<matplotlib.figure.Figure at 0x110a0c8d0>"
      ]
     },
     "metadata": {},
     "output_type": "display_data"
    }
   ],
   "source": [
    "# Time Visualization\n",
    "from ipywidgets import IntSlider, interact\n",
    "def plot_figure(n_iter):\n",
    "    fig = gradient_descent_visualization(\n",
    "        gradient_losses, gradient_ws, grid_losses, grid_w0, grid_w1, mean_x, std_x, height, weight, n_iter)\n",
    "    fig.set_size_inches(10.0, 6.0)\n",
    "\n",
    "interact(plot_figure, n_iter=IntSlider(min=1, max=len(gradient_ws)))"
   ]
  },
  {
   "cell_type": "markdown",
   "metadata": {},
   "source": [
    "# Stochastic gradient descent"
   ]
  },
  {
   "cell_type": "code",
   "execution_count": 204,
   "metadata": {
    "collapsed": false
   },
   "outputs": [],
   "source": [
    "def compute_stoch_gradient(y, tx, w):\n",
    "    \"\"\"Compute a stochastic gradient for batch data.\"\"\"\n",
    "    N = len(y)\n",
    "    gradient = 1.0/N * sum([np.dot((y[n] - np.dot(np.transpose(tx[n]), w)),-tx[n]) for n in range(0,N)])\n",
    "    return gradient\n",
    "\n",
    "\n",
    "def stochastic_gradient_descent(\n",
    "        y, tx, initial_w, batch_size, max_epochs, gamma):\n",
    "    \"\"\"Stochastic gradient descent algorithm.\"\"\"\n",
    "    # Generate the batches\n",
    "    batches = batch_iter(y, tx, batch_size)\n",
    "    \n",
    "    # Set the initial properties\n",
    "    ws = [initial_w]\n",
    "    losses = []\n",
    "    w = initial_w\n",
    "    \n",
    "    for i, batch in enumerate(batches):\n",
    "        if i+1 == max_epochs:\n",
    "            break\n",
    "            \n",
    "        # compute gradient and loss\n",
    "        gradient = compute_stoch_gradient(y, tx, w)\n",
    "        loss = compute_cost(y, tx, w)\n",
    "        \n",
    "        # Update w by gradient\n",
    "        w = w - gamma * gradient\n",
    "        \n",
    "        # Store w and loss\n",
    "        ws.append(w)\n",
    "        losses.append(loss)\n",
    "    return losses, ws\n",
    "\n",
    "    "
   ]
  },
  {
   "cell_type": "code",
   "execution_count": 205,
   "metadata": {
    "collapsed": false
   },
   "outputs": [],
   "source": [
    "# Define the parameters of the algorithm.\n",
    "max_iters = 50\n",
    "gamma = .4\n",
    "batch_size = 10\n",
    "\n",
    "# Initialization\n",
    "w_initial = np.array([0.0, 0.0])\n",
    "\n",
    "gradient_losses, gradient_ws = stochastic_gradient_descent(y, tx, w_initial, batch_size, max_iters, gamma)\n"
   ]
  },
  {
   "cell_type": "code",
   "execution_count": 206,
   "metadata": {
    "collapsed": false,
    "scrolled": false
   },
   "outputs": [
    {
     "data": {
      "text/plain": [
       "<function __main__.plot_figure>"
      ]
     },
     "execution_count": 206,
     "metadata": {},
     "output_type": "execute_result"
    },
    {
     "data": {
      "image/png": "[encoded data removed]",
      "text/plain": [
       "<matplotlib.figure.Figure at 0x10ef4ceb8>"
      ]
     },
     "metadata": {},
     "output_type": "display_data"
    }
   ],
   "source": [
    "# Time Visualization\n",
    "from ipywidgets import IntSlider, interact\n",
    "def plot_figure(n_iter):\n",
    "    fig = gradient_descent_visualization(\n",
    "        gradient_losses, gradient_ws, grid_losses, grid_w0, grid_w1, mean_x, std_x, height, weight, n_iter)\n",
    "    fig.set_size_inches(10.0, 6.0)\n",
    "interact(plot_figure, n_iter=IntSlider(min=1, max=len(gradient_ws)))"
   ]
  }
 ],
 "metadata": {
  "anaconda-cloud": {},
  "kernelspec": {
   "display_name": "Python [conda root]",
   "language": "python",
   "name": "conda-root-py"
  },
  "language_info": {
   "codemirror_mode": {
    "name": "ipython",
    "version": 3
   },
   "file_extension": ".py",
   "mimetype": "text/x-python",
   "name": "python",
   "nbconvert_exporter": "python",
   "pygments_lexer": "ipython3",
   "version": "3.5.2"
  }
 },
 "nbformat": 4,
 "nbformat_minor": 0
}
