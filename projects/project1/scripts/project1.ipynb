{
 "cells": [
  {
   "cell_type": "code",
   "execution_count": 22,
   "metadata": {},
   "outputs": [
    {
     "name": "stdout",
     "output_type": "stream",
     "text": [
      "The autoreload extension is already loaded. To reload it, use:\n",
      "  %reload_ext autoreload\n"
     ]
    }
   ],
   "source": [
    "# Useful starting lines\n",
    "%matplotlib inline\n",
    "import numpy as np\n",
    "import matplotlib.pyplot as plt\n",
    "from implementations import *\n",
    "%load_ext autoreload\n",
    "%autoreload 2"
   ]
  },
  {
   "cell_type": "markdown",
   "metadata": {},
   "source": [
    "## Load the training data into feature matrix, class labels, and event ids:"
   ]
  },
  {
   "cell_type": "code",
   "execution_count": 37,
   "metadata": {},
   "outputs": [
    {
     "data": {
      "text/plain": [
       "((250000,), (250000, 30))"
      ]
     },
     "execution_count": 37,
     "metadata": {},
     "output_type": "execute_result"
    }
   ],
   "source": [
    "from proj1_helpers import *\n",
    "DATA_TRAIN_PATH = '../data/train.csv' # TODO: download train data and supply path here \n",
    "y, tX, ids = load_csv_data(DATA_TRAIN_PATH)\n",
    "y.shape, tX.shape"
   ]
  },
  {
   "cell_type": "code",
   "execution_count": 47,
   "metadata": {},
   "outputs": [
    {
     "name": "stdout",
     "output_type": "stream",
     "text": [
      "[[138.47   51.655  97.827 ...   1.24   -2.475 113.497]\n",
      " [160.937  68.768 103.235 ...   0.      0.     46.226]\n",
      " [  0.    162.172 125.953 ...   0.      0.     44.251]\n",
      " ...\n",
      " [105.457  60.526  75.839 ...   0.      0.     41.992]\n",
      " [ 94.951  19.362  68.812 ...   0.      0.      0.   ]\n",
      " [  0.     72.756  70.831 ...   0.      0.      0.   ]]\n",
      "[[ 1.22443381  0.19387987  0.74197336 ... -0.40458096 -0.44868057\n",
      "   0.92798707]\n",
      " [ 1.4911326   0.39702299  0.80617005 ... -0.41930061 -0.41930061\n",
      "   0.1294339 ]\n",
      " [-0.41930061  1.5057929   1.07584839 ... -0.41930061 -0.41930061\n",
      "   0.10598928]\n",
      " ...\n",
      " [ 0.83254673  0.29918476  0.48096063 ... -0.41930061 -0.41930061\n",
      "   0.0791734 ]\n",
      " [ 0.70783326 -0.18946032  0.3975453  ... -0.41930061 -0.41930061\n",
      "  -0.41930061]\n",
      " [-0.41930061  0.4443633   0.42151222 ... -0.41930061 -0.41930061\n",
      "  -0.41930061]]\n"
     ]
    }
   ],
   "source": [
    "tX_no_outliers = tX.copy()\n",
    "tX_no_outliers[tX_no_outliers == -999] = 0\n",
    "print(tX_no_outliers)\n",
    "\n",
    "\n",
    "tX_standardized, tX_mean, tX_std= standardize(tX_standardized)\n",
    "print(tX_standardized)"
   ]
  },
  {
   "cell_type": "markdown",
   "metadata": {},
   "source": [
    "## Do your thing crazy machine learning thing here :) ..."
   ]
  },
  {
   "cell_type": "code",
   "execution_count": 46,
   "metadata": {
    "scrolled": true
   },
   "outputs": [
    {
     "data": {
      "text/plain": [
       "(array([ 3.88857241e-02, -5.91053272e-01, -5.46678636e-01, -3.48875183e-02,\n",
       "        -8.28596722e-01,  3.57637058e-02, -7.11591047e-01,  2.88153592e+01,\n",
       "        -6.61943439e-03,  2.29096097e+01, -1.83948731e+01,  8.50945445e+00,\n",
       "         2.84940447e+01, -2.22203109e+01, -7.41586750e-02, -4.44509261e-02,\n",
       "        -2.18359691e+01, -1.83714253e-02,  1.13074425e-01,  2.57779664e-01,\n",
       "         4.01629576e-02, -3.92161700e-02,  1.22475267e+00,  2.14143727e-01,\n",
       "         2.99820109e-02,  9.53216282e-04,  9.66557697e-02,  9.95320306e-02,\n",
       "        -1.63590161e-01, -2.31510175e+01]), 0.3390172811873623)"
      ]
     },
     "execution_count": 46,
     "metadata": {},
     "output_type": "execute_result"
    }
   ],
   "source": [
    "w_initial = np.zeros(tX_standardized.shape[1])\n",
    "#[weights, loss]=least_squares_GD(y, tX, w_initial, 10, 0.000001)\n",
    "[weights, loss]= least_squares(y, tX_standardized)\n",
    "#[weights, loss] = least_squares_SGD(y, tX, w_initial, 1000, 0.00000001)\n",
    "weights, loss"
   ]
  },
  {
   "cell_type": "markdown",
   "metadata": {},
   "source": [
    "### Generate predictions and save ouput in csv format for submission:"
   ]
  },
  {
   "cell_type": "code",
   "execution_count": 53,
   "metadata": {},
   "outputs": [],
   "source": [
    "DATA_TEST_PATH = '../data/test.csv' # TODO: download test data and supply path here \n",
    "_, tX_test, ids_test = load_csv_data(DATA_TEST_PATH)"
   ]
  },
  {
   "cell_type": "code",
   "execution_count": 56,
   "metadata": {},
   "outputs": [],
   "source": [
    "OUTPUT_PATH = '../data/pred.csv' # TODO: fill in desired name of output file for submission\n",
    "y_pred = predict_labels(weights, tX_test)\n",
    "create_csv_submission(ids_test, y_pred, OUTPUT_PATH)"
   ]
  },
  {
   "cell_type": "code",
   "execution_count": null,
   "metadata": {
    "collapsed": true
   },
   "outputs": [],
   "source": []
  }
 ],
 "metadata": {
  "anaconda-cloud": {},
  "kernelspec": {
   "display_name": "Python 3",
   "language": "python",
   "name": "python3"
  },
  "language_info": {
   "codemirror_mode": {
    "name": "ipython",
    "version": 3
   },
   "file_extension": ".py",
   "mimetype": "text/x-python",
   "name": "python",
   "nbconvert_exporter": "python",
   "pygments_lexer": "ipython3",
   "version": "3.7.3"
  }
 },
 "nbformat": 4,
 "nbformat_minor": 1
}
