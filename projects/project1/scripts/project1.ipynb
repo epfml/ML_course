{
 "cells": [
  {
   "cell_type": "code",
   "execution_count": null,
   "metadata": {},
   "outputs": [],
   "source": [
    "# Useful starting lines\n",
    "%matplotlib inline\n",
    "import numpy as np\n",
    "import matplotlib.pyplot as plt\n",
    "from implementations import *\n",
    "from IPython.core.display import display, HTML\n",
    "from cross_validation import *\n",
    "from build_polynomial import *\n",
    "%load_ext autoreload\n",
    "%autoreload 2\n",
    "from proj1_helpers import *\n",
    "#from IPython.core.display import display, HTML\n",
    "#display(HTML(\"<style>.container { width:100% !important; }</style>\"))\n"
   ]
  },
  {
   "cell_type": "markdown",
   "metadata": {},
   "source": [
    "## Load the training data into feature matrix, class labels, and event ids:"
   ]
  },
  {
   "cell_type": "markdown",
   "metadata": {},
   "source": []
  },
  {
   "cell_type": "code",
   "execution_count": null,
   "metadata": {},
   "outputs": [],
   "source": [
    "DATA_TRAIN_PATH = '../data/train.csv' # TODO: download train data and supply path here \n",
    "#y, tX, ids = load_csv_data(DATA_TRAIN_PATH)\n",
    "#print(y.shape, tX.shape, ids.shape)"
   ]
  },
  {
   "cell_type": "code",
   "execution_count": null,
   "metadata": {},
   "outputs": [],
   "source": [
    "import pandas as pd\n",
    "df = pd.read_csv(\"../data/train.csv\")\n",
    "df.tail()"
   ]
  },
  {
   "cell_type": "code",
   "execution_count": null,
   "metadata": {},
   "outputs": [],
   "source": [
    "y0, tX0, id0 = load_data_jet_number(DATA_TRAIN_PATH, 0, sub_sample=True)\n",
    "y1, tX1, id1 = load_data_jet_number(DATA_TRAIN_PATH, 1, sub_sample=True)\n",
    "y2, tX2, id2 = load_data_jet_number(DATA_TRAIN_PATH, 2, sub_sample=True)\n",
    "y3, tX3, id3 = load_data_jet_number(DATA_TRAIN_PATH, 3, sub_sample=True)\n",
    "tX0_standardized, tX0_mean, tX0_std= standardize(tX0)\n",
    "tX1_standardized, tX1_mean, tX1_std= standardize(tX1)\n",
    "tX2_standardized, tX2_mean, tX2_std= standardize(tX2)\n",
    "tX3_standardized, tX3_mean, tX3_std= standardize(tX3)"
   ]
  },
  {
   "cell_type": "code",
   "execution_count": null,
   "metadata": {},
   "outputs": [],
   "source": [
    "print(y0.shape, tX0.shape, id0.shape)"
   ]
  },
  {
   "cell_type": "code",
   "execution_count": null,
   "metadata": {},
   "outputs": [],
   "source": []
  },
  {
   "cell_type": "code",
   "execution_count": null,
   "metadata": {},
   "outputs": [],
   "source": [
    "print(np.std(tX0_standardized))"
   ]
  },
  {
   "cell_type": "markdown",
   "metadata": {},
   "source": [
    "## Do your thing crazy machine learning thing here :) ..."
   ]
  },
  {
   "cell_type": "code",
   "execution_count": null,
   "metadata": {
    "scrolled": true
   },
   "outputs": [],
   "source": [
    "tX0_standardized = np.c_[np.ones((y0.shape[0], 1)), tX0_standardized] #VERY IMPORTANT\n",
    "y0=y0.reshape(-1,1)\n",
    "y0=(y0+1)/2\n",
    "tX1_standardized = np.c_[np.ones((y1.shape[0], 1)), tX1_standardized] #VERY IMPORTANT\n",
    "y1=y1.reshape(-1,1)\n",
    "y1=(y1+1)/2\n",
    "tX2_standardized = np.c_[np.ones((y2.shape[0], 1)), tX2_standardized] #VERY IMPORTANT\n",
    "y2=y2.reshape(-1,1)\n",
    "y2=(y2+1)/2\n",
    "tX3_standardized = np.c_[np.ones((y3.shape[0], 1)), tX3_standardized] #VERY IMPORTANT\n",
    "y3=y3.reshape(-1,1)\n",
    "y3=(y3+1)/2"
   ]
  },
  {
   "cell_type": "code",
   "execution_count": null,
   "metadata": {},
   "outputs": [],
   "source": [
    "print(tX0_standardized.shape)\n",
    "print(np.mean(tX0_standardized))"
   ]
  },
  {
   "cell_type": "code",
   "execution_count": null,
   "metadata": {
    "scrolled": true
   },
   "outputs": [],
   "source": [
    "[w,loss]=reg_logistic_regression(y0, tX0_standardized, 0.001,np.ones((tX0_standardized.shape[1], 1)), 10000, 0.0001)"
   ]
  },
  {
   "cell_type": "code",
   "execution_count": null,
   "metadata": {
    "scrolled": true
   },
   "outputs": [],
   "source": []
  },
  {
   "cell_type": "code",
   "execution_count": null,
   "metadata": {
    "scrolled": true
   },
   "outputs": [],
   "source": []
  },
  {
   "cell_type": "code",
   "execution_count": null,
   "metadata": {
    "scrolled": true
   },
   "outputs": [],
   "source": [
    "#lambda_=0.0000001\n",
    "k_fold=4\n",
    "seed=5\n",
    "degree=5 #will -1 as range exclude last elem\n",
    "lower_lambda=-8\n",
    "upper_lambda=0\n",
    "\n",
    "weights_0, loss_0, deg0 = cross_validation_best_weight(y0, tX0_standardized, k_fold, degree, seed, lower_lambda, upper_lambda, \"jet0\")\n",
    "weights_1, loss_1, deg1 = cross_validation_best_weight(y1, tX1_standardized, k_fold, degree, seed, lower_lambda, upper_lambda, \"jet1\")\n",
    "weights_2, loss_2, deg2 = cross_validation_best_weight(y2, tX2_standardized, k_fold, degree, seed, lower_lambda, upper_lambda, \"jet2\")\n",
    "weights_3, loss_3, deg3 = cross_validation_best_weight(y3, tX3_standardized, k_fold, degree, seed, lower_lambda, upper_lambda, \"jet3\")"
   ]
  },
  {
   "cell_type": "code",
   "execution_count": null,
   "metadata": {
    "scrolled": true
   },
   "outputs": [],
   "source": []
  },
  {
   "cell_type": "markdown",
   "metadata": {},
   "source": [
    "# Generate predictions and save ouput in csv format for submission:"
   ]
  },
  {
   "cell_type": "code",
   "execution_count": null,
   "metadata": {},
   "outputs": [],
   "source": [
    "DATA_TEST_PATH = '../data/test.csv' # TODO: download test data and supply path here \n",
    "_, tX_test, ids_test = load_csv_data(DATA_TEST_PATH)"
   ]
  },
  {
   "cell_type": "code",
   "execution_count": null,
   "metadata": {},
   "outputs": [],
   "source": [
    "print(tX_test.shape, ids_test.shape)"
   ]
  },
  {
   "cell_type": "code",
   "execution_count": null,
   "metadata": {},
   "outputs": [],
   "source": []
  },
  {
   "cell_type": "code",
   "execution_count": null,
   "metadata": {},
   "outputs": [],
   "source": [
    "_, tX0_te, id0_te = load_data_jet_number(\"../data/test.csv\", 0)\n",
    "_, tX1_te, id1_te = load_data_jet_number(\"../data/test.csv\", 1)\n",
    "_, tX2_te, id2_te = load_data_jet_number(\"../data/test.csv\", 2)\n",
    "_, tX3_te, id3_te = load_data_jet_number(\"../data/test.csv\", 3)\n",
    "tX0_te_standardized, tX0_te_mean, tX0_te_std= standardize(tX0_te)\n",
    "tX1_te_standardized, tX1_te_mean, tX1_te_std= standardize(tX1_te)\n",
    "tX2_te_standardized, tX2_te_mean, tX2_te_std= standardize(tX2_te)\n",
    "tX3_te_standardized, tX3_te_mean, tX3_te_std= standardize(tX3_te)"
   ]
  },
  {
   "cell_type": "code",
   "execution_count": null,
   "metadata": {},
   "outputs": [],
   "source": []
  },
  {
   "cell_type": "code",
   "execution_count": null,
   "metadata": {
    "scrolled": true
   },
   "outputs": [],
   "source": [
    "y0_pred = predict_labels(w, a)"
   ]
  },
  {
   "cell_type": "code",
   "execution_count": null,
   "metadata": {
    "scrolled": true
   },
   "outputs": [],
   "source": [
    "print(y0_pred[0:100])"
   ]
  },
  {
   "cell_type": "code",
   "execution_count": null,
   "metadata": {},
   "outputs": [],
   "source": [
    "OUTPUT_PATH = '../data/pred.csv' # TODO: fill in desired name of output file for submission\n",
    "y0_pred = predict_labels(weights_0, build_poly(tX0_te_standardized,deg0))\n",
    "y1_pred = predict_labels(weights_1, build_poly(tX1_te_standardized,deg1))\n",
    "y2_pred = predict_labels(weights_2, build_poly(tX2_te_standardized,deg2))\n",
    "y3_pred = predict_labels(weights_3, build_poly(tX3_te_standardized,deg3))"
   ]
  },
  {
   "cell_type": "code",
   "execution_count": null,
   "metadata": {},
   "outputs": [],
   "source": [
    "y_pred_all=np.concatenate([y0_pred,y1_pred,y2_pred,y3_pred])\n",
    "ids_pred_all=np.concatenate([id0_te,id1_te,id2_te,id3_te])\n",
    "y_and_ids=list(zip(*sorted(zip(ids_pred_all, y_pred_all))))\n",
    "ids_test=y_and_ids[0]\n",
    "y_pred=y_and_ids[1]"
   ]
  },
  {
   "cell_type": "code",
   "execution_count": null,
   "metadata": {
    "jupyter": {
     "outputs_hidden": true
    }
   },
   "outputs": [],
   "source": [
    "create_csv_submission(ids_test, y_pred, OUTPUT_PATH)"
   ]
  },
  {
   "cell_type": "code",
   "execution_count": null,
   "metadata": {},
   "outputs": [],
   "source": []
  },
  {
   "cell_type": "code",
   "execution_count": null,
   "metadata": {},
   "outputs": [],
   "source": []
  },
  {
   "cell_type": "code",
   "execution_count": null,
   "metadata": {},
   "outputs": [],
   "source": []
  }
 ],
 "metadata": {
  "anaconda-cloud": {},
  "kernelspec": {
   "display_name": "Python 3",
   "language": "python",
   "name": "python3"
  },
  "language_info": {
   "codemirror_mode": {
    "name": "ipython",
    "version": 3
   },
   "file_extension": ".py",
   "mimetype": "text/x-python",
   "name": "python",
   "nbconvert_exporter": "python",
   "pygments_lexer": "ipython3",
   "version": "3.6.8"
  }
 },
 "nbformat": 4,
 "nbformat_minor": 4
}
