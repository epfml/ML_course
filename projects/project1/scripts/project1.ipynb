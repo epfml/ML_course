{
 "cells": [
  {
   "cell_type": "code",
   "execution_count": 119,
   "metadata": {},
   "outputs": [
    {
     "name": "stdout",
     "output_type": "stream",
     "text": [
      "The autoreload extension is already loaded. To reload it, use:\n",
      "  %reload_ext autoreload\n"
     ]
    },
    {
     "data": {
      "text/html": [
       "<style>.container { width:100% !important; }</style>"
      ],
      "text/plain": [
       "<IPython.core.display.HTML object>"
      ]
     },
     "metadata": {},
     "output_type": "display_data"
    }
   ],
   "source": [
    "# Useful starting lines\n",
    "%matplotlib inline\n",
    "import numpy as np\n",
    "import matplotlib.pyplot as plt\n",
    "from implementations import *\n",
    "from IPython.core.display import display, HTML\n",
    "%load_ext autoreload\n",
    "%autoreload 2\n",
    "from proj1_helpers import *\n",
    "from IPython.core.display import display, HTML\n",
    "display(HTML(\"<style>.container { width:100% !important; }</style>\"))\n"
   ]
  },
  {
   "cell_type": "markdown",
   "metadata": {},
   "source": [
    "## Load the training data into feature matrix, class labels, and event ids:"
   ]
  },
  {
   "cell_type": "markdown",
   "metadata": {},
   "source": [
    "# Things to do on this branch : \n",
    "The goal is to split the data sat according to the categorical variable called pri_jet_num and train 4 model different. \n",
    "The advantage is that when pri_jet_num is 0 some other colunm are always -999 so we can ignore them. See the detailled doc of the project to see which one. \n",
    "\n",
    "### Things to do : \n",
    "- Change the import of the data set to have only one matrix\n",
    "- Split this matrix in 4 according to the pri_jet_num value\n",
    "- Separate each matrix in y, ids, tX\n",
    "- Train 4 different model\n",
    "- Split the test set into 4 and get the predictions using each model\n",
    "- Merge the predictions and order them in the right order according to the ids\n",
    "- When everything is working add a cross validation in there just for the swaaaaag"
   ]
  },
  {
   "cell_type": "code",
   "execution_count": 79,
   "metadata": {},
   "outputs": [
    {
     "name": "stdout",
     "output_type": "stream",
     "text": [
      "(250000,) (250000, 30) (250000,)\n"
     ]
    }
   ],
   "source": [
    "DATA_TRAIN_PATH = '../data/train.csv' # TODO: download train data and supply path here \n",
    "y, tX, ids = load_csv_data(DATA_TRAIN_PATH)\n",
    "print(y.shape, tX.shape, ids.shape)"
   ]
  },
  {
   "cell_type": "code",
   "execution_count": 228,
   "metadata": {},
   "outputs": [
    {
     "data": {
      "text/html": [
       "<div>\n",
       "<style scoped>\n",
       "    .dataframe tbody tr th:only-of-type {\n",
       "        vertical-align: middle;\n",
       "    }\n",
       "\n",
       "    .dataframe tbody tr th {\n",
       "        vertical-align: top;\n",
       "    }\n",
       "\n",
       "    .dataframe thead th {\n",
       "        text-align: right;\n",
       "    }\n",
       "</style>\n",
       "<table border=\"1\" class=\"dataframe\">\n",
       "  <thead>\n",
       "    <tr style=\"text-align: right;\">\n",
       "      <th></th>\n",
       "      <th>Id</th>\n",
       "      <th>Prediction</th>\n",
       "      <th>DER_mass_MMC</th>\n",
       "      <th>DER_mass_transverse_met_lep</th>\n",
       "      <th>DER_mass_vis</th>\n",
       "      <th>DER_pt_h</th>\n",
       "      <th>DER_deltaeta_jet_jet</th>\n",
       "      <th>DER_mass_jet_jet</th>\n",
       "      <th>DER_prodeta_jet_jet</th>\n",
       "      <th>DER_deltar_tau_lep</th>\n",
       "      <th>...</th>\n",
       "      <th>PRI_met_phi</th>\n",
       "      <th>PRI_met_sumet</th>\n",
       "      <th>PRI_jet_num</th>\n",
       "      <th>PRI_jet_leading_pt</th>\n",
       "      <th>PRI_jet_leading_eta</th>\n",
       "      <th>PRI_jet_leading_phi</th>\n",
       "      <th>PRI_jet_subleading_pt</th>\n",
       "      <th>PRI_jet_subleading_eta</th>\n",
       "      <th>PRI_jet_subleading_phi</th>\n",
       "      <th>PRI_jet_all_pt</th>\n",
       "    </tr>\n",
       "  </thead>\n",
       "  <tbody>\n",
       "    <tr>\n",
       "      <td>249995</td>\n",
       "      <td>349995</td>\n",
       "      <td>b</td>\n",
       "      <td>-999.000</td>\n",
       "      <td>71.989</td>\n",
       "      <td>36.548</td>\n",
       "      <td>5.042</td>\n",
       "      <td>-999.0</td>\n",
       "      <td>-999.0</td>\n",
       "      <td>-999.0</td>\n",
       "      <td>1.392</td>\n",
       "      <td>...</td>\n",
       "      <td>2.859</td>\n",
       "      <td>144.665</td>\n",
       "      <td>0</td>\n",
       "      <td>-999.000</td>\n",
       "      <td>-999.0</td>\n",
       "      <td>-999.000</td>\n",
       "      <td>-999.0</td>\n",
       "      <td>-999.0</td>\n",
       "      <td>-999.0</td>\n",
       "      <td>0.000</td>\n",
       "    </tr>\n",
       "    <tr>\n",
       "      <td>249996</td>\n",
       "      <td>349996</td>\n",
       "      <td>b</td>\n",
       "      <td>-999.000</td>\n",
       "      <td>58.179</td>\n",
       "      <td>68.083</td>\n",
       "      <td>22.439</td>\n",
       "      <td>-999.0</td>\n",
       "      <td>-999.0</td>\n",
       "      <td>-999.0</td>\n",
       "      <td>2.585</td>\n",
       "      <td>...</td>\n",
       "      <td>-0.867</td>\n",
       "      <td>80.408</td>\n",
       "      <td>0</td>\n",
       "      <td>-999.000</td>\n",
       "      <td>-999.0</td>\n",
       "      <td>-999.000</td>\n",
       "      <td>-999.0</td>\n",
       "      <td>-999.0</td>\n",
       "      <td>-999.0</td>\n",
       "      <td>0.000</td>\n",
       "    </tr>\n",
       "    <tr>\n",
       "      <td>249997</td>\n",
       "      <td>349997</td>\n",
       "      <td>s</td>\n",
       "      <td>105.457</td>\n",
       "      <td>60.526</td>\n",
       "      <td>75.839</td>\n",
       "      <td>39.757</td>\n",
       "      <td>-999.0</td>\n",
       "      <td>-999.0</td>\n",
       "      <td>-999.0</td>\n",
       "      <td>2.390</td>\n",
       "      <td>...</td>\n",
       "      <td>-2.890</td>\n",
       "      <td>198.907</td>\n",
       "      <td>1</td>\n",
       "      <td>41.992</td>\n",
       "      <td>1.8</td>\n",
       "      <td>-0.166</td>\n",
       "      <td>-999.0</td>\n",
       "      <td>-999.0</td>\n",
       "      <td>-999.0</td>\n",
       "      <td>41.992</td>\n",
       "    </tr>\n",
       "    <tr>\n",
       "      <td>249998</td>\n",
       "      <td>349998</td>\n",
       "      <td>b</td>\n",
       "      <td>94.951</td>\n",
       "      <td>19.362</td>\n",
       "      <td>68.812</td>\n",
       "      <td>13.504</td>\n",
       "      <td>-999.0</td>\n",
       "      <td>-999.0</td>\n",
       "      <td>-999.0</td>\n",
       "      <td>3.365</td>\n",
       "      <td>...</td>\n",
       "      <td>0.811</td>\n",
       "      <td>112.718</td>\n",
       "      <td>0</td>\n",
       "      <td>-999.000</td>\n",
       "      <td>-999.0</td>\n",
       "      <td>-999.000</td>\n",
       "      <td>-999.0</td>\n",
       "      <td>-999.0</td>\n",
       "      <td>-999.0</td>\n",
       "      <td>0.000</td>\n",
       "    </tr>\n",
       "    <tr>\n",
       "      <td>249999</td>\n",
       "      <td>349999</td>\n",
       "      <td>b</td>\n",
       "      <td>-999.000</td>\n",
       "      <td>72.756</td>\n",
       "      <td>70.831</td>\n",
       "      <td>7.479</td>\n",
       "      <td>-999.0</td>\n",
       "      <td>-999.0</td>\n",
       "      <td>-999.0</td>\n",
       "      <td>2.025</td>\n",
       "      <td>...</td>\n",
       "      <td>-1.596</td>\n",
       "      <td>99.405</td>\n",
       "      <td>0</td>\n",
       "      <td>-999.000</td>\n",
       "      <td>-999.0</td>\n",
       "      <td>-999.000</td>\n",
       "      <td>-999.0</td>\n",
       "      <td>-999.0</td>\n",
       "      <td>-999.0</td>\n",
       "      <td>0.000</td>\n",
       "    </tr>\n",
       "  </tbody>\n",
       "</table>\n",
       "<p>5 rows × 32 columns</p>\n",
       "</div>"
      ],
      "text/plain": [
       "            Id Prediction  DER_mass_MMC  DER_mass_transverse_met_lep  \\\n",
       "249995  349995          b      -999.000                       71.989   \n",
       "249996  349996          b      -999.000                       58.179   \n",
       "249997  349997          s       105.457                       60.526   \n",
       "249998  349998          b        94.951                       19.362   \n",
       "249999  349999          b      -999.000                       72.756   \n",
       "\n",
       "        DER_mass_vis  DER_pt_h  DER_deltaeta_jet_jet  DER_mass_jet_jet  \\\n",
       "249995        36.548     5.042                -999.0            -999.0   \n",
       "249996        68.083    22.439                -999.0            -999.0   \n",
       "249997        75.839    39.757                -999.0            -999.0   \n",
       "249998        68.812    13.504                -999.0            -999.0   \n",
       "249999        70.831     7.479                -999.0            -999.0   \n",
       "\n",
       "        DER_prodeta_jet_jet  DER_deltar_tau_lep  ...  PRI_met_phi  \\\n",
       "249995               -999.0               1.392  ...        2.859   \n",
       "249996               -999.0               2.585  ...       -0.867   \n",
       "249997               -999.0               2.390  ...       -2.890   \n",
       "249998               -999.0               3.365  ...        0.811   \n",
       "249999               -999.0               2.025  ...       -1.596   \n",
       "\n",
       "        PRI_met_sumet  PRI_jet_num  PRI_jet_leading_pt  PRI_jet_leading_eta  \\\n",
       "249995        144.665            0            -999.000               -999.0   \n",
       "249996         80.408            0            -999.000               -999.0   \n",
       "249997        198.907            1              41.992                  1.8   \n",
       "249998        112.718            0            -999.000               -999.0   \n",
       "249999         99.405            0            -999.000               -999.0   \n",
       "\n",
       "        PRI_jet_leading_phi  PRI_jet_subleading_pt  PRI_jet_subleading_eta  \\\n",
       "249995             -999.000                 -999.0                  -999.0   \n",
       "249996             -999.000                 -999.0                  -999.0   \n",
       "249997               -0.166                 -999.0                  -999.0   \n",
       "249998             -999.000                 -999.0                  -999.0   \n",
       "249999             -999.000                 -999.0                  -999.0   \n",
       "\n",
       "        PRI_jet_subleading_phi  PRI_jet_all_pt  \n",
       "249995                  -999.0           0.000  \n",
       "249996                  -999.0           0.000  \n",
       "249997                  -999.0          41.992  \n",
       "249998                  -999.0           0.000  \n",
       "249999                  -999.0           0.000  \n",
       "\n",
       "[5 rows x 32 columns]"
      ]
     },
     "execution_count": 228,
     "metadata": {},
     "output_type": "execute_result"
    }
   ],
   "source": [
    "import pandas as pd\n",
    "df = pd.read_csv(\"../data/train.csv\")\n",
    "df.tail()"
   ]
  },
  {
   "cell_type": "code",
   "execution_count": 153,
   "metadata": {},
   "outputs": [],
   "source": [
    "y0, tX0, id0 = load_data_jet_number(\"../data/train.csv\", 0)\n",
    "y1, tX1, id1 = load_data_jet_number(\"../data/train.csv\", 1)\n",
    "y2, tX2, id2 = load_data_jet_number(\"../data/train.csv\", 2)\n",
    "y3, tX3, id3 = load_data_jet_number(\"../data/train.csv\", 3)\n",
    "tX0_standardized, tX0_mean, tX0_std= standardize(tX0)\n",
    "tX1_standardized, tX1_mean, tX1_std= standardize(tX1)\n",
    "tX2_standardized, tX2_mean, tX2_std= standardize(tX2)\n",
    "tX3_standardized, tX3_mean, tX3_std= standardize(tX3)"
   ]
  },
  {
   "cell_type": "code",
   "execution_count": 248,
   "metadata": {},
   "outputs": [
    {
     "data": {
      "text/plain": [
       "249"
      ]
     },
     "execution_count": 248,
     "metadata": {},
     "output_type": "execute_result"
    }
   ],
   "source": [
    "dfv=df.values\n",
    "a=np.where(dfv[:,2]==-999)\n",
    "b=np.where(dfv[a,1]!='b')\n",
    "len(np.where(dfv[b,24]==3)[0])"
   ]
  },
  {
   "cell_type": "code",
   "execution_count": 220,
   "metadata": {},
   "outputs": [
    {
     "name": "stdout",
     "output_type": "stream",
     "text": [
      "(99913, 18)\n"
     ]
    },
    {
     "data": {
      "text/plain": [
       "array([[-9.99000e+02,  8.62400e+01,  7.96920e+01, ...,  5.12760e+01,\n",
       "         6.88000e-01,  2.50178e+02],\n",
       "       [-9.99000e+02,  1.09412e+02,  1.43980e+01, ...,  7.51970e+01,\n",
       "        -1.58300e+00,  1.98616e+02],\n",
       "       [-9.99000e+02,  8.51860e+01,  6.88270e+01, ...,  4.46980e+01,\n",
       "        -2.03300e+00,  1.51816e+02],\n",
       "       ...,\n",
       "       [-9.99000e+02,  7.19890e+01,  3.65480e+01, ...,  4.65200e+01,\n",
       "         2.85900e+00,  1.44665e+02],\n",
       "       [-9.99000e+02,  5.81790e+01,  6.80830e+01, ...,  4.67370e+01,\n",
       "        -8.67000e-01,  8.04080e+01],\n",
       "       [-9.99000e+02,  7.27560e+01,  7.08310e+01, ...,  4.07290e+01,\n",
       "        -1.59600e+00,  9.94050e+01]])"
      ]
     },
     "execution_count": 220,
     "metadata": {},
     "output_type": "execute_result"
    }
   ],
   "source": [
    "pd.DataFrame(tX0)\n",
    "print(tX0.shape)\n",
    "a=np.where(tX0[:,0]==-999)\n",
    "tX0[a]"
   ]
  },
  {
   "cell_type": "code",
   "execution_count": 155,
   "metadata": {},
   "outputs": [
    {
     "name": "stdout",
     "output_type": "stream",
     "text": [
      "(99913, 18)\n",
      "(77544, 22)\n",
      "(50379, 29)\n",
      "(22164, 29)\n"
     ]
    }
   ],
   "source": [
    "print(tX0_standardized.shape)\n",
    "print(tX1_standardized.shape)\n",
    "print(tX2_standardized.shape)\n",
    "print(tX3_standardized.shape)"
   ]
  },
  {
   "cell_type": "markdown",
   "metadata": {},
   "source": [
    "## Do your thing crazy machine learning thing here :) ..."
   ]
  },
  {
   "cell_type": "code",
   "execution_count": null,
   "metadata": {
    "scrolled": true
   },
   "outputs": [],
   "source": []
  },
  {
   "cell_type": "code",
   "execution_count": 196,
   "metadata": {
    "scrolled": true
   },
   "outputs": [],
   "source": [
    "lambda_=0.0000001\n",
    "\n",
    "weights_0, loss_0 = ridge_regression(y0, tX0_standardized,lambda_)\n",
    "weights_1, loss_1 = ridge_regression(y1, tX1_standardized,lambda_)\n",
    "weights_2, loss_2 = ridge_regression(y2, tX2_standardized,lambda_)\n",
    "weights_3, loss_3 = ridge_regression(y3, tX3_standardized,lambda_)"
   ]
  },
  {
   "cell_type": "code",
   "execution_count": 197,
   "metadata": {},
   "outputs": [
    {
     "name": "stdout",
     "output_type": "stream",
     "text": [
      "0.2720478576215464\n",
      "0.37240495362758025\n",
      "0.35483841849124625\n",
      "0.3584559938582396\n"
     ]
    }
   ],
   "source": [
    "print(loss_0)\n",
    "print(loss_1)\n",
    "print(loss_2)\n",
    "print(loss_3)"
   ]
  },
  {
   "cell_type": "markdown",
   "metadata": {},
   "source": [
    "# Generate predictions and save ouput in csv format for submission:"
   ]
  },
  {
   "cell_type": "code",
   "execution_count": 126,
   "metadata": {},
   "outputs": [],
   "source": [
    "DATA_TEST_PATH = '../data/test.csv' # TODO: download test data and supply path here \n",
    "_, tX_test, ids_test = load_csv_data(DATA_TEST_PATH)"
   ]
  },
  {
   "cell_type": "code",
   "execution_count": 127,
   "metadata": {},
   "outputs": [
    {
     "name": "stdout",
     "output_type": "stream",
     "text": [
      "(568238, 30) (568238,)\n"
     ]
    }
   ],
   "source": [
    "print(tX_test.shape, ids_test.shape)"
   ]
  },
  {
   "cell_type": "code",
   "execution_count": 128,
   "metadata": {},
   "outputs": [],
   "source": [
    "_, tX0_te, id0_te = load_data_jet_number(\"../data/test.csv\", 0)\n",
    "_, tX1_te, id1_te = load_data_jet_number(\"../data/test.csv\", 1)\n",
    "_, tX2_te, id2_te = load_data_jet_number(\"../data/test.csv\", 2)\n",
    "_, tX3_te, id3_te = load_data_jet_number(\"../data/test.csv\", 3)\n",
    "tX0_te_standardized, tX0_te_mean, tX0_te_std= standardize(tX0_te)\n",
    "tX1_te_standardized, tX1_te_mean, tX1_te_std= standardize(tX1_te)\n",
    "tX2_te_standardized, tX2_te_mean, tX2_te_std= standardize(tX2_te)\n",
    "tX3_te_standardized, tX3_te_mean, tX3_te_std= standardize(tX3_te)"
   ]
  },
  {
   "cell_type": "code",
   "execution_count": 132,
   "metadata": {},
   "outputs": [],
   "source": [
    "OUTPUT_PATH = '../data/pred.csv' # TODO: fill in desired name of output file for submission\n",
    "y0_pred = predict_labels(weights_0, tX0_te_standardized)\n",
    "y1_pred = predict_labels(weights_1, tX1_te_standardized)\n",
    "y2_pred = predict_labels(weights_2, tX2_te_standardized)\n",
    "y3_pred = predict_labels(weights_3, tX3_te_standardized)"
   ]
  },
  {
   "cell_type": "code",
   "execution_count": 133,
   "metadata": {},
   "outputs": [],
   "source": [
    "y_pred_all=np.concatenate([y0_pred,y1_pred,y2_pred,y3_pred])\n",
    "ids_pred_all=np.concatenate([id0_te,id1_te,id2_te,id3_te])\n",
    "y_and_ids=list(zip(*sorted(zip(ids_pred_all, y_pred_all))))\n",
    "ids_test=y_and_ids[0]\n",
    "y_pred=y_and_ids[1]"
   ]
  },
  {
   "cell_type": "code",
   "execution_count": 134,
   "metadata": {
    "jupyter": {
     "outputs_hidden": true
    }
   },
   "outputs": [],
   "source": [
    "create_csv_submission(ids_test, y_pred, OUTPUT_PATH)"
   ]
  },
  {
   "cell_type": "code",
   "execution_count": null,
   "metadata": {},
   "outputs": [],
   "source": []
  },
  {
   "cell_type": "code",
   "execution_count": null,
   "metadata": {},
   "outputs": [],
   "source": []
  },
  {
   "cell_type": "code",
   "execution_count": null,
   "metadata": {},
   "outputs": [],
   "source": []
  }
 ],
 "metadata": {
  "anaconda-cloud": {},
  "kernelspec": {
   "display_name": "Python 3",
   "language": "python",
   "name": "python3"
  },
  "language_info": {
   "codemirror_mode": {
    "name": "ipython",
    "version": 3
   },
   "file_extension": ".py",
   "mimetype": "text/x-python",
   "name": "python",
   "nbconvert_exporter": "python",
   "pygments_lexer": "ipython3",
   "version": "3.6.8"
  }
 },
 "nbformat": 4,
 "nbformat_minor": 4
}
