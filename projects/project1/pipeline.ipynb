{
 "cells": [
  {
   "cell_type": "code",
   "execution_count": null,
   "id": "224b9347-28f9-4608-a57a-69cbe03ae7c1",
   "metadata": {},
   "outputs": [],
   "source": [
    "#Declare constants for pipelining\n",
    "models_to_test = ['logistic']"
   ]
  },
  {
   "cell_type": "code",
   "execution_count": null,
   "id": "c3458209-e5ce-444b-ab2c-35577de9bd52",
   "metadata": {},
   "outputs": [],
   "source": []
  }
 ],
 "metadata": {
  "kernelspec": {
   "display_name": "Python [conda env:ada] *",
   "language": "python",
   "name": "conda-env-ada-py"
  },
  "language_info": {
   "codemirror_mode": {
    "name": "ipython",
    "version": 3
   },
   "file_extension": ".py",
   "mimetype": "text/x-python",
   "name": "python",
   "nbconvert_exporter": "python",
   "pygments_lexer": "ipython3",
   "version": "3.11.8"
  }
 },
 "nbformat": 4,
 "nbformat_minor": 5
}
