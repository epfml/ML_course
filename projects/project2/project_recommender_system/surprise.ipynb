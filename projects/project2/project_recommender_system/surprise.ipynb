{
 "cells": [
  {
   "cell_type": "code",
   "execution_count": 44,
   "metadata": {},
   "outputs": [
    {
     "name": "stdout",
     "output_type": "stream",
     "text": [
      "Requirement already satisfied: surprise in /home/samuel/.local/lib/python3.7/site-packages (0.1)\n",
      "Requirement already satisfied: scikit-surprise in /home/samuel/.local/lib/python3.7/site-packages (from surprise) (1.1.0)\n",
      "Requirement already satisfied: scipy>=1.0.0 in /home/samuel/.local/lib/python3.7/site-packages (from scikit-surprise->surprise) (1.3.1)\n",
      "Requirement already satisfied: numpy>=1.11.2 in /home/samuel/.local/lib/python3.7/site-packages (from scikit-surprise->surprise) (1.17.3)\n",
      "Requirement already satisfied: six>=1.10.0 in /usr/lib/python3/dist-packages (from scikit-surprise->surprise) (1.12.0)\n",
      "Requirement already satisfied: joblib>=0.11 in /home/samuel/.local/lib/python3.7/site-packages (from scikit-surprise->surprise) (0.14.0)\n"
     ]
    }
   ],
   "source": [
    "import pandas as pd\n",
    "import numpy as np\n",
    "\n",
    "!pip3 install surprise\n",
    "from surprise import Reader\n",
    "from surprise import Dataset\n",
    "from surprise import SVD               # importer ici les algo qu'on testera\n",
    "from surprise import model_selection\n",
    "\n",
    "from sklearn.model_selection import train_test_split "
   ]
  },
  {
   "cell_type": "code",
   "execution_count": 45,
   "metadata": {},
   "outputs": [
    {
     "data": {
      "text/html": [
       "<div>\n",
       "<style scoped>\n",
       "    .dataframe tbody tr th:only-of-type {\n",
       "        vertical-align: middle;\n",
       "    }\n",
       "\n",
       "    .dataframe tbody tr th {\n",
       "        vertical-align: top;\n",
       "    }\n",
       "\n",
       "    .dataframe thead th {\n",
       "        text-align: right;\n",
       "    }\n",
       "</style>\n",
       "<table border=\"1\" class=\"dataframe\">\n",
       "  <thead>\n",
       "    <tr style=\"text-align: right;\">\n",
       "      <th></th>\n",
       "      <th>Id</th>\n",
       "      <th>Prediction</th>\n",
       "      <th>user</th>\n",
       "      <th>item</th>\n",
       "    </tr>\n",
       "  </thead>\n",
       "  <tbody>\n",
       "    <tr>\n",
       "      <td>0</td>\n",
       "      <td>r44_c1</td>\n",
       "      <td>4</td>\n",
       "      <td>44</td>\n",
       "      <td>1</td>\n",
       "    </tr>\n",
       "    <tr>\n",
       "      <td>1</td>\n",
       "      <td>r61_c1</td>\n",
       "      <td>3</td>\n",
       "      <td>61</td>\n",
       "      <td>1</td>\n",
       "    </tr>\n",
       "    <tr>\n",
       "      <td>2</td>\n",
       "      <td>r67_c1</td>\n",
       "      <td>4</td>\n",
       "      <td>67</td>\n",
       "      <td>1</td>\n",
       "    </tr>\n",
       "    <tr>\n",
       "      <td>3</td>\n",
       "      <td>r72_c1</td>\n",
       "      <td>3</td>\n",
       "      <td>72</td>\n",
       "      <td>1</td>\n",
       "    </tr>\n",
       "    <tr>\n",
       "      <td>4</td>\n",
       "      <td>r86_c1</td>\n",
       "      <td>5</td>\n",
       "      <td>86</td>\n",
       "      <td>1</td>\n",
       "    </tr>\n",
       "    <tr>\n",
       "      <td>...</td>\n",
       "      <td>...</td>\n",
       "      <td>...</td>\n",
       "      <td>...</td>\n",
       "      <td>...</td>\n",
       "    </tr>\n",
       "    <tr>\n",
       "      <td>1176947</td>\n",
       "      <td>r9990_c1000</td>\n",
       "      <td>4</td>\n",
       "      <td>9990</td>\n",
       "      <td>1000</td>\n",
       "    </tr>\n",
       "    <tr>\n",
       "      <td>1176948</td>\n",
       "      <td>r9992_c1000</td>\n",
       "      <td>5</td>\n",
       "      <td>9992</td>\n",
       "      <td>1000</td>\n",
       "    </tr>\n",
       "    <tr>\n",
       "      <td>1176949</td>\n",
       "      <td>r9994_c1000</td>\n",
       "      <td>3</td>\n",
       "      <td>9994</td>\n",
       "      <td>1000</td>\n",
       "    </tr>\n",
       "    <tr>\n",
       "      <td>1176950</td>\n",
       "      <td>r9997_c1000</td>\n",
       "      <td>4</td>\n",
       "      <td>9997</td>\n",
       "      <td>1000</td>\n",
       "    </tr>\n",
       "    <tr>\n",
       "      <td>1176951</td>\n",
       "      <td>r10000_c1000</td>\n",
       "      <td>3</td>\n",
       "      <td>10000</td>\n",
       "      <td>1000</td>\n",
       "    </tr>\n",
       "  </tbody>\n",
       "</table>\n",
       "<p>1176952 rows × 4 columns</p>\n",
       "</div>"
      ],
      "text/plain": [
       "                   Id  Prediction   user  item\n",
       "0              r44_c1           4     44     1\n",
       "1              r61_c1           3     61     1\n",
       "2              r67_c1           4     67     1\n",
       "3              r72_c1           3     72     1\n",
       "4              r86_c1           5     86     1\n",
       "...               ...         ...    ...   ...\n",
       "1176947   r9990_c1000           4   9990  1000\n",
       "1176948   r9992_c1000           5   9992  1000\n",
       "1176949   r9994_c1000           3   9994  1000\n",
       "1176950   r9997_c1000           4   9997  1000\n",
       "1176951  r10000_c1000           3  10000  1000\n",
       "\n",
       "[1176952 rows x 4 columns]"
      ]
     },
     "execution_count": 45,
     "metadata": {},
     "output_type": "execute_result"
    }
   ],
   "source": [
    "df = pd.read_csv(\"Datasets/data_train.csv\")\n",
    "\n",
    "df[[\"user\", \"item\"]] = df.Id.str.split(\"_\", expand=True)\n",
    "\n",
    "df.user = df.user.str.replace(\"r\", \"\")\n",
    "df.item = df.item.str.replace(\"c\", \"\")\n",
    "\n",
    "#########\n",
    "df2 = pd.read_csv(\"Datasets/sample_submission.csv\")\n",
    "\n",
    "df2[[\"user\", \"item\"]] = df2.Id.str.split(\"_\", expand=True)\n",
    "\n",
    "df2.user = df2.user.str.replace(\"r\", \"\")\n",
    "df2.item = df2.item.str.replace(\"c\", \"\")\n",
    "\n",
    "df"
   ]
  },
  {
   "cell_type": "code",
   "execution_count": 46,
   "metadata": {},
   "outputs": [
    {
     "data": {
      "text/plain": [
       "<matplotlib.axes._subplots.AxesSubplot at 0x7f19e559dd10>"
      ]
     },
     "execution_count": 46,
     "metadata": {},
     "output_type": "execute_result"
    },
    {
     "data": {
      "image/png": "[encoded data removed]",
      "text/plain": [
       "<Figure size 432x288 with 1 Axes>"
      ]
     },
     "metadata": {
      "needs_background": "light"
     },
     "output_type": "display_data"
    }
   ],
   "source": [
    "df.Prediction.value_counts().plot.bar()"
   ]
  },
  {
   "cell_type": "code",
   "execution_count": 47,
   "metadata": {},
   "outputs": [],
   "source": [
    "df_fifth, test = train_test_split(df, test_size=0.9, random_state=1)"
   ]
  },
  {
   "cell_type": "code",
   "execution_count": 49,
   "metadata": {},
   "outputs": [],
   "source": [
    "reader = Reader(rating_scale=(1,5)) \n",
    "data = Dataset.load_from_df(df[[\"user\",\"item\",\"Prediction\"]], reader)\n",
    "data_fifth = Dataset.load_from_df(df_fifth[[\"user\",\"item\",\"Prediction\"]], reader)\n"
   ]
  },
  {
   "cell_type": "code",
   "execution_count": 51,
   "metadata": {},
   "outputs": [
    {
     "ename": "NameError",
     "evalue": "name 'df' is not defined",
     "output_type": "error",
     "traceback": [
      "\u001b[0;31m---------------------------------------------------------------------------\u001b[0m",
      "\u001b[0;31mNameError\u001b[0m                                 Traceback (most recent call last)",
      "\u001b[0;32m<ipython-input-51-3641127342b3>\u001b[0m in \u001b[0;36m<module>\u001b[0;34m\u001b[0m\n\u001b[0;32m----> 1\u001b[0;31m \u001b[0;32mdel\u001b[0m \u001b[0mdf\u001b[0m\u001b[0;31m#freeing memory\u001b[0m\u001b[0;34m\u001b[0m\u001b[0;34m\u001b[0m\u001b[0m\n\u001b[0m\u001b[1;32m      2\u001b[0m \u001b[0;32mdel\u001b[0m \u001b[0mdf_fifth\u001b[0m\u001b[0;34m\u001b[0m\u001b[0;34m\u001b[0m\u001b[0m\n",
      "\u001b[0;31mNameError\u001b[0m: name 'df' is not defined"
     ]
    }
   ],
   "source": [
    "del df#freeing memory\n",
    "del df_fifth"
   ]
  },
  {
   "cell_type": "markdown",
   "metadata": {},
   "source": [
    "Principe de SKLearn et Surprise qui est basé sur le premier:\n",
    "* définition d'un test model à travers model_selection.gridsearchcv\n",
    "* testmodel.fit qui va tester les model et paramètres pour retourner ce qu'il y a de mieux\n",
    "* algorithm = testmodel.best_estimator[\"type de erreur choisi\"] nous donne le meilleur algo selon les meilleur paramtère\n",
    "* algo.fit(data)\n",
    "* algo.estimate(data a tester)"
   ]
  },
  {
   "cell_type": "markdown",
   "metadata": {},
   "source": [
    "Dans la cell suivante, on va créer un \"model selection\" qui se base sur grid search cv. Ce dernier prend des paramètres et pourrait prendre plusieurs algos, a tester chacun selon les paramètres etc etc, mais ce n'est qu'une définition de model selection"
   ]
  },
  {
   "cell_type": "markdown",
   "metadata": {},
   "source": [
    "Parameters pour SVD, pas forcément tous mais principalement :\n",
    "* n_factors – The number of factors. Default is 100.\n",
    "* n_epochs – The number of iteration of the SGD procedure. Default is 20.\n",
    "* biased (bool) – Whether to use baselines (or biases). See note above. Default is True.\n",
    "* init_mean – The mean of the normal distribution for factor vectors initialization. Default is 0.\n",
    "* init_std_dev – The standard deviation of the normal distribution for factor vectors initialization. Default is 0.1.\n",
    "* lr_all – The learning rate for all parameters. Default is 0.005.\n",
    "* reg_all – The regularization term for all parameters. Default is 0.02.\n",
    "* lr_bu – The learning rate for bu. Takes precedence over lr_all if set. Default is None.\n",
    "* lr_bi – The learning rate for bi. Takes precedence over lr_all if set. Default is None.\n",
    "* lr_pu – The learning rate for pu. Takes precedence over lr_all if set. Default is None.\n",
    "* lr_qi – The learning rate for qi. Takes precedence over lr_all if set. Default is None.\n",
    "* reg_bu – The regularization term for bu. Takes precedence over reg_all if set. Default is None.\n",
    "* reg_bi – The regularization term for bi. Takes precedence over reg_all if set. Default is None.3\n",
    "* reg_pu – The regularization term for pu. Takes precedence over reg_all if set. Default is None.\n",
    "* reg_qi – The regularization term for qi. Takes precedence over reg_all if set. Default is None.\n",
    "* random_state (int, RandomState instance from numpy, or None) – Determines the RNG that will be used for initialization. If int, random_state will be used as a seed for a new RNG. This is useful to get the same initialization over multiple calls to fit(). If RandomState instance, this same instance is used as RNG. If None, the current RNG from numpy is used. Default is None.\n",
    "* verbose – If True, prints the current epoch. Default is False.m"
   ]
  },
  {
   "cell_type": "code",
   "execution_count": 18,
   "metadata": {},
   "outputs": [],
   "source": [
    "param_grid = {\n",
    "    'n_epochs': [500],\n",
    "    'lr_all': [0.001, 0.003, 0.005],\n",
    "    'reg_all': [0.065, 0.07, 0.075]\n",
    "} \n",
    "cv=5\n",
    "algorithm = SVD\n",
    "\n",
    "\n",
    "#définition du model selon les paramètres, attention a importer dans la première cell les autres algos\n",
    "\n",
    "#  https://surprise.readthedocs.io/en/stable/model_selection.html#surprise.model_selection.search.GridSearchCV\n",
    "\n",
    "gs = model_selection.GridSearchCV(algorithm, param_grid, measures=['rmse'], cv=cv, n_jobs=-5, joblib_verbose=100)  #enlever mae car non utilisé dans le projet pour sauver du temps\n"
   ]
  },
  {
   "cell_type": "code",
   "execution_count": 20,
   "metadata": {},
   "outputs": [
    {
     "name": "stdout",
     "output_type": "stream",
     "text": [
      "Total number of tasks to compute :  30\n"
     ]
    }
   ],
   "source": [
    "tasks = 1\n",
    "for i in param_grid:\n",
    "    tasks *= len(param_grid.get(i))\n",
    "\n",
    "tasks *= cv\n",
    "print(\"Total number of tasks to compute : \",tasks)"
   ]
  },
  {
   "cell_type": "code",
   "execution_count": null,
   "metadata": {},
   "outputs": [],
   "source": [
    "gs.fit(data) # les calculs se font actuellement ici "
   ]
  },
  {
   "cell_type": "code",
   "execution_count": null,
   "metadata": {},
   "outputs": [],
   "source": [
    "tmp = pd.DataFrame(gs.cv_results)\n",
    "tmp"
   ]
  },
  {
   "cell_type": "code",
   "execution_count": null,
   "metadata": {},
   "outputs": [],
   "source": [
    "tmp = tmp.drop(columns=[\"rank_test_rmse\", \"mean_fit_time\", \"mean_test_time\" ,\"std_fit_time\", \"std_test_time\", \"param_n_epochs\", \"param_lr_all\",\"param_reg_all\"])"
   ]
  },
  {
   "cell_type": "code",
   "execution_count": null,
   "metadata": {},
   "outputs": [],
   "source": [
    "tmp.plot.bar(figsize=(12,8), ylim=(0.98, 1.02))"
   ]
  },
  {
   "cell_type": "code",
   "execution_count": null,
   "metadata": {},
   "outputs": [],
   "source": [
    "print(gs.best_params)\n",
    "print(gs.best_score)"
   ]
  },
  {
   "cell_type": "code",
   "execution_count": null,
   "metadata": {},
   "outputs": [],
   "source": [
    "algo = gs.best_estimator[\"rmse\"] #choix de l'algo selon l'erreur, touuuut inclus"
   ]
  },
  {
   "cell_type": "code",
   "execution_count": null,
   "metadata": {},
   "outputs": [],
   "source": [
    "algo.fit(data.build_full_trainset()) # ici on va train notre algo sur le dataset complet, sans cv car les paramètres sont optimaux"
   ]
  },
  {
   "cell_type": "markdown",
   "metadata": {},
   "source": [
    "La différence entre algo.predict et algo.estimate est que predict devrait être utilisé sur des valeurs que l'on connait d'avance, par exemple si on sait que le user 5 pour le film 12 a voté 3, on peut rentrer ces valeurs et voir \"l'erreur\"\n",
    "algo.estimate fait littéralement ce qu'on veut pour le projet, c'est à dire estimer. Pas à 100% sur sur de ça ici mais c'est ce qui me parait le plus juste. Pour l'instant on boucle sur algo.estimate mais il y a peut etre mieux à faire \n",
    "il faudra round la valeur la remettre dans le pred.csv etc"
   ]
  },
  {
   "cell_type": "code",
   "execution_count": null,
   "metadata": {
    "scrolled": true
   },
   "outputs": [],
   "source": [
    "array = np.ones((df2.shape[0],1))\n",
    "change_five=0\n",
    "change_zero=0\n",
    "\n",
    "for i in df2.iterrows():\n",
    "    tmp = algo.estimate(int(i[1][2]), int(i[1][3]))\n",
    "    tmp = round(tmp)\n",
    "    if int(tmp)>5:\n",
    "      tmp=5;\n",
    "      change_fiveve +=1\n",
    "    if int(tmp)<1:\n",
    "      tmp=1;\n",
    "      change_zero +=1\n",
    "    array[i[0]]= (int(tmp))\n",
    "    if i[0]%10000==0:\n",
    "        print(i[0])\n",
    "        \n",
    "print(\"Changement de zero : \", change_zero)\n",
    "print(\"Changement de cinq : \", change_five)"
   ]
  },
  {
   "cell_type": "code",
   "execution_count": null,
   "metadata": {},
   "outputs": [],
   "source": [
    "array"
   ]
  },
  {
   "cell_type": "code",
   "execution_count": null,
   "metadata": {},
   "outputs": [],
   "source": [
    "df2.Prediction = array"
   ]
  },
  {
   "cell_type": "code",
   "execution_count": null,
   "metadata": {},
   "outputs": [],
   "source": [
    "#df2[df2.Prediction==5] uncomment to see the shape of how many of x value there are"
   ]
  },
  {
   "cell_type": "code",
   "execution_count": null,
   "metadata": {},
   "outputs": [],
   "source": [
    "df2 = df2.drop(columns=[\"user\", \"item\"])"
   ]
  },
  {
   "cell_type": "code",
   "execution_count": null,
   "metadata": {},
   "outputs": [],
   "source": [
    "df2.to_csv(\"Datasets/submission.csv\", index=False)"
   ]
  }
 ],
 "metadata": {
  "kernelspec": {
   "display_name": "Python 3",
   "language": "python",
   "name": "python3"
  },
  "language_info": {
   "codemirror_mode": {
    "name": "ipython",
    "version": 3
   },
   "file_extension": ".py",
   "mimetype": "text/x-python",
   "name": "python",
   "nbconvert_exporter": "python",
   "pygments_lexer": "ipython3",
   "version": "3.7.5"
  }
 },
 "nbformat": 4,
 "nbformat_minor": 4
}
