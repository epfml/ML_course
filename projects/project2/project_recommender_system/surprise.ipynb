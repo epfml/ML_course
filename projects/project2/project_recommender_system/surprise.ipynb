{
 "cells": [
  {
   "cell_type": "code",
   "execution_count": null,
   "metadata": {},
   "outputs": [],
   "source": [
    "import pandas as pd\n",
    "import numpy as np\n",
    "\n",
    "from surprise import Reader\n",
    "from surprise import Dataset\n",
    "from surprise import SVD               # importer ici les algo qu'on testera\n",
    "from surprise import model_selection"
   ]
  },
  {
   "cell_type": "code",
   "execution_count": null,
   "metadata": {},
   "outputs": [],
   "source": [
    "df = pd.read_csv(\"Datasets/data_train.csv\")\n",
    "\n",
    "df[[\"user\", \"item\"]] = df.Id.str.split(\"_\", expand=True)\n",
    "\n",
    "df.user = df.user.str.replace(\"r\", \"\")\n",
    "df.item = df.item.str.replace(\"c\", \"\")\n",
    "\n",
    "#########\n",
    "df2 = pd.read_csv(\"Datasets/sample_submission.csv\")\n",
    "\n",
    "df2[[\"user\", \"item\"]] = df2.Id.str.split(\"_\", expand=True)\n",
    "\n",
    "df2.user = df2.user.str.replace(\"r\", \"\")\n",
    "df2.item = df2.item.str.replace(\"c\", \"\")\n",
    "\n",
    "df"
   ]
  },
  {
   "cell_type": "code",
   "execution_count": null,
   "metadata": {},
   "outputs": [],
   "source": [
    "reader = Reader(rating_scale=(1,5)) \n",
    "data = Dataset.load_from_df(df[[\"user\",\"item\",\"Prediction\"]], reader)"
   ]
  },
  {
   "cell_type": "markdown",
   "metadata": {},
   "source": [
    "Principe de SKLearn et Surprise qui est basé sur le premier:\n",
    "* définition d'un test model à travers model_selection.gridsearchcv\n",
    "* testmodel.fit qui va tester les model et paramètres pour retourner ce qu'il y a de mieux\n",
    "* algorithm = testmodel.best_estimator[\"type de erreur choisi\"] nous donne le meilleur algo selon les meilleur paramtère\n",
    "* algo.fit(data)\n",
    "* algo.estimate(data a tester)"
   ]
  },
  {
   "cell_type": "markdown",
   "metadata": {},
   "source": [
    "Dans la cell suivante, on va créer un \"model selection\" qui se base sur grid search cv. Ce dernier prend des paramètres et pourrait prendre plusieurs algos, a tester chacun selon les paramètres etc etc, mais ce n'est qu'une définition de model selection"
   ]
  },
  {
   "cell_type": "markdown",
   "metadata": {},
   "source": [
    "Parameters pour SVD, pas forcément tous mais principalement :\n",
    "* n_factors – The number of factors. Default is 100.\n",
    "* n_epochs – The number of iteration of the SGD procedure. Default is 20.\n",
    "* biased (bool) – Whether to use baselines (or biases). See note above. Default is True.\n",
    "* init_mean – The mean of the normal distribution for factor vectors initialization. Default is 0.\n",
    "* init_std_dev – The standard deviation of the normal distribution for factor vectors initialization. Default is 0.1.\n",
    "* lr_all – The learning rate for all parameters. Default is 0.005.\n",
    "* reg_all – The regularization term for all parameters. Default is 0.02.\n",
    "* lr_bu – The learning rate for bu. Takes precedence over lr_all if set. Default is None.\n",
    "* lr_bi – The learning rate for bi. Takes precedence over lr_all if set. Default is None.\n",
    "* lr_pu – The learning rate for pu. Takes precedence over lr_all if set. Default is None.\n",
    "* lr_qi – The learning rate for qi. Takes precedence over lr_all if set. Default is None.\n",
    "* reg_bu – The regularization term for bu. Takes precedence over reg_all if set. Default is None.\n",
    "* reg_bi – The regularization term for bi. Takes precedence over reg_all if set. Default is None.3\n",
    "* reg_pu – The regularization term for pu. Takes precedence over reg_all if set. Default is None.\n",
    "* reg_qi – The regularization term for qi. Takes precedence over reg_all if set. Default is None.\n",
    "* random_state (int, RandomState instance from numpy, or None) – Determines the RNG that will be used for initialization. If int, random_state will be used as a seed for a new RNG. This is useful to get the same initialization over multiple calls to fit(). If RandomState instance, this same instance is used as RNG. If None, the current RNG from numpy is used. Default is None.\n",
    "* verbose – If True, prints the current epoch. Default is False.m"
   ]
  },
  {
   "cell_type": "code",
   "execution_count": null,
   "metadata": {},
   "outputs": [],
   "source": [
    "param_grid = {\n",
    "    'n_epochs': [5, 10],\n",
    "    'lr_all': [0.002, 0.005],\n",
    "    'reg_all': [0.4, 0.6]\n",
    "} \n",
    "cv=5\n",
    "algorithm = SVD\n",
    "\n",
    "\n",
    "#définition du model selon les paramètres, attention a importer dans la première cell les autres algos\n",
    "\n",
    "#  https://surprise.readthedocs.io/en/stable/model_selection.html#surprise.model_selection.search.GridSearchCV\n",
    "\n",
    "gs = model_selection.GridSearchCV(algorithm, param_grid, measures=['rmse'], cv=cv)  #enlever mae car non utilisé dans le projet pour sauver du temps\n"
   ]
  },
  {
   "cell_type": "code",
   "execution_count": null,
   "metadata": {},
   "outputs": [],
   "source": [
    "gs.fit(data) # les calculs se font actuellement ici "
   ]
  },
  {
   "cell_type": "code",
   "execution_count": null,
   "metadata": {},
   "outputs": [],
   "source": [
    "pd.DataFrame(gs.cv_results)"
   ]
  },
  {
   "cell_type": "code",
   "execution_count": null,
   "metadata": {},
   "outputs": [],
   "source": [
    "print(gs.best_params)\n",
    "print(gs.best_score)"
   ]
  },
  {
   "cell_type": "code",
   "execution_count": null,
   "metadata": {},
   "outputs": [],
   "source": [
    "algo = gs.best_estimator[\"rmse\"] #choix de l'algo selon l'erreur, touuuut inclus"
   ]
  },
  {
   "cell_type": "code",
   "execution_count": null,
   "metadata": {},
   "outputs": [],
   "source": [
    "algo.fit(data.build_full_trainset()) # ici on va train notre algo sur le dataset complet, sans cv car les paramètres sont optimaux"
   ]
  },
  {
   "cell_type": "markdown",
   "metadata": {},
   "source": [
    "La différence entre algo.predict et algo.estimate est que predict devrait être utilisé sur des valeurs que l'on connait d'avance, par exemple si on sait que le user 5 pour le film 12 a voté 3, on peut rentrer ces valeurs et voir \"l'erreur\"\n",
    "algo.estimate fait littéralement ce qu'on veut pour le projet, c'est à dire estimer. Pas à 100% sur sur de ça ici mais c'est ce qui me parait le plus juste. Pour l'instant on boucle sur algo.estimate mais il y a peut etre mieux à faire \n",
    "il faudra round la valeur la remettre dans le pred.csv etc"
   ]
  },
  {
   "cell_type": "code",
   "execution_count": null,
   "metadata": {
    "scrolled": true
   },
   "outputs": [],
   "source": [
    "array = np.ones((df2.shape[0],1))\n",
    "\n",
    "for i in df2.iterrows():\n",
    "    tmp = algo.estimate(int(i[1][2]), int(i[1][3]))\n",
    "    tmp = round(tmp)\n",
    "    array[i[0]]= (int(tmp))\n",
    "    if i[0]%10000==0:\n",
    "        print(i[0])"
   ]
  },
  {
   "cell_type": "code",
   "execution_count": null,
   "metadata": {},
   "outputs": [],
   "source": [
    "array"
   ]
  },
  {
   "cell_type": "code",
   "execution_count": null,
   "metadata": {},
   "outputs": [],
   "source": [
    "df2.Prediction = array"
   ]
  },
  {
   "cell_type": "code",
   "execution_count": null,
   "metadata": {},
   "outputs": [],
   "source": [
    "#df2[df2.Prediction==5] uncomment to see the shape of how many of x value there are"
   ]
  },
  {
   "cell_type": "code",
   "execution_count": null,
   "metadata": {},
   "outputs": [],
   "source": [
    "df2 = df2.drop(columns=[\"user\", \"item\"])"
   ]
  },
  {
   "cell_type": "code",
   "execution_count": null,
   "metadata": {},
   "outputs": [],
   "source": [
    "df2.to_csv(\"Datasets/submission.csv\", index=False)"
   ]
  }
 ],
 "metadata": {
  "kernelspec": {
   "display_name": "Python 3",
   "language": "python",
   "name": "python3"
  },
  "language_info": {
   "codemirror_mode": {
    "name": "ipython",
    "version": 3
   },
   "file_extension": ".py",
   "mimetype": "text/x-python",
   "name": "python",
   "nbconvert_exporter": "python",
   "pygments_lexer": "ipython3",
   "version": "3.7.5rc1"
  }
 },
 "nbformat": 4,
 "nbformat_minor": 4
}
